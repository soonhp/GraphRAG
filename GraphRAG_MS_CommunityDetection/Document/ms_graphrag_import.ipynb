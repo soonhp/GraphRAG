{
  "cells": [
    {
      "cell_type": "markdown",
      "metadata": {
        "colab_type": "text",
        "id": "view-in-github"
      },
      "source": [
        "<a href=\"https://colab.research.google.com/github/tomasonjo/blogs/blob/master/llm/ms_graphrag.ipynb\" target=\"_parent\"><img src=\"https://colab.research.google.com/assets/colab-badge.svg\" alt=\"Open In Colab\"/></a>"
      ]
    },
    {
      "cell_type": "code",
      "execution_count": 10,
      "metadata": {
        "colab": {
          "base_uri": "https://localhost:8080/"
        },
        "id": "9K7S1j3FOoi0",
        "outputId": "0e6fd76d-1b4e-4eda-8a02-95468cd8158f"
      },
      "outputs": [],
      "source": [
        "# !pip install --quiet langchain-community langchain-experimental langchain-openai neo4j graphdatascience tiktoken retry"
      ]
    },
    {
      "cell_type": "code",
      "execution_count": 1,
      "metadata": {
        "colab": {
          "base_uri": "https://localhost:8080/"
        },
        "id": "0rrFvqkEO9bF",
        "outputId": "b85e1c30-7699-422d-ab7f-e159436ec4af"
      },
      "outputs": [],
      "source": [
        "import getpass\n",
        "import os\n",
        "from dotenv import load_dotenv, find_dotenv\n",
        "load_dotenv(find_dotenv())\n",
        "\n",
        "os.environ[\"OPENAI_API_KEY\"] = os.getenv(\"OPENAI_API_KEY\")"
      ]
    },
    {
      "cell_type": "markdown",
      "metadata": {
        "id": "dmnDlh4BeFJM"
      },
      "source": [
        "# GraphRAG with Neo4j and LangChain: Constructing the Graph\n",
        "## Combine text extraction, network analysis, and LLM prompting and summarization for improved RAG accuracy\n",
        "\n",
        "I am always intrigued by new approaches to implementing Retrieval-Augmented Generation (RAG) over graphs, often called GraphRAG. However, it seems that everyone has a different implementation in mind when they hear the term GraphRAG. In this blog post, we will dive deep into the “From Local to Global GraphRAG” article and implementation by Microsoft researchers. We will cover the knowledge graph construction and summarization part and leave the retrievers for the next blog post. The researchers were so kind as to provide us with the code repository, and they have a [project page](https://www.microsoft.com/en-us/research/project/graphrag/) as well.\n",
        "\n",
        "The approach taken in the article mentioned above is quite interesting. As far as I understand, it involves using a knowledge graph as a step in the pipeline for condensing and combining information from multiple sources. Extracting entities and relationships from text is nothing new. However, the authors introduce a novel (at least to me) idea of summarizing condensed graph structure and information back as natural language text. The pipeline begins with input text from documents, which are processed to generate a graph. The graph is then converted back into natural language text, where the generated text contains condensed information about specific entities or graph communities previously spread across multiple documents.\n",
        "\n",
        "![title](https://miro.medium.com/v2/resize:fit:1400/format:webp/1*NWkjGfKvWyKJsXfj-HxVjA.png)\n",
        "\n",
        "At a very high level, the input to the GraphRAG pipeline are source documents containing various information. The documents are processed using an LLM to extract structured information about entities appearing in the papers along with their relationships. This extracted structured information is then used to construct a knowledge graph.\n",
        "\n",
        "The advantage of using a knowledge graph data representation is that it can quickly and straightforwardly combine information from multiple documents or data sources about particular entities. As mentioned, the knowledge graph is not the only data representation, though. After the knowledge graph has been constructed, they use a combination of graph algorithms and LLM prompting to generate natural language summaries of communities of entities found in the knowledge graph.\n",
        "\n",
        "These summaries then contain condensed information spreading across multiple data sources and documents for particular entities and communities.\n",
        "\n",
        "For a more detailed understanding of the pipeline, we can refer to the step-by-step description provided in the original paper.\n",
        "\n",
        "![title](https://miro.medium.com/v2/resize:fit:942/format:webp/1*xn10XHns9xQ1WLQxEaSA7w.png)\n",
        "\n",
        "Following is a high-level summary of the pipeline that we will use to reproduce their approach using Neo4j and LangChain.\n",
        "\n",
        "* Indexing — Graph Generation\n",
        "Source Documents to Text Chunks: Source documents are split into smaller text chunks for processing.\n",
        "* Text Chunks to Element Instances: Each text chunk is analyzed to extract entities and relationships, producing a list of tuples representing these elements.\n",
        "* Element Instances to Element Summaries: Extracted entities and relationships are summarized by the LLM into descriptive text blocks for each element.\n",
        "* Element Summaries to Graph Communities: These entity summaries form a graph, which is then partitioned into communities using algorithms like Leiden for hierarchical structure.\n",
        "* Graph Communities to Community Summaries: Summaries of each community are generated with the LLM to understand the dataset’s global topical structure and semantics.\n",
        "\n",
        "#### Retrieval — Answering\n",
        "\n",
        "* Community Summaries to Global Answers: Community summaries are used to answer a user query by generating intermediate answers, which are then aggregated into a final global answer.\n",
        "Note that my implementation was done before their code was available, so there might be slight differences in the underlying approach or LLM prompts being used. I’ll try to explain those differences as we go along.\n",
        "\n",
        "### Setting Up the Neo4j Environment\n",
        "We will use Neo4j as the underlying graph store. The easiest way to get started is to use a free instance of Neo4j Sandbox, which offers cloud instances of the Neo4j database with the Graph Data Science plugin installed. Alternatively, you can set up a local instance of the Neo4j database by downloading the Neo4j Desktop application and creating a local database instance. If you are using a local version, make sure to install both APOC and GDS plugins. For production setups, you can use the paid, managed AuraDS (Data Science) instance, which provides the GDS plugin.\n",
        "\n",
        "We start by creating a Neo4jGraph instance, which is the convenience wrapper we added to LangChain:"
      ]
    },
    {
      "cell_type": "code",
      "execution_count": 2,
      "metadata": {
        "id": "wbCXrSxUPTIy"
      },
      "outputs": [],
      "source": [
        "from langchain_community.graphs import Neo4jGraph\n",
        "\n",
        "\n",
        "os.environ[\"NEO4J_URI\"] = os.getenv(\"NEO4J_URI\")\n",
        "os.environ[\"NEO4J_DATABASE\"] = \"gorag-samsung-02-ms\"\n",
        "os.environ[\"NEO4J_USERNAME\"] = os.getenv(\"NEO4J_USERNAME\")\n",
        "os.environ[\"NEO4J_PASSWORD\"] = os.getenv(\"NEO4J_PASSWORD\")\n",
        "\n",
        "graph = Neo4jGraph()"
      ]
    },
    {
      "cell_type": "code",
      "execution_count": 3,
      "metadata": {},
      "outputs": [
        {
          "name": "stdout",
          "output_type": "stream",
          "text": [
            "gorag-samsung-02-ms\n"
          ]
        }
      ],
      "source": [
        "print(os.environ[\"NEO4J_DATABASE\"])"
      ]
    },
    {
      "cell_type": "markdown",
      "metadata": {
        "id": "C2BE07dRfHf3"
      },
      "source": [
        "### Dataset\n",
        "We will use a news article dataset I created some time ago using Diffbot’s API. I have uploaded it to my GitHub for easier reuse:"
      ]
    },
    {
      "cell_type": "code",
      "execution_count": 4,
      "metadata": {},
      "outputs": [
        {
          "name": "stderr",
          "output_type": "stream",
          "text": [
            "2024-08-05 14:55:45,554 - START: Data load\n",
            "2024-08-05 14:55:45,554 - UPLOAD FILE: SL_J2920W.pdf\n",
            "2024-08-05 14:55:45,564 - METADATA: {'format': 'PDF 1.6', 'title': '', 'author': '', 'subject': '', 'keywords': '', 'creator': '', 'producer': 'macOS 버전 14.5(빌드 23F79) Quartz PDFContext, AppendMode 1.1', 'creationDate': '', 'modDate': \"D:20240715063013Z00'00'\", 'trapped': '', 'encryption': None}\n",
            "2024-08-05 14:55:45,660 - Toc per Created\n"
          ]
        },
        {
          "name": "stdout",
          "output_type": "stream",
          "text": [
            "/home/infocz/soonhyeok/gorag_CommunityDetection/KBlife/samsung_files\n"
          ]
        }
      ],
      "source": [
        "import os\n",
        "import fitz\n",
        "import logging\n",
        "from pathlib import Path\n",
        "\n",
        "logging.basicConfig(format=\"%(asctime)s - %(message)s\", level=\"INFO\")\n",
        "\n",
        "logging.info(\"START: Data load\")\n",
        "data_path = os.getcwd() + \"/samsung_files\"\n",
        "print(data_path)\n",
        "dataFileList = os.listdir(data_path)\n",
        "\n",
        "doctext_dict = {}\n",
        "\n",
        "for file_name in dataFileList:\n",
        "    logging.info(f\"UPLOAD FILE: {file_name}\")\n",
        "    file_path = data_path + \"/\" + file_name\n",
        "\n",
        "    \n",
        "    filePath = Path(file_path)\n",
        "    document = fitz.open(file_path)\n",
        "    file_extension = filePath.suffix.lower()\n",
        "    # 문서 총 페이지 수 확인\n",
        "    page_count = document.page_count\n",
        "\n",
        "    # 목차 추출\n",
        "    toc = document.get_toc()\n",
        "    meta = document.metadata\n",
        "    logging.info(f\"METADATA: {meta}\")\n",
        "    # 페이지와 블록 추출\n",
        "    pages = []\n",
        "    for page_num in range(page_count):\n",
        "        page = document.load_page(page_num)\n",
        "        page_blocks = page.get_text(\"blocks\")\n",
        "        blocks = \"\"\n",
        "        for block in page_blocks:\n",
        "            blocks += (block[4])\n",
        "\n",
        "        pages.append({\"page_num\": page_num + 1, \"blocks\": blocks})\n",
        "\n",
        "\n",
        "    # Toc가 없는 경우\n",
        "    if not toc or len(toc) == 0:\n",
        "        logging.info(\"Toc Empty\")\n",
        "        \n",
        "        for i, page in enumerate(pages):\n",
        "            # Paragraph & Line 생성\n",
        "\n",
        "\n",
        "            block = page[\"blocks\"]\n",
        "            if file_name not in doctext_dict.keys() :\n",
        "                doctext_dict[file_name] = block\n",
        "            else :\n",
        "                doctext_dict[file_name].append(block)\n",
        "        logging.info(\"Doc per Created\")\n",
        "\n",
        "    else:\n",
        "\n",
        "        for entry in toc :\n",
        "            level, title, start_page = entry\n",
        "            end_page = next((e[2] for e in toc if e[2] > start_page), page_count + 1) - 1\n",
        "            for i, page in enumerate(pages):\n",
        "                # Paragraph & Line 생성\n",
        "                # print(\"page : \", page)\n",
        "                block = page[\"blocks\"].replace('\\n', ' ')\n",
        "                # print(\"block : \",block)\n",
        "                if start_page <= page[\"page_num\"] and page[\"page_num\"] <= end_page : \n",
        "                    if title not in doctext_dict.keys() :\n",
        "                        doctext_dict[title] = [block]\n",
        "                    else :\n",
        "                        doctext_dict[title].append([block])\n",
        "\n",
        "        logging.info(\"Toc per Created\")\n",
        "     \n"
      ]
    },
    {
      "cell_type": "code",
      "execution_count": 5,
      "metadata": {},
      "outputs": [
        {
          "data": {
            "text/plain": [
              "{'사용 설명서': ['사용 설명서 컬러 잉크젯 프린터 SL-J292xW Series 목 차 사용 설명서 ● 안전을 위한 주의 사항은 사용자의 안전을 지키고 재산상의 손해 등을 막기 위한 내용입니다.  반드시 읽고 올바르게 사용해 주세요. ● 본 제품은 국내용 입니다. 전원과 전압이 다른 국외에서는 사용할 수 없습니다.  '],\n",
              " '저작권': ['2  저작권 저작권 ©2016 삼성전자(주)가 모든 권한을 소유합니다. 이 사용 설명서와 제품은 저작권법에 의해 보호됩니다. 이 사용 설명서는 사전 서면 동의 없이 사용 설명서 및 제품의 일부 또는 전체를 복사나 복제, 번역 또는 전자 매체나 기계가 읽을 수 있는 형태로 바꿀 수 없습니다.  이 사용 설명서와 제품은 표기상의 잘못이나 기술적인 잘못이 있을 수 있으며 사전 통보 없이 이러한 내용이 변경될 수 있습니다. 삼성전자(주)는 본 사용 설명서 사용으로 인해 발생하는 직/간접적 손해에 대해 책임지지 않습니다. • 삼성 및 SAMSUNG 로고는 삼성전자(주)의 상표입니다. • Microsoft 및 Windows는 Microsoft Corporation의 등록 상표 또는 상표입니다. • Microsoft, Internet Explorer, Excel, Word, PowerPoint, 및 Outlook은 Microsoft Corporation의 등록 상표 또는 상표입니다. • Mac, Mac OS X  AirPrint는 미국 및 기타 국가에서 Apple Inc.의 상표입니다. • 기타 모든 상표 또는 제품 이름은 해당하는 회사 또는 조직의 상표입니다. • ©2016 Copyright HPDC. REV. 1.00 ',\n",
              "  ['3 목차 1. 제품 알아보기 사용 설명서 정보  6 안전을 위한 경고 및 주의사항  7 제품 모습  12 조작부 사용  14 전원 연결하기  15 소프트웨어 설치  16 소프트웨어 재설치  17 제품 설정  18 2. 용지 및 용지함 인쇄 용지 관련 정보  20 용지 넣기  22 3. 인쇄 인쇄하기  28 인쇄 환경 설정  29 4. Samsung Photo and Imaging Gallery  프로그램 이해하기 Samsung Photo and Imaging Gallery 프로그램 32 Samsung Photo and Imaging Gallery 실행하기 33 Samsung Photo and Imaging Gallery 사용하기 35 5. 모바일 장치에서 사용 Samsung Mobile Print  37 6. 카트리지 및 유지보수 잉크 카트리지 및 프린트 헤드에 대한 정보 39 예상 잉크량 확인  40 잉크 카트리지 주문  41 잉크 카트리지 교체  42 청소하기  44 7. 네트워크 설정 무선 네트워크 프린터 설정  49 네트워크 설정 변경  53 Wi-Fi Direct 사용  54 '],\n",
              "  ['4 목차 8. 프린터 관리 도구 프린터 길잡이  58 EWS(내장 웹 서버)  59 9. 문제 해결 용지 걸림을 예방할 수 있는 정보  63 용지 걸림 제거  64 잉크 캐리지 걸림 해결  68 인쇄 문제  69 인쇄 품질 문제  70 네트워크 문제  71 상태 표시등(LED) 이해하기  72 기타 문제 해결  76 10. 부록 사양  78 규제 정보  79 11. 서비스 및 기타 프린터 서비스 안내  82 서비스에 대하여  83 한국 A/S 우수 기업 마크  85 폐 가전제품 처리 안내  86 전자파 적합 등록 및 화폐위조  87 ']],\n",
              " '1. 제품 알아보기': ['1. 제품 알아보기 이 장에서는 제품을 사용하기 전에 알아야 할 정보를 제공합니다. • 사용 설명서 정보 6 • 안전을 위한 경고 및 주의사항 7 • 제품 모습 12 • 조작부 사용 14 • 전원 연결하기 15 • 소프트웨어 설치 16 • 소프트웨어 재설치 17 • 제품 설정 18 '],\n",
              " '사용 설명서 정보': ['6 1. 제품 알아보기 사용 설명서 정보 이 사용 설명서는 실제 사용하는 방법을 단계적으로 자세하게 설명뿐만  아니라 제품의 기본적인 정보도 함께 제공합니다. • 이 설명서는 버리지 마시고 보관하신 후 필요할 때 참조하세요. • 제품을 사용하기 전에 안전을 위한 주의사항을 먼저 읽어보세요. • 제품 사용 시 문제가 발생하면 문제 해결 편을 확인하세요. • 사용 설명서의 그림은 제품의 옵션이나 모델에 따라 실제 제품과 다 를 수 있습니다. • 사용 설명서에 제시된 스크린샷은 제품의 펌웨어/드라이버 버전에 따 라 실제와 다를 수 있습니다. • 소프트웨어는 Windows만 지원합니다. 1  표기법 본 설명서에서 사용하는 일부 용어는 아래와 같이 혼용될 수 있습니다. • 원고는 원본과 같은 뜻입니다. • 종이는 용지 또는 인쇄 용지와 같은 뜻입니다. • 제품 및 프린터는 잉크젯 프린터 또는 잉크젯 복합기를 의미합니다. 2  본문 표기 아이콘 아이콘 문자 설명 주의 제품의 기계적 손상이나 오작동을 방지하기 위한 정보를 제공합니다. 경고 신체적 상해의 가능성을 경고합니다.  참고 제품의 기능과 성능에 대한 추가 정보를 제공합니 다. '],\n",
              " '안전을 위한 경고 및 주의사항': ['7 1. 제품 알아보기 안전을 위한 경고 및 주의사항 사용자의 안전을 지키고 재산상의 손해를 막기 위한 내용입니다. 반드시  잘 읽고 제품을 올바르게 사용해 주세요.   아래의 경고 사항은 지키지 않으면 사용자가 사망하거나 중상을 입을  수 있습니다.   3  중요한 안전 아이콘 사용 설명서에서 사용되는 아이콘과 기호에 대한 설명 4  전원 경고 경고 심각한 신체적 상해나 사망을 초래할 수 있는  위험 또는 안전하지 않은 작업 주의 가벼운 신체적 상해나 재산 상의 손상을 초래할  수 있는 위험 또는 안전하지 않은 작업 시도하지 마세요. 손상된 전원 코드나 플러그, 헐거운 콘센트 를 사용하지 마세요. ▶ 감전, 화재의 위험이 있습니다. 전원 코드를 무리하게 구부리거나 무거운 물 건으로 눌러 망가지지 않도록 하세요. ▶ 감전, 화재의 위험이 있습니다. ',\n",
              "  ['안전을 위한 경고 및 주의사항 8 1. 제품 알아보기 5  설치  경고 천둥, 번개가 치거나 오랜 시간 사용하지 않 을 때는 전원 플러그를 뽑으세요. ▶ 감전, 화재의 위험이 있습니다. 전원 플러그는 코드 부분을 잡아당겨  뽑거나  젖은 손으로 만지지 마세요. ▶ 감전, 화재의 위험이 있습니다. 제품 내부를 청소하기 전에 벽면 콘센트에 서 제품을 분리하세요. 제품에 물을 직접 뿌 리거나 제품을 벤젠, 시너, 알코올 등으로  닦지 마세요. ▶ 감전, 화재의 위험이 있습니다. 제품 위에 촛불, 담뱃불 등을 올려놓거나 제 품을 열기구와 가까운 곳에 설치하지 마세 요. ▶ 화재의 위험이 있습니다. '],\n",
              "  ['안전을 위한 경고 및 주의사항 9 1. 제품 알아보기 6  청소 경고 7  기타 경고 제품  내부를  청소하기 전에  벽면  콘센트에서  제품을 분리하세요. 제품에 물을 직접 뿌리 거나 제품을 벤젠, 시너, 알코올 등으로 닦 지 마세요. ▶ 감전, 화재의 위험이 있습니다. 반드시  부드러운 천에 물을 묻혀서 닦으세요. ▶ 청소할 때는 알코올 혹은 솔벤트가 다량  함유 되거나 일부 강한 성분이 함유된 계면  활성제를 사용하지 마세요. 제품이 변색되 거나 갈라질 수 있습니다. 유아나 어린이가  청소 용품을 만지지 않도록 주의하세요. 전원 플러그의 핀과 접촉 부분에 먼지, 물  등이 묻어 있으면 잘 닦으세요. ▶ 감전, 화재의 위험이 있습니다. 제품 위에 물이 담긴 그릇이나 약품, 작은 금 속류 등을 올려놓지 마세요. ▶ 감전, 화재의 위험이 있습니다. 제품에서 이상한 소리나 냄새, 연기가 나면  즉시 전원 플러그를 뽑고 전문 서비스 센터 로 연락하세요. ▶ 감전, 화재의 위험이 있습니다. '],\n",
              "  ['안전을 위한 경고 및 주의사항 10 1. 제품 알아보기 8  설치  주의 잉크 카트리지를 분해하지 마세요. • 플러그가 콘센트에 제대로 꽂혀지지 않으면 반드시 전기 기술자를 불러  콘센트를 교체하세요. 그렇지 않으면 감전의 위험이 있습니다. • 제품 라벨에 표시되어 있는 전원에 연결하세요. • 전원 코드 위에는 아무것도 올려놓지 마세요. 코드가 사람에게 밟히거나  사람이 코드에 걸릴 수 있는 곳에는 제품을 설치하지 마세요. • 전원 차단 장치는 전원 코드입니다. 모든 전원 공급을 차단하려면 콘센 트에서 전원 코드를 뽑으세요. 불안정한 곳에 제품을 설치하지 마세요. ▶ 제품이 떨어져 망가지거나 제품에 맞아  사람이 다칠 수 있습니다. '],\n",
              "  ['안전을 위한 경고 및 주의사항 11 1. 제품 알아보기 9  청소  주의 10  기타  주의 제품에 걸린 용지를 제거할 때는 핀셋이나  끝이 뾰족한 금속 도구를 사용하지 마세요. ▶ 금속 부품의 피복이 벗겨져 누전될 수 있 습니다. 소모품 교환이나 제품 청소 등으로  제품 내부에 손을 넣어야 할 때는  제품이 작동할 수 있는 조작을 하지 마세요. ▶ 제품의 기계적인 작동으로 사람이 다칠  수 있습니다. • 나사로 고정되어 있는 덮개나 보호 장치를 분리하지 마세요. 제품 내부의  부품은 지정된 서비스 기사가 아니면 수리하거나 관리할 수 없습니다. • 반드시 이 제품과 함께 제공되는 사용 설명서의 지시대로만 청소하고 관 리하세요. 사용자 임의로 제품을 분해하거나 수리, 개 조하지 마세요. ▶ 제품을 수리해야 할 때는 반드시 서비스  센터로 연락하세요. 제품 위에 무거운 물건을 올려놓지 마세요. ▶ 물건이 떨어지면 사람이 다칠 수 있습니 다. • 잉크 카트리지는 물이 주요 성분으로 동절기에는 사용 환경에 따라 잉 크가 얼어 출력이 되지 않을 경우 잉크가 녹을때까지 상온에서 기다렸 다가 사용하세요. 사용자 임의로 뜨거운 물이나 전자렌지에 잉크 카트 리지를 넣지 마세요. ']],\n",
              " '제품 모습': ['12 1. 제품 알아보기 제품 모습 제품 명칭을 알아두면 편리합니다. 11  앞모습 보기 12  인쇄 소모품 영역 보기   • 잉크 카트리지는 인쇄 품질 문제 또는 프린트 헤드 손상을 막기 위 해 반드시 프린터에 항상 들어있어야 합니다. 장시간 동안 잉크 카 트리지를 분리하지 마세요. • 새 잉크 카트리지 설치, 잉크 카트리지 교체 또는 프린터 사용 중 에 최상의 인쇄 품질을 확보하기 위해 자동으로 초기화 동작을 진 행합니다. 이는 제품의 유지보수를 위한 필수 동작으로 완료 시 까 지 최대 10 ~ 11분이 소요될 수 있습니다. 이것은 고장이 아니므로  안심하고 기다려 주시기 바랍니다. • 잉크 카트리지가 없을 경우 프린터를 끄지 마세요.   1 잉크 카트리지 교체 덮개 2 입력 용지함 3 용지 너비 조절 가이드 4 출력 용지함 확장대 5 출력 용지함 6 전원 버튼 및 표시등 1 잉크 카트리지 교체 덮개 2 잉크 카트리지 3 잉크 캐리지 4 잉크 카트리지 보조 덮개 ',\n",
              "  ['제품 모습 13 1. 제품 알아보기 13  뒷모습 보기 1 USB 포트a a. USB 케이블로 프린터와 컴퓨터를 연결합니다. 2 네트워크 포트 3 전원 연결부 4 뒷덮개 ']],\n",
              " '조작부 사용': ['14 1. 제품 알아보기 조작부 사용 1 프린트 상태 보고서 버튼  및 표시등 프린트에 대한 기본 정보, 사용  정보, 잉크 공급 관련 정보를 출 력하여 확인할 수 있습니다. 2 이더넷 표시등 이더넷 케이블을 통해 네트워크 와 연결 되었을때 표시 되며, IP  주소 등의 정보를 제공 합니다. 3 무선 버튼 및 표시등 프린터의 무선 연결 상태를 알려 줍니다. 4 네트워크 정보 버튼 IP 주소, 네트워크 상태, WPS PIN  번호 등의 정보를 출력하여 확인 할 수 있습니다. 5 취소 버튼 작업을 취소합니다. 6 다시 시작 버튼 및 표시등 중단된 작업을 다시 시작합니다. 7 경고 표시등 프린터가 경고 또는 오류 상태에  있다는 것을 의미합니다. 8 잉크 카트리지 표시등 잉크 잔량을 표시합니다.   잉크량 경고 및 표시는 잉 크 교체 시기를 미리 예상 하기 위한 목적으로만 사 용해야 합니다. 잉크 부족  경고 메시지가 나타나면  인쇄가 지연되지 않도록  교체  카트리지를  준비하는  것이 좋습니다. 인쇄 품질 이 허용 수준 이하로 떨어 지기 전까지는 잉크 카트 리지를 계속 사용할 수 있 지만, 품질이 저하될 수  있습니다.   9 전원 버튼 및 표시등 전원을 켜고 끕니다. '],\n",
              " '전원 연결하기': ['15 1. 제품 알아보기 전원 연결하기   • 제품과 함께 제공된 전원 코드를 사용해야 합니다. 그렇지 않으면  제품 손상의 원인이 될 수 있습니다. • 제품이 켜져 있거나 전원 코드가 꽂혀 있을 때는 제품을 분해하지  마세요. 감전의 위험이 있습니다.   14  전원 켜기 1 전원 코드를 제품과 220 V 콘센트에 연결하세요.  2   프린터에 있는  (전원 버튼)을 눌러 전원을 켜세요. 15  전원 끄기 1 프린터에 있는  (전원 버튼)을 눌러 전원을 끄세요.  2   전원 표시등이 꺼진 후 전원 코드를 뽑거나 멀티탭 전원을 꺼주세요.  다른 방식으로 프린터를 끄는 것은 올바른 방식이 아닙니다.   • 전원을 잘못 끌 경우, 잉크 캐리지가 올바른 위치로 복귀되지 않아  잉크 카트리지 및 인쇄 품질에 문제가 발생할 수 있습니다. • 잉크 카트리지가 없을 경우 절대 프린터를 끄지 마세요.   '],\n",
              " '소프트웨어 설치': [\"16 1. 제품 알아보기 소프트웨어 설치   • 이 사용 설명서에 나오는 설치 화면은 사용하는 제품과 인터페이 스에 따라 다를 수 있습니다. • 길이 3 m 이내의 USB 케이블을 사용하세요. • 프린터와 컴퓨터를 USB 케이블로 미리 연결하지 마세요. 프린터 드 라이버 설치 중간에 컴퓨터 화면에 프린터를 연결하라는 메시지가  나타나면 그때 연결하세요.  • 프린터 드라이버 설치 순서를 꼭 지키세요. 설치 순서를 지키지 않 아 문제가 발생한 경우 서비스를 받을 때 별도의 서비스 비용이 발 생할 수 있습니다. • 지원 운영 체제 : Windows 7, 8, 8.1, 10   1 컴퓨터 전원이 켜져 있고, 인터넷에 연결되어 있는지 확인하세요. 2   제공된 소프트웨어 CD를 CD-ROM 드라이브에 넣으세요. 만약 설치 화면이 나타나지 않으면,  (시작) 메뉴에서 모든 프 로그램 > 보조 프로그램 > 실행을 누르세요. 실행 입력창에 X:\\\\Setup.exe를 입력하고 확인을 누르세요.  X:\\\\Setup.exe에서 “X”는 사용중인 컴퓨터의 CD-ROM 드라이브 이름 을 입력하세요. • Windows 8 / Windows 8.1인 경우 설치 창이 나타나지 않으면 참 메뉴에서 검색 > 앱에서 실행을  검색한 후 실행 입력 창에 X:\\\\Setup.exe를 입력하고 확인을 누 르세요. X:\\\\Setup.exe에서 “X” 는 사용 중인 컴퓨터의 CD-ROM  드라이브 이름을 입력하세요.  “이 디스크에서 할 작업을 선택하세요.” 팝업 창이 뜬다면 창 을 눌러서 Setup.exe 실행을 선택하세요. • Windows 10인 경우 설치 창이 나타나지 않으면 작업 표시줄의 검색 입력란에  X:\\\\Setup.exe('X'는 CD-ROM 드라이브)를 입력하고 Enter 키를 누 릅니다.   CD-ROM 드라이브가 없거나 사용할 수 없는 경우, 삼성 웹사이트에서  소프트웨어를 다운로드하여 압축을 풀고 설치하세요.  (www.samsung.com/printer > 해당 프린터 이름 선택 또는 검색 > 고객 지원 > 다운로드)   3   설치를 시작하기 전 설치할 프로그램을 선택할 수 있습니다. 소프 트웨어 선택 사용자 정의를 선택하세요. 4   설치를 원하는 항목을 선택 후 다음을 누르세요. 5   설치 화면에서 설치 동의서를 검토하고 동의하세요. 그런 후에 다 음을 누르세요. 6   프린터 연결 유형 화면에서 원하는 프린터 연결 옵션을 선택하세요. 7   설치 창에서 안내하는 대로 설치를 진행하세요. \"],\n",
              " '소프트웨어 재설치': ['17 1. 제품 알아보기 소프트웨어 재설치 프린터 드라이버가 제대로 동작하지 않는다면, 설치된 드라이버를 삭제한  후 드라이버를 재설치를 해야 합니다. 1 (시작) 메뉴에서 모든 프로그램 > Samsung Inkjet Printers >  해당 프린터 드라이버 이름 선택 > 제거를 선택하세요. • Windows 8 / Windows 8.1인 경우 1  참 메뉴에서 검색 > 앱을 선택하세요. 2  제어판을 찾아서 클릭하세요. 3  프로그램 및 기능을 클릭하세요. 4  삭제하려는 드라이버를 선택하고, 마우스 오른쪽 버튼을 클 릭하여 제거를 선택하세요. • Windows 10인 경우 1  작업 표시줄 검색 입력란에 프로그램 및 기능을 입력하세요.  Enter 키를 누르세요. 또는 시작 ( ) 아이콘에서 모든 프로그램 > 검색 > 프로그램  및 기능을 입력하세요. 2  삭제하려는 드라이버를 선택하고, 마우스 오른쪽 버튼을 클 릭하여 제거를 선택하세요. 2   설치 창에서 안내하는 대로 진행하세요. 3   제공된 소프트웨어 CD를 CD-ROM 드라이브에 넣고 소프트웨어를 다 시 설치하세요. (\"소프트웨어 설치\" 16쪽 참조)   Windows 8 / Windows 8.1 시작화면에서 소프트웨어 삭제하기 • 삼성 프린터 소프트웨어 타일이 없는 경우, 데스크톱 모드에서 삭 제하세요. • 삼성 프린터 관리 도구들을 삭제하고 싶다면, 시작 화면에서 삭제 하려는 앱을 마우스 오른쪽 버튼으로 클릭 > 제거 > 삭제하려는 프 로그램을 마우스 오른쪽 버튼으로 클릭 > 제거 선택 후 화면에서  안내하는 대로 진행하세요.   '],\n",
              " '제품 설정': ['18 1. 제품 알아보기 제품 설정 제품 설치가 완료된 후에 삼성 소프트웨어를 이용해 프린터 기본에 연관된 기능과 설정을 변경할 수 있고, 보고서 인쇄, 프린터 관련 도움말을 확인 할 수 있습니다. 제품 기본값 설정을 변경하려면 다음 절차를 따르세요. 1 삼성 프린터 소프트웨어를 여세요.  ( (시작) 메뉴에서 모든 프로그램 > Samsung Inkjet Printers > 해당 프린터 드라이버 이름 > 해당 프린터 드라이버 이름 선택) 2   프린터 길잡이 > 인쇄 > 프린터 유지 관리를 클릭하세요. 3   도구 상자의 세부 옵션을 선택하세요. • 장치 서비스: 인쇄 품질 향상을 위하여 카트리지 정렬 및 청소를 합니다. • 장치 보고서: 프린터의 진단 정보를 인쇄합니다. • 예상 카트리지 수준: 예상 잉크량을 확인합니다. • 프린트 헤드 상태: 프린터 헤드 정보를 확인합니다. • 장치 정보: 프린터 장치 정보를 확인합니다. • 고급 설정: 프린터 자동 꺼짐 및 경고 표시를 설정합니다. 4   화면에 표시되는 설명에 따라 설정을 변경하세요. '],\n",
              " '2. 용지 및 용지함': ['2.  용지 및 용지함 이 장에서는 제품에 맞는 용지를 선택하고 용지함을 사용하는 방법을 설명합니다. • 인쇄 용지 관련 정보 20 • 용지 넣기 22 '],\n",
              " '인쇄 용지 관련 정보': ['20 2. 용지 및 용지함 인쇄 용지 관련 정보 최고 품질의 인쇄 결과를 원한다면 잉크젯 전용지의 사용을 권장합니다.   제품에 맞지 않는 용지를 사용하면 제품이 고장나서 수리가 필요할  수도 있습니다. 이 경우 보증 기간 내라도 삼성의 무상 서비스를 보 장 받지 못합니다. 지정된 용지만을 사용하세요.   1  용지 선택 / 보관 / 사용 • 젖은 용지, 구겨진 용지, 찢어진 용지, 오염된 용지 등은 사용하지 마 세요. 제품에 용지가 걸리거나 인쇄 품질이 떨어질 수 있습니다. • 올록볼록하게 글자가 엠보싱 처리된 용지, 너무 거칠거나 매끄러운 섬 유 성분이 든 용지, 가로로 결이 있는 용지(횡목지) 등은 사용하지 마 세요. • 용지는 사용할 때까지 포장을 벗기지 마세요. • 용지는 바닥에 두지 말고 선반 등에 보관하세요. • 포장된 용지, 포장을 벗긴 용지에 관계없이 용지 위에 무거운 물체를  올려 두지 마세요. • 용지를 보관할 때는 반드시 습기 방지용 상자나 봉투에 넣어서 먼지 나 습기로부터 보호하세요. • 부록의‘용지 사양’에 기재된 규격 용지를 사용하세요. (\"사양\" 78쪽  참조) • 봉투는 반드시 규격 봉투를 사용하세요. 접힌 봉투, 뒤틀린 봉투, 손 상되었거나 품질이 좋지 않은 봉투 등은 사용하지 마세요. • 용지함에 용지를 넣을 때에는 한 번에 한 종류 및 같은 크기의 용지 만 넣으세요.  • 입력 용지함으로부터 용지 적재 시 용지가 올바로 적재되어 있는지 확 인하세요. • 용지함에 너무 많은 용지를 넣지 마세요.  • 용지 걸림, 인쇄 품질 저하, 기타 인쇄 문제를 방지하려면 용지함에  다음과 같은 용지를 넣지 마세요.  - 여러 부분으로 된 양식지 - 손상되었거나 말려있거나 구겨진 용지  - 잘렸거나 구멍이 뚫린 용지  - 너무 가볍거나 쉽게 늘어나는 용지  - 스테이플이나 클립이 있는 용지  - 수정액(수정 테이프)등 이물질이 있는 용지  • ColorLok 로고가 있는 일반 용지를 사용할 것을 권장합니다. ColorLok  용지는 컬러는 더욱 선명하고 생동감 있고 검은색은 보다 짙은 문서 를 만들어 내며 일반 용지보다 더 빨리 마릅니다. ',\n",
              "  ['인쇄 용지 관련 정보 21 2. 용지 및 용지함 2  특수 용지  • 특수 용지에 인쇄할 때는 반드시 해당 용지 포장 겉면에 인쇄되어 있 는 지시 사항을 따르세요. • 특수 용지는 입력 용지함에 한 장씩 넣어 인쇄하는 것이 좋습니다. • 두께가 얇은 용지에 조밀하게 인쇄하면 용지에 많은 양의 잉크가 묻 어 용지가 약간 휘어질 수 있습니다. 이때는 약간 두꺼운 용지에 인 쇄하세요. • 인쇄할 때 잉크 헤드 노즐과 닿을 정도로 두꺼운 용지를 사용하면 잉 크 카트리지에 손상이 가거나 잉크가 번질 수 있습니다. • 클리어 파일이나 비닐 폴더 등의 커버에 넣어서 보관할 때는 인쇄면 의 잉크가 완전히 건조된 후 넣어 주세요. • 투명 용지 등의 표면에 지문이 묻으면 잉크가 번지므로 주의하세요. • 인쇄물이 장기간 직사광선에 노출되면 변색 또는 변형될 수 있으므로  주의하세요. • 특수한 크기의 봉투를 사용할 때 규정된 두께보다 두꺼운 봉투를 사 용하면 제품이 고장 날 수 있습니다. • C5 봉투 등 면적이 넓은 봉투를 사용할 때는 컴퓨터에서 문서를 작성 할 때 여백을 20 mm 이상으로 설정하세요. 3  용지 공급  • 용지를 낱장이 아닌 한 묶음씩 넣으세요. 용지 묶음에는 같은 크기와  종류의 용지만을 사용하여 용지가 걸리지 않도록 하세요. • 인쇄할 면을 아래로하여 용지를 넣으세요. • 용지가 용지함에 편평하게 놓여 있고 가장자리가 휘거나 찢어지지 않 았는지 확인합니다. • 모든 용지에 잘 맞도록 용지함의 용지 너비 가이드를 조절합니다. 용 지 너비 가이드로 인해 용지함의 용지가 휘지 않도록 하세요. ']],\n",
              " '용지 넣기': ['22 2. 용지 및 용지함 용지 넣기  용지함에 일반 용지, 여러 유형의 특수 용지를 넣어서 인쇄할 수 있습니다. 4  용지함에 용지 넣기 1 출력 용지함을 들어 올리세요.  2   용지 너비 조절 가이드를 최대한 멀리 밀어내세요.   가이드 조절을 하지 않으면, 용지 여백과 관계된 오류, 용지 비뚤어 짐, 용지 걸림이 발생할 수도 있습니다.     용지가 너무 긴 경우, 입력 용지함을 당겨 용지 크기에 맞게 확장하 세요.   3   용지를 넣기 전에 용지들이 서로 붙지 않도록 불거나 털어 주고 가 지런하게 정렬하세요. 4   용지를 인쇄면이 아래로 향하게 하여 세로방향으로 넣으세요.  ',\n",
              "  ['용지 넣기 23 2. 용지 및 용지함   • 프린터가 인쇄하는 동안에는 용지를 넣지 마세요.  • 용지가 용지함 하단에 표시된 용지 크기 선에 맞게 정렬 되어 있는 지 확인하세요. • 용지가 용지함에 표시된 용지 한계선을 초과하지 않는지 확인하세요.   5   용지 가장자리에 닿을 때까지 용지 너비 조절 가이드를 조정하세요.  6   출력 용지함을 내리세요. 7   출력 용지함 확장대를 당겨주세요. 5  용지함에 특수용지 넣기 카드, 봉투 등 특수한 크기와 유형의 용지를 사용할 수 있습니다. 봉투 1 출력 용지함을 들어 올리세요.  '],\n",
              "  ['용지 넣기 24 2. 용지 및 용지함 2   너비 조절 가이드를 최대한 멀리 밀어내세요. 3   아래의 그림을 따라 인쇄면을 아래로 하여 봉투를 넣으세요.    • 프린터가 인쇄하는 동안에는 봉투를 넣지 마세요.  • 봉투가 용지함 하단에 표시된 용지 크기 선에 맞게 정렬 되어 있는 지 확인하세요. • 봉투가 용지함에 표시된 용지 한계선을 초과하지 않는지 확인하세요.    4   봉투가 가장자리에 닿을 때까지 용지 너비 조절 가이드를 조정하 세요.  5   출력 용지함을 내리세요. '],\n",
              "  ['용지 넣기 25 2. 용지 및 용지함 6   출력 용지함 확장대를 당겨주세요.   봉투 인쇄를 할 경우 프린트 드라이버의 레이아웃 탭에서 용지방향을  가로로 설정해주세요.(\"인쇄하기\" 28쪽 참조)   카드와 인화지  1 출력 용지함을 들어 올리세요.  2   너비 조절 가이드를 최대한 멀리 밀어내세요. 3   인쇄면을 아래로 하여 용지를 넣으세요.    가장자리를 따라 탭이 있는 포토 용지일 경우, 탭이 프린터 앞쪽을 향 하도록 해야 합니다.   '],\n",
              "  ['용지 넣기 26 2. 용지 및 용지함   • 프린터가 인쇄하는 동안에는 용지를 넣지 마세요.  • 용지가 용지함 하단에 표시된 용지 크기 선에 맞게 정렬 되어 있는 지 확인하세요. • 용지가 용지함에 표시된 용지 한계선을 초과하지 않는지 확인하세요.    4   용지가 가장자리에 닿을 때까지 용지 너비 조절 가이드를 조정하 세요.  5   출력 용지함을 내리세요. 6   출력 용지함 확장대를 당겨주세요. ']],\n",
              " '3. 인쇄': ['3.  인쇄 이 장에서는 인쇄 설정, 출력 품질을 변경하거나, 특정 종류의 용지나 필름에 인쇄하거나, 특수 기능을 사용 할 수 있는 정보를 보여줍니다. • 인쇄하기 28 • 인쇄 환경 설정 29 '],\n",
              " '인쇄하기': ['28 3. 인쇄 인쇄하기 Windows에서 문서와 같은 기본적인 인쇄 절차를 수행할 수 있습니다. 사 용하는 응용 프로그램에 따라 인쇄 방법이 조금씩 다를 수 있습니다. 1 용지함에 인쇄하고자 하는 용지를 넣으세요. (\"용지 넣기\" 22쪽 참조) 2   응용 프로그램에서 인쇄하려는 문서를 여세요. 3   파일에서 인쇄를 선택하세요. 4   프린터 선택 목록에서 사용 중인 제품을 선택하세요. 5   기본 설정 대화 상자를 엽니다.   소프트웨어 응용 프로그램에 따라 이 버튼의 이름은 등록 정보, 옵션,  프린터 설정, 프린터 등록 정보, 프린터 또는 기본 설정이 됩니다.   6   적합한 옵션을 선택하세요. 그 밖의 인쇄 설정을 변경하려면 다른 탭을 클릭하여 설정하세요.   용지 크기를 변경하려면 입력 용지함에 올바른 용지를 넣고 조작부에 서 용지 크기를 설정했는지 확인합니다.   7   확인을 클릭하여 기본 설정 대화 상자를 닫으세요. 8   인쇄 또는 확인을 클릭하여 인쇄를 시작합니다. '],\n",
              " '인쇄 환경 설정': ['29 3. 인쇄 인쇄 환경 설정 일반 문서를 인쇄할 수 있는 일반 프린터 드라이버를 제공합니다. 제공하 는 다양한 기능을 사용하려면 인쇄 창에서 기본 설정 또는 프린터 속성을  클릭하여 인쇄 설정을 변경하세요.\"인쇄하기\" 28쪽 참조) 1  프린터 드라이버 프린터 드라이버에서는 레이아웃, 용지/품질, 고급 옵션 탭이 있습니다. 레이아웃 탭 인쇄 방향, 페이지 순서, 한 면에 인쇄할 페이지 수, 레이아웃에 관한 기 본적인 설정을 할 수 있습니다. • 방향: 인쇄 용지 방향을 설정할 수 있습니다. • 페이지 순서: 인쇄 페이지 순서를 설정할 수 있습니다.  • 페이지 형식 - 한 면에 인쇄할 페이지 수: 용지 한 면에 인쇄할 페이지 수를 선 택합니다. 2 페이지 이상의 문서를 인쇄할 경우 테두리 그리기를  선택하여 페이지에 테두리를 추가할 수 있습니다. 용지/품질 탭 용지 공급함, 용지 크기, 용지 종류 등 용지에 관한 전반적인 설정과 인 쇄 품질을 설정할 수 있습니다. • 용지함 선택 - 용지 공급: 용지를 공급할 용지함을 선택할 수 있습니다. - 용지 크기: 용지의 크기를 설정할 수 있습니다.  - 미디어: 사용할 인쇄 용지 종류를 선택할 수 있습니다.   옵션을 선택하면, 경고 아이콘이 나타날 수 있습니다. 경고 아이콘은  제품의 설정 또는 환경 때문에 선택할 수 없는 옵션이라는 뜻입니다.   • 품질 설정: 인쇄 품질을 설정할 수 있습니다. 인쇄 품질이 높을수록  인쇄 속도는 느려집니다.  ',\n",
              "  ['인쇄 환경 설정 30 3. 인쇄 고급 옵션 버튼 그래픽과 관련된 이미지 색 관리를 비롯하여 프린터 기능과 관련된 레이 아웃, 해상도, 출력 품질 등 다양한 설정을 할 수 있습니다.   • 프린터 드라이버의 레이아웃 또는 용지/품질 탭 > 고급 버튼을 클 릭하여 고급 옵션 대화 상자를 여세요.  • 레이아웃 탭의 미리보기에서는 한 면에 인쇄할 페이지 레이아웃 드 롭다운 목록에서 선택한 사항이 반영되지 않습니다.   • 한 면에 인쇄할 페이지 레이아웃: 한 면에 2 페이지 이상의 문서를 인 쇄할 경우 페이지 순서를 지정합니다. • 그레이스케일로 인쇄: 검은색 잉크만을 사용하여 흑백 문서를 인쇄하 도록 합니다. 검정 잉크만을 선택한 후, 확인 버튼을 클릭하세요. • 해상도: 해상도를 변경하여 인쇄하도록 설정할 수 있습니다. • 출력 품질: 출력 품질을 변경하여 인쇄하도록 설정할 수 있습니다. 사진을 인쇄할 경우는 최상을 선택하고 인쇄하세요. • 이미지 향상: 이미지와 그래픽을 부드럽고 선명하게 만들어 인쇄 품 질을 향상 시킵니다. • 경계선 없는 인쇄: 여백 없이 사진이 인쇄됩니다. 모든 종류의 용지 에서 이 기능을 지원하지는 않습니다. 용지 크기 드롭다운 목록에서  선택된 용지 종류가 지원되지 않으면 해당 옵션 옆에 경고 아이콘이  표시됩니다. ']],\n",
              " '4. Samsung Photo and Imaging Gallery 프로그램 이해하기': ['4.  Samsung Photo and Imaging  Gallery 프로그램 이해하기 Samsung Photo and Imaging Gallery는 Samsung SL-J292xW에 연결되어 있는 이미지 파일 관리 및 편집 프로그램 입니다. Samsung Photo and Imaging Gallery로 스캔한 이미지 파일을 편집하여 포토북을 만들거나 전자 메일로  사진을 공유하거나 다양한 레이아웃으로 사진을 인쇄하는 등 다양한 기능을 사용할 수 있습니다. • Samsung Photo and Imaging Gallery 프로그램 32 • Samsung Photo and Imaging Gallery 실행하기 33 • Samsung Photo and Imaging Gallery 사용하기 35 '],\n",
              " 'Samsung Photo and Imaging Gallery 프로그램': ['32 4.  Samsung Photo and Imaging Gallery 프로그램 이해하기 Samsung Photo and Imaging Gallery 프로그램 Samsung Photo and Imaging Gallery는 이미지 파일 관리 및 편집 프로그램 입니다. Samsung Photo and Imaging Gallery로 스캔한 이미지 파일을 편집하여  포토북을 만들거나 전자 메일로 사진을 공유하거나 다양한 레이아웃으로 사진을 인쇄하는 등 다양한 기능을 사용할 수 있습니다. 드라이버 설치 시 “Samsung Photo and Imaging Gallery”를 선택하면 해당 프로그램이 함께 설치됩니다. 함께 설치하지 않았을 때는 설치용 CD를 다시  넣고 “Samsung Photo and Imaging Gallery”를 선택하여 프로그램을 설치하세요.   “Samsung Photo and Imaging Gallery”는 인터넷이 연결되어야만 설치가 가능합니다. 네트워크 상태를 확인해서 인터넷에 문제가 없는지 확인 해 주 십시오. PC 방화벽, 보안프로그램 등으로 인해 설치프로그램 사이트에 접근이 차단되어 설치에 방해를 받을 수가 있습니다.   '],\n",
              " 'Samsung Photo and Imaging Gallery 실행하기': ['33 4.  Samsung Photo and Imaging Gallery 프로그램 이해하기 Samsung Photo and Imaging Gallery 실행하기 1 Samsung Photo and Imaging Gallery 프로그램을 실행하세요.  •바탕 화면에서 ‘Samsung Photo and Imaging Gallery Installer  1.0’ 아이콘을 더블클릭하세요. •  (시작) 메뉴에서 모든 프로그램 > Samsung Inkjet Printers  > Samsung Photo and Imaging Gallery > Samsung Photo and Imaging  Gallery를 차례로 선택해서 실행할 수도 있습니다. 2   Samsung Photo and Imaging Gallery 다운로드 및 설치하기를 선택한  후 다음을 클릭하세요. 3   “위 사항에 동의합니다”를 선택 후 설치를 누릅니다. 4   설치가 완료되면 실행을 선택 후 마침을 클릭하세요. ',\n",
              "  ['Samsung Photo and Imaging Gallery 실행하기 34 4.  Samsung Photo and Imaging Gallery 프로그램 이해하기 5   설치 약정 및 설정을 검토하고 수락하신 후 계속을 클릭하세요. 6   설치를 완료하면 다음과 같은 화면이 나타납니다. ']],\n",
              " 'Samsung Photo and Imaging Gallery 사용하기': ['35 4.  Samsung Photo and Imaging Gallery 프로그램 이해하기 Samsung Photo and Imaging Gallery 사용하기 1  메인 화면 메뉴 설명 번호 명칭 기능 1 홈 메인 화면으로 이동합니다. \\x13 \\x14 \\x15 \\x16 \\x15 \\x17 \\x18 2 프로젝트별 다양한 효과로 이미지를 편집하여 사진첩, 축하 카드, 달력 등을 만들 수 있습니다.  • 프린트/ 콜라주 프린트/ 카드/ 달력/ 사진첩/  비즈니스/ 기프트&기타 3 내 계정 계정을 생성하거나 로그인 할 수 있습니다. 4 내 프로젝트 관 리 현재 프로젝트, 저장된 프로젝트를 수정하거나  최근에 본 내용을 확인할 수 있습니다. • 현재 프로젝트/ 저장된 프로젝트/ 최근에 본  내용 5 옵션 • 쇼핑카트: 구매하고자 하는 상품을 확인할 수  있습니다. • 온라인 기능옵션: 아트워크 다운로드및 업데 이트를 위한 인터넷 연결을 설정할 수 있으며 , 새로운 정보에 대한 알림을 설정할 수 있습 니다. • 지역, 언어, 측정단위: 지역과 언어, 측정단 위를 설정할 수 있습니다. • 온라인 도움말: 온라인 도움말을 활용하여 Samsung Photo and Imaging Gallery 사용법을  배울 수 있습니다. 6 인쇄 프로젝트 간단히 집에서 만들어 인쇄할 수 있는 프로젝트 로 구성되어 있습니다.  • 연말연시 카드/ 달력/ 간편인쇄/ 사진 큐브/  뉴스레터/ 사집첩 페이지 번호 명칭 기능 '],\n",
              " '5. 모바일 장치에서 사용': ['5.  모바일 장치에서 사용 이 장에서는 스마트폰이나 태블릿 등의 모바일 장치를 프린터와 연결하여 장치에서 문서 및 사진을 바로 인 쇄할 수 있습니다. • Samsung Mobile Print 37   이 기능을 사용하려면 이더넷 케이블 또는 무선 연결을 통해 프린터를 네트워크에 연 결하세요. USB 케이블을 사용하여 프린터를 연결한 경우 이러한 이 기능을 사용할 수  없습니다.   '],\n",
              " 'Samsung Mobile Print': ['37 5. 모바일 장치에서 사용 Samsung Mobile Print 1  Samsung Mobile Print란? Samsung Mobile Print는 스마트폰이나 태블릿에서 사진, 문서 또는 웹 페 이지를 직접 출력하도록 하는 무료 앱입니다.  Samsung Mobile Print는 안드로이드 및 iOS 기반의 스마트폰뿐만 아니라 갤 럭시 탭이나 아이패드 같은 태블릿 PC 또는 아이팟 터치까지 다양한 모바 일 기기와 호환되는 앱입니다. 와이파이(Wi-Fi)를 통해 모바일 기기를 삼 성 프린터 또는 무선 프린터와 연결하여 인쇄할 수 있습니다. 새로운 드 라이버를 설치하거나 네트워크 설정을 따로 할 필요가 없어 간편하고,  Samsung Mobile Print를 설치하고 나면 호환되는 삼성 프린터를 자동으로  검색하기 때문에 간편하게 인쇄를 시작할 수 있습니다. 2  Samsung Mobile Print 다운로드하기 • 안드로이드: 플레이 스토어에서 Samsung Mobile Print을 검색하여 앱을  다운로드합니다. • iOS: 앱 스토어에서 Samsung Mobile Print을 검색하여 앱을 다운로드합 니다.   컴퓨터에서는 애플 제품이라면 아이튠즈를 방문해도 됩니다.   3  지원되는 Mobile OS  • 안드로이드 OS 4.0 또는 이상  • iOS 8.0 또는 이상 4  지원되는 제품 • 안드로이드 OS 4.0 또는 이상: 갤럭시 시리즈, 안드로이드 모바일 제품 • iOS 8.0 또는 이상: 아이팟 터치, 아이폰, 아이패드 '],\n",
              " '6. 카트리지 및 유지보수': ['6.  카트리지 및 유지보수 이 장에서는 프린터에서 최상의 인쇄 품질을 얻기 위한 몇 가지 간단한 유지 보수 절차를 수행하는 정보를  보여줍니다. • 잉크 카트리지 및 프린트 헤드에 대한 정보 39 • 예상 잉크량 확인 40 • 잉크 카트리지 주문 41 • 잉크 카트리지 교체 42 • 청소하기 44 '],\n",
              " '잉크 카트리지 및 프린트 헤드에 대한 정보': ['39 6. 카트리지 및 유지보수 잉크 카트리지 및 프린트 헤드에 대한 정보  아래 정보는 삼성 잉크 카트리지를 유지 관리하고 일관된 인쇄 품질을 유 지하는 데 도움이 됩니다.  • 정품 삼성 잉크 카트리지를 사용하세요. • 모든 카트리지는 사용하기 전까지 원래의 포장 상태로 보관하세요.  • 프린터를 올바른 방법으로 꺼주세요. (\"전원 끄기\" 15쪽 참조) • 카트리지를 실내 온도 15 ~ 35 °C에 보관하세요.  • 불필요하게 프린트 헤드를 청소하지 마세요.  잉크가 낭비되어 카트리지 수명이 단축됩니다.  • 카트리지를 다룰 때에는 주의하세요.  설치 중에 카트리지를 떨어뜨리거나, 흔들거나, 거칠게 다룰 경우 일 시적인 인쇄 문제가 발생할 수 있습니다.  • 프린터를 옮길 때에는 프린터에서 잉크가 새거나 프린터에 다른 손상 이 나타나지 않도록 다음과 같이 하세요.  - (전원 버튼)을 눌러 프린터 전원을 껐는지 확인하세요. 내부에 서 움직이는 소리가 완전히 멈출 때까지 기다린 후에 프린터의 플 러그를 뽑으세요.  - 카트리지는 설치된 상태로 두세요.  - 프린터는 수평으로 놓고 운송하세요. 옆으로 놓거나, 뒤로, 앞으 로, 뒤집어 놓지 마세요.  • 검은색 잉크 카트리지만 사용하여 인쇄할 때도 컬러 잉크가 일부 사 용 됩니다.  잉크는 잉크젯 인쇄 과정 중에 다양한 방식으로 사용됩니다. 카트리지의  잉크는 주로 문서, 사진 및 기타 자료를 인쇄 용으로 사용됩니다. 그러나  일부 잉크는 프린트 헤드의 상태를 유지 관리 용으로 사용되고, 일부 잉 크는 찌꺼기로 남게 되며, 나머지는 증발합니다.    인쇄 품질상의 문제나 추가적인 잉크 사용, 잉크 시스템의 손상을 피 하기 위해 가능한 빨리 소모된 카트리지를 교체할 것을 권장합니다.  카트리지가 없을 경우 절대 프린터를 끄지 마세요.      • 이 프린터는 무한 잉크를 사용할 수 없습니다. 인쇄를 다시 시작하 려면, 무한 잉크를 제거하고 원래의 삼성 정품(또는 호환 가능한)  카트리지를 설치하세요.  • 이 프린터는 잉크 카트리지가 완전히 고갈될 때까지 사용하도록 고 안되었습니다. 잉크가 고갈되기 전에 카트리지를 충전하면 프린터 가 작동하지 않을 수 있습니다. 이런 일이 발생하는 경우, 새 카트 리지(삼성 또는 호환 가능한 제품)를 삽입하여 인쇄를 계속합니다.    1  보관  잉크 카트리지는 오랫동안 프린터에 남겨 둘 수 있습니다. 그러나 잉크  카트리지를 최적의 상태로 유지하려면 프린터를 사용하지 않을 때는 프린 터를 올바른 방식으로 꺼두세요. (\"전원 끄기\" 15쪽 참조) '],\n",
              " '예상 잉크량 확인': ['40 6. 카트리지 및 유지보수 예상 잉크량 확인  잉크량을 확인하여 잉크 카트리지의 교체 시기를 쉽게 알 수 있습니다. 남은 잉크량은 잉크 카트리지에 남아 있는 대략적인 잉크량을 표시합니다. 1 삼성 프린터 소프트웨어를 여세요.  ( (시작) 메뉴에서 모든 프로그램 > Samsung Inkjet Printers > 해당 프린터 드라이버 이름 > 해당 프린터 드라이버 이름 선택) 2   예상 수준 탭을 클릭하세요. (\"잉크 카트리지 교체\" 42쪽 참조)   • 잉크 부족 경고 및 표시등은 잉크 교체가 필요함을 사전에 알리기 위한 목적으로만 표시됩니다.  • 잉크 부족 경고 메시지를 받으면 인쇄 지연 가능성이 없도록 카트리지 교체를 고려해 보세요. 잉크 카트리지를 교체하라는 상태 표시등이 표시되 어도 잉크 카트리지를 계속 사용할 수 있지만, 인쇄 품질이 저하될 수 있습니다. • 리필 또는 재가공 잉크 카트리지나 다른 프린터에서 사용했던 잉크 카트리지를 설치한 경우, 잉크 잔량 표시가 부정확하거나 사용이 되지 않을 수  있습니다.  • 카트리지의 잉크는 인쇄 이외에도 인쇄 작업 준비를 위한 초기화 프로세스, 프린트 헤드 청소 작업 등 다양한 기기 동작에서 사용됩니다. 또한,  사용 후에는 카트리지에 일부 잉크가 남아있기도 합니다.   '],\n",
              " '잉크 카트리지 주문': ['41 6. 카트리지 및 유지보수 잉크 카트리지 주문  삼성 정품 잉크 카트리지 사용을 권장합니다. 삼성 정품 잉크 카트리지는  매번 간편하게 좋은 결과를 낼 수 있도록 제작되었습니다.   프린터와 함께 제공되는 설치용 잉크 카트리지는 별도로 구입할 수  없습니다.   2  사용 가능한 잉크 카트리지 3  소모품 구입 방법 • 인터넷(www.samsung.com/printer)에 접속해 주문하세요. • 가까운 삼성전자 대리점이나 서비스 센터 또는 삼성 소모품 전문점에 서 구입하세요. • 소모품 품질 문제 발생 시 가까운 삼성전자 서비스 센터를 방문하여  문의하세요. 4  삼성전자 정품 사용 • 소모품은 반드시 삼성전자 정품을 사용하세요. 유사품 사용으로 발생 한 제품의 손상에 대해서는 품질보증 및 서비스를 받을 수 없습니다. • 최고의 인쇄 품질을 얻으려면 삼성 소모품만 사용하는 것이 좋습니다. • 잉크 카트리지를 개조하거나 잉크를 다시 채워 발생한 손해에 대해서 는 품질보증 및 서비스를 받을 수 없습니다. • 다 쓴 잉크 카트리지에 잉크를 다시 채워 사용하면 압력으로 인해 잉 크 카트리지의 전자 및 기계 부품이 정상적인 수명대로 작동되지 않 을 수 있고, 부품에 문제가 생길 수 있습니다. 5  카트리지 품질보증 정보  삼성 카트리지 보증은 제품을 지정된 삼성 인쇄 장치에서 사용한 경우에 만 적용됩니다. 이 보증은 리필되었거나 재생되었거나 재정비 또는 잘못  사용되었거나 조작된 삼성 잉크 제품에는 적용되지 않습니다.  보증 기간 동안에 삼성 잉크가 남아 있고, 보증 만료일이 지나지 않은 경 우에만 제품 보증이 유효합니다.  YYYY/MM 형식의 보증 만료일은 제품에서 찾을 수 있습니다.  종류 모델 번호 평균 용량a a. ISO/IEC 24711 표준 문서 기준 평균 인쇄 용량. 인쇄 장수는 인쇄 환경, 인쇄 빈도,  그래픽, 용지 종류, 용지 크기에 따라 차이가 날 수 있습니다. 검은색 잉크 카트리지 INK-K410 (검은색) 약 1,000 장 컬러 잉크 카트리지 INK-C410 (청록색) INK-M410 (심홍색) INK-Y410 (노란색) 약 825 장 최초 구입시, 제품과 함께  제공되는 잉크 카트리지b b. 최초 구입 시, 제품과 함께 제공되는 잉크 카트리지의 평균 용량은 참조를 위한 정보 로 용량을 보장하지 않습니다. 검은색 잉크 카트리지 약 400 장 컬러 잉크 카트리지 약 330 장 '],\n",
              " '잉크 카트리지 교체': ['42 6. 카트리지 및 유지보수 잉크 카트리지 교체  검은색이 흐리게 인쇄되거나 정확한 컬러가 인쇄되지 않을 때는 사용 중 인 잉크 카트리지의 양을 확인한 후, 새 잉크 카트리지로 교체하세요.  (\"잉크 카트리지 주문\" 41쪽 참조) 프린트 길잡이에 표시되는 남은 잉크량과 잉크 카트리지 자체의 남은 잉 크량은 다를 수 있습니다.   인쇄 품질상의 문제나 추가적인 잉크 사용, 잉크 시스템의 손상을 피 하기 위해 가능한 빨리 소모된 카트리지를 교체할 것을 권장합니다.  카트리지가 없을 경우 절대 프린터를 끄지 마세요.    1 프린터의 전원이 켜져 있는지 확인합니다.  2   잉크 카트리지 교체 덮개를 여세요.    진행하기 전에 잉크 캐리지가 중앙으로 와서 멈출 때까지 기다리세요.    3   잉크 카트리지 앞쪽을 눌러 잉크 카트리지를 분리한 다음 잉크 캐 리지에서 꺼내세요.    잉크 카트리지의 앞쪽을 누른 후 천천히 손가락을 떼세요. 그렇지 않 으면 잉크 카트리지가 잉크 캐리지 밖으로 세게 튀어 나와 잉크가 묻 거나 고장의 원인이 될 수 있습니다.    4   새 카트리지의 포장을 제거하세요.  ',\n",
              "  ['잉크 카트리지 교체 43 6. 카트리지 및 유지보수 5   잉크 캐리지 빈 슬롯에 확실하게 고정될 때까지 잉크 카트리지를  밀어 넣으세요.  잉크 카트리지의 컬러 문자가 잉크 캐리지 슬롯의 문자와 일치하 는지 확인합니다.  6   잉크 카트리지 교체 덮개를 닫으세요.   새 잉크 카트리지 설치, 잉크 카트리지 교체 또는 프린터 사용 중에  최상의 인쇄 품질을 확보하기 위해 자동으로 초기화 동작을 진행합니 다. 이는 제품의 유지보수를 위한 필수 동작으로 완료 시 까지 최대  10 ~ 11분이 소요될 수 있습니다. 이것은 고장이 아니므로 안심하고  기다려 주시기 바랍니다.   ']],\n",
              " '청소하기': ['44 6. 카트리지 및 유지보수 청소하기    프린터를 청소하기 전에  (전원 버튼)을 눌러 프린터 전원을 끄고  전기 소켓에서 전원 코드를 뽑으세요.    6  외관 청소  잉크젯 제품의 특성상 사용시 주위가 오염될수 있습니다. 부드럽고 보풀 이 없는 젖은 천으로 케이스에 묻은 먼지, 얼룩 및 때를 닦으세요. 조작 부뿐 아니라, 프린터 내부에 액체가 들어가지 않게 하세요. 7  카트리지 청소하기   • 청소할 때 손이나 옷에 잉크가 묻지 않도록 주의하세요. • 잉크 카트리지를 꺼내서 청소한 뒤 30분 이상 방치해 두지 말고 바 로 장착하세요. • 컬러 잉크 카트리지를 닦을 때는 한 방향으로만 닦으세요. • 잉크 노즐면이나 접촉면에 지문 등이 묻지 않게 조심하세요.   1 잉크 카트리지 교체 덮개를 여세요.    진행하기 전에 잉크 캐리지가 중앙으로 와서 멈출 때까지 기다리세요.    2   잉크 카트리지 앞쪽을 눌러 잉크 카트리지를 분리한 다음 잉크 캐 리지에서 꺼내세요.  ',\n",
              "  ['청소하기 45 6. 카트리지 및 유지보수 3   물을 약간 적신 깨끗한 천이나 면봉으로 접촉면을 한 방향으로 닦 으세요. 4   잉크 캐리지 빈 슬롯에 확실하게 고정될 때까지 잉크 카트리지를  밀어 넣으세요.  잉크 카트리지의 컬러 문자가 잉크 캐리지 슬롯의 문자와 일치하 는지 확인합니다.  5   잉크 카트리지 교체 덮개를 닫으세요. 8  프린트 헤드와 카트리지 유지 보수 인쇄가 제대로 안되는 경우 프린트 헤드에 문제가 있을 수 있습니다.  정렬 및 청소 절차를 불필요하게 실시하면 잉크가 낭비되고 카트리지 수 명이 줄어들 수 있습니다.    • 프린트 헤드를 청소하면 잉크가 소모되므로 필요한 경우에만 청소 하세요. 청소하는데 몇 분 정도의 시간이 소요됩니다. 이 과정에서  약간의 소음이 발생할 수 있습니다.  • 항상  (전원 버튼)을 눌러 프린터의 전원을 끄세요. 프린터를 제 대로 끄지 않으면 인쇄 품질 문제가 발생할 수 있습니다.    • 인쇄된 출력물에 줄무늬가 표시되거나 컬러가 잘못되거나 누락된 경 우에는 프린트 헤드를 청소하세요. 청소를 완료한 후에도 인쇄 품질이 나쁜 경우에는 프린트 헤드를 정 렬해 보세요. 청소와 정렬 후에도 인쇄 품질 문제가 계속되면 삼성 고 객 지원 센터로 연락하세요. • 프린터 상태 페이지의 색 블록에 줄무늬나 흰색 선이 표시되거나 출 력물에 인쇄 품질 문제가 있을 경우에 프린트 헤드를 정렬하세요.  최초 설치 시 프린터에서 프린트 헤드를 자동으로 정렬합니다.  '],\n",
              "  ['청소하기 46 6. 카트리지 및 유지보수 9  프린트 헤드 청소 EWS(내장 웹 서버)에서 청소하기 1 프린트 헤드 청소 또는 정렬을 위해 사용하지 않은 일반용지 입력  용지함에 넣으세요. 2   EWS(내장 웹 서버)를 여세요.(\"프린터 관리 도구\" 57쪽 참조) 3   도구 탭을 클릭한 후 유틸리티 섹션의 인쇄 품질 도구 상자를 클릭 하세요.  4   프린트 헤드 청소를 선택한 후 화면 설명을 따르세요.  도구상자에서 청소하기 1 프린트 헤드 청소 또는 정렬을 위해 사용하지 않은 일반용지 입력  용지함에 넣으세요. 2   프린터 길잡이를 여세요.(\"프린터 관리 도구\" 57쪽 참조) 3   인쇄에 프린터 유지 관리를 여세요. 4   장치 서비스 탭에서 프린트 헤드 청소의 왼쪽 아이콘을 클릭하세요.  5   화면 설명을 따르세요.  10  프린트 헤드 정렬 프린트 조작부에서 정렬하기 1 프린트 헤드 청소 또는 정렬을 위해 사용하지 않은 일반용지 입력  용지함에 넣으세요. 2   프린터 조작부에서  (전원 버튼)을 누른 상태에서  (다시 시 작) 버튼을 3 회 누릅니다. EWS(내장 웹 서버)에서 정렬하기 1 프린트 헤드 청소 또는 정렬을 위해 사용하지 않은 일반용지 입력  용지함에 넣으세요. 2   EWS(내장 웹 서버)를 여세요.(\"프린터 관리 도구\" 57쪽 참조) 3   도구 탭을 클릭한 후 유틸리티 섹션의 인쇄 품질 도구 상자를 클릭 하세요.  4   프린트 정렬을 선택한 후 화면 설명을 따르세요.  '],\n",
              "  ['청소하기 47 6. 카트리지 및 유지보수 도구상자에서 정렬하기 1 프린트 헤드 청소 또는 정렬을 위해 사용하지 않은 일반용지 입력  용지함에 넣으세요. 2   프린터 길잡이를 여세요.(\"프린터 관리 도구\" 57쪽 참조) 3   인쇄에 프린터 유지 관리를 여세요. 4   장치 서비스 탭에서 프린트 헤드 정렬의 왼쪽 아이콘을 클릭하세요.  5   화면 설명을 따르세요.  ']],\n",
              " '7. 네트워크 설정': ['7.  네트워크 설정 이 장에서는 네트워크 환경에서 프린터를 설정하여 사용할 수 있도록 도와줍니다. • 무선 네트워크 프린터 설정 49 • 네트워크 설정 변경 53 • Wi-Fi Direct 사용 54   네트워크 프린터 연결 시 문제가 발생하면 \"네트워크 문제\"를 참조하세요.    '],\n",
              " '무선 네트워크 프린터 설정': ['49 7. 네트워크 설정 무선 네트워크 프린터 설정  1  시작하기 전에  다음을 확인합니다.  • 프린터가 유선 네트워크에 연결되어 있지 않아야 합니다. 이더넷 케 이블을 통해 네트워크에 연결되어 있다면 이더넷 케이블을 포트에서  제거해 주세요. • 무선 네트워크가 올바르게 설정되고 작동하는지 확인하세요.  • 프린터 및 프린터를 사용하는 컴퓨터가 동일한 네트워크(서브넷)에 있 는지 확인하세요.  • 프린터를 연결하는 동안 무선 네트워크 이름(SSID) 및 무선 암호를 입 력하라는 메시지가 나타날 수 있습니다. 무선 네트워크 이름은 사용 자의 무선 네트워크 이름입니다. 무선 암호는 권한이 없는 타인이 무 선 네트워크에 연결하지 못하도록 합니다. 요구되는 보안 수준에 따 라, 무선 네트워크는  WPA 암호 또는  WEP 키 중 하나를 사용하게 됩니다.    • 무선 네트워크 설정 이후, 네트워크 이름 또는 보안 암호키를 변경 하지 않았을 경우, 가끔 무선 라우터 뒷면이나 측면에서 찾아볼 수  있습니다.  • 네트워크 이름 또는 보안 암호를 찾을 수 없거나 그 정보를 잃어버 렸을 경우, 컴퓨터 또는 무선 라우터와 함께 제공되는 설명서를 참 조하세요. 여전히 그 정보를 찾지 못한 경우, 네트워크 관리자나  무선 네트워크를 설정한 담당자에게 문의하세요.   2  무선 네트워크 프린터 설정 무선 네트워크는 프린터 앞면의 파란색 표시등이 표시된 대로 기본적으로  켜져 있습니다. 무선 네트워크에 연결된 상태를 유지하려면 통신이 켜져  있어야 합니다. 그러나 프린터가 다른 네트워크에 연결되어 있거나 USB로  연결된 경우 무선 네트워크가 사용되지 않습니다. 이 경우 무선 네트워크 를 꺼둘 수도 있습니다. 무선 네트워크를 끄려면  (무선) 버튼을 누르 세요.  (무선) 버튼의 파란색 표시등이 꺼지면 무선 네트워크가 꺼진  것을 의미합니다.   • 프린트 네트워크 설정 변경은 EWS(내장 웹 서버)와 조작부를 통해 서 변경할 수 있습니다.(\"네트워크 설정 변경\" 53쪽 참조)  • 조작부에서  (무선) 버튼과  (취소) 버튼을 동시에 3초 동안  눌러 네트워크 설정을 변경할 수 있습니다. 네트워크 구성 페이지 를 인쇄하여 확인하세요. (\"네트워크 구성 페이지 인쇄\" 53쪽 참조)   ',\n",
              "  ['무선 네트워크 프린터 설정 50 7. 네트워크 설정 WPS로 연결하기 사용 중인 제품과 액세스 포인트(또는 무선 라우터)가  WPS(Wi-Fi  Protected  Setup™)를 지원하는 경우에는 컴퓨터 없이도 WPS 메뉴를 통해 간편하게  무선 네트워크를 설정할 수 있습니다.   • 인프라 모드에서 무선 네트워크를 사용하려면 제품에서 네트워크  케이블을 분리해야 합니다. 액세스 포인트 (또는 무선 라우터)에  연결할 때 WPS(푸쉬버튼)를 사용할지 컴퓨터에서 PIN 번호를 입력 할지는 사용 중인 액세스 포인트 (또는 무선 라우터)에 따라 달라 집니다. 사용 중인 액세스 포인트 (또는 무선 라우터)의 사용 설명 서를 참조하세요. • WPS를 이용하여 무선 네트워크를 설정할 경우, 액세스 포인트의 보 안설정이 변경 될 수 있으므로 현재의 무선 보안 설정에 대해 WPS 옵션을 잠금설정 하는것이 좋습니다. 옵션 이름은 사용중인 액세 스 포인트 (또는 무선 라우터)에 따라 다를 수 있습니다.   준비해야 할 항목 • 액세스 포인트 (또는 무선 라우터)가 Wi-Fi Protected Setup™(WPS)을 지원 • 제품이 Wi-Fi Protected Setup™(WPS)을 지원 • 네트워크 컴퓨터 (PIN 모드만 해당됩니다.) 네트워크 연결 선택 제품을 WPS를 이용하여 무선 네트워크에 연결하는 방법에는 두 가지가 있 습니다. • 푸쉬 버튼 방법은 제품 조작부의 WPS 메뉴에서 관련 설정을 하고  WPS(Wi-Fi Protected Setup™)기능이 지원되는 액세스 포인트(또는 무 선 라우터)의 WPS (PBC) 버튼을 각각 눌러 무선 네트워크에 제품을 연 결할 수 있습니다. • PIN 번호 방법은 Wi-Fi Protected Setup™(WPS) 지원 액세스 포인 (또 는 무선 라우터)에 제공된 PIN 정보를 입력하여 무선 네트워크에 제품 을 연결하는 것입니다. 푸시 버튼으로 프린터 연결 1 프린터 조작부에서  (무선) 버튼을 3 초 동안 누르세요. 무선 표 시등이 깜박이기 시작합니다. 2   무선 라우터 또는 무선 액세스 포인트의 WPS 버튼을 3 초 동안 누 르세요. 약 2 분 동안 기다리세요. 프린터가 성공적으로 연결되면 무선 표 시등의 깜박임이 멈추고 켜진 상태로 유지됩니다. '],\n",
              "  ['무선 네트워크 프린터 설정 51 7. 네트워크 설정 PIN 번호로 프린터 연결 1 네트워크 구성 페이지를 인쇄하여 WPS PIN을 찾으세요.(\"네트워크  구성 페이지 인쇄\" 53쪽 참조) 2   프린터 조작부에서  (무선) 버튼을 3 초 동안 누르세요. 무선 표 시등이 깜박이기 시작합니다. 3   무선 라우터 또는 무선 액세스 포인트의 구성 유틸리티나 소프트 웨어를 연 다음 WPS PIN을 입력하세요. 약 2 분 동안 기다리세요. 프린터가 성공적으로 연결되면 무선 표 시등의 깜박임이 멈추고 켜진 상태로 유지됩니다. EWS(내장 웹 서버)로 프린터 연결 프린터가 네트워크에 연결되면 프린터의 EWS(내장 웹 서버)를 사용하여  무선 네트워크를 설정할 수 있습니다. 1 EWS(내장 웹 서버)를 여세요.(\"EWS(내장 웹 서버)\" 59쪽 참조) 2   홈 탭에서, 설정의 무선 설정 마법사를 클릭합니다. 3   화면 설명을 따르세요.   무선 네트워크 설정 값을 입력 또는 변경하여, 무선 통신을 설정할 수  있습니다. 네트워크 탭에서 무선(802.11) > 고급에서 무선 설정을 변 경한 후 적용을 클릭하세요.   3  연결 유형 변경  삼성 프린터 소프트웨어를 설치했고 프린터를 컴퓨터 또는 네트워크에 연 결한 후, 소프트웨어를 사용하여 연결 유형을 변경(예를 들어, USB 연결 에서 무선 연결로)할 수 있습니다.  이더넷 연결에서 무선 연결로 변경  1 프린터에서 이더넷 케이블을 분리하세요. 2   삼성 프린터 소프트웨어를 여세요. ( (시작) 메뉴에서 모든 프로그램 >  Samsung Inkjet Printers >  해당 프린터 드라이버 이름 > 해당 프린터 드라이버 이름 선택) 3   삼성 프린터 소프트웨어에서 도구 > 장치 및 소프트웨어 설치를 여 세요. 4   새 장치 연결을 클릭한 후 사용하려는 연결 유형을 선택하세요.  5   화면 설명을 따르세요.  '],\n",
              "  ['무선 네트워크 프린터 설정 52 7. 네트워크 설정 USB 연결을 무선 네트워크로 변경  진행하기 전에 \"시작하기 전에\"에서 목록을 확인하세요.  1 삼성 프린터 소프트웨어를 여세요. ( (시작) 메뉴에서 모든 프로그램 >  Samsung Inkjet Printers >  해당 프린터 드라이버 이름 > 해당 프린터 드라이버 이름 선택) 2   삼성 프린터 소프트웨어에서 도구 > 장치 및 소프트웨어 설치를 여세요. 3   새 장치 연결을 클릭한 후 사용하려는 연결 유형을 선택하세요.  4   화면 설명을 따르세요.  무선 연결에서 USB 또는 이더넷 연결로 변경 프린터에 USB 또는 이더넷 케이블을 프린터에 연결하세요.    이더넷 케이블을 연결하면 프린터의 무선 기능이 꺼집니다.    4  무선 네트워크 연결 테스트  프린터 무선 연결에 대한 정보는 무선 테스트 보고서를 인쇄해 참고하세 요. 무선 테스트 보고서에는 프린터의 상태, 하드웨어(MAC) 주소 및 IP 주 소 등이 적혀 있습니다. 무선 연결에 문제가 있거나 무선 연결이 실패한  경우 무선 테스트 보고서에서도 진단 정보를 제공합니다. 무선 테스트 보고서를 인쇄하려면 네트워크가 활성화된 상태에서  (네 트워크 정보) 버튼을 누르세요. 5  무선 기능 켜기 / 끄기  프린터의 무선 기능이 꺼져 있으면 조작부의 파란색 무선 표시등이 꺼집니다.  (무선 버튼)을 눌러 프린터 무선 기능을 켤 수 있습니다.   이더넷 케이블을 프린터에 연결하면 자동으로 무선 기능과 무선 표시 등이 꺼집니다.    상태 꺼짐 무선 기능이 꺼져 있습니다. 깜박임 무선 기능이 켜져있으나, 프린터가 네트워크에 연결되지 않았습니다. 켜짐 무선 기능이 켜진 채로 프린터가 네트워크에 연결되었습니다. ']],\n",
              " '네트워크 설정 변경': ['53 7. 네트워크 설정 네트워크 설정 변경    네트워크 설정은 사용자 편의를 위해 제공됩니다. 그러나 관리자가  아니라면 링크 속도, IP 설정, 기본 게이트웨이, 방화벽 설정 등 이 러한 설정의 일부를 변경해서는 안됩니다.    6  네트워크 구성 페이지 인쇄 (네트워크 정보) 버튼을 눌러 네트워크 구성 페이지를 인쇄할 수 있습 니다. 7  링크 속도 설정 네트워크에서 전송되는 데이터의 속도를 변경할 수 있습니다. 1 EWS(내장 웹 서버)를 여세요. 2   네트워크 탭을 클릭한 후 유선(802.3) 섹션에서 고급 구성을 클릭 하세요. 3   링크 설정에서 수동을 누르세요.  4   해당 네트워크 하드웨어에 맞는 적절한 옵션을 누르세요.  8  IP 변경 IP 설정에 대한 기본값은 자동입니다. 관리자가 다른 설정(예: IP 주소,  서브넷 마스크 또는 기본 게이트웨이)을 사용하고자 할 경우, 수동으로  변경할 수 있습니다.    수동으로 IP 주소를 설정하기 전에, 자동 모드를 이용해 먼저 프린터  네크워크에 연결하는 것이 좋습니다. 이렇게 하면 라우터를 통해 서 브넷 마스크, 기본 게이트웨이 및 DNS 주소와 같은 그 밖의 필요 설 정과 함께 프린터를 구성할 수 있습니다.     IP 주소를 수동으로 지정할 때 주의하세요. 설치 중 유효하지 않은 IP 주 소를 입력한 경우 네트워크 구성요소를 프린터와 연결할 수 없습니다.   1 EWS(내장 웹 서버)를 여세요. 2   네트워크 탭을 클릭한 후 유선(802.3) 또는 무선(802.11) 섹션에서  IPv4 구성을 클릭하세요. 3   IP 주소 구성 섹션에서 수동을 누르세요.    IP 주소 변경 시 네트워크에서 프린터를 제거하는 경고 메시지가 나 타납니다. 계속하려면 확인을 누르세요.   4   IP 설정을 변경하세요. 5   적용을 누르세요. '],\n",
              " 'Wi-Fi Direct 사용': ['54 7. 네트워크 설정 Wi-Fi Direct 사용 Wi-Fi Direct를 사용하여 컴퓨터, 스마트폰, 태블릿 또는 기타 무선 지원  장치에서 기존 무선 네트워크에 연결하지 않고 무선으로 인쇄할 수 있습 니다.  9  Wi-Fi Direct란? Wi-Fi Direct란, Wi-Fi Direct를 지원하는 프린터와 모바일 장치를 쉽게 직 접 연결하고, Ad-hoc모드보다 보안 및 성능이 향상된 기술입니다. Wi-Fi  Direct로 액세스 포인트 (또는 무선 라우터)를 연결하는 동시에, Wi-Fi  Direct로 직접 네트워크에 프린터를 연결할 수 있습니다. 또한, 여러 사 용자가 Wi-Fi Direct로부터 유선 네트워크에서 두 문서를 인쇄할 수 있도 록 동시에 유선 네트워크와 무선 네트워크를 직접 사용할 수 있습니다. 10  Wi-Fi Direct 사용  • 컴퓨터 또는 모바일 장치에 필요한 소프트웨어가 있는지 확인하세요.  - 컴퓨터를 사용하는 경우, 프린터와 함께 제공된 프린터 소프트웨 어가 설치되었는지 확인하세요. 컴퓨터에 삼성 프린터 소프트웨어를 설치하지 않았으면 먼저 Wi- Fi Direct에 연결한 후, 프린터 소프트웨어를 설치합니다. 프린터  소프트웨어가 연결 유형을 묻는 메시지를 표시하면 무선을 선택하 세요.  - 모바일 장치를 사용하는 경우, 호환 가능한 인쇄 응용 프로그램이  설치되었는지 확인하세요.  • 프린터 Wi-Fi Direct가 켜져 있는지 확인하세요.  • 최대 5대의 컴퓨터와 모바일 장치가 같은 Wi-Fi Direct 연결을 사용할  수 있습니다.  • Wi-Fi Direct는 프린터가 USB 케이블을 사용하는 컴퓨터나 무선 연결 을 사용하는 네트워크에 연결되어 있을 때도 사용할 수 있습니다.  • Wi-Fi Direct는 컴퓨터, 모바일 장치 또는 프린터를 인터넷에 연결하 는 용도로는 사용할 수 없습니다.  11  Wi-Fi Direct 켜기 1 EWS(내장 웹 서버)를 여세요.(\"프린터 관리 도구\" 57쪽 참조) 2   네트워크 탭을 클릭한 후 무선 직접 인쇄의 상태를 클릭하세요.  3   무선 직접 인쇄가 끄기로 표시된 경우, 설정 편집을 클릭하세요.  4   무선 직접 인쇄 상태를 설정으로 변경 후 적용을 클릭세요.   보안 설정을 할 경우, 암호를 알고있는 사용자만 무선으로 프린터에  연결할 수 있습니다. 보안 설정을 해제하면 프린터의 무선 범위 내에 서 무선 장치가 있는 누구든지 프린터에 연결할 수 있습니다.   ',\n",
              "  ['Wi-Fi Direct 사용 55 7. 네트워크 설정 12  무선 모바일 장치에서 인쇄 (Wi-Fi Direct 지원) 최신 버전의 삼성 인쇄 서비스 플러그 인이 모바일 장치에 설치되어 있는 지 확인합니다. 이 플러그인은 Google Play 앱 스토어에서 다운로드 받을  수 있습니다.  1 프린터에서 Wi-Fi Direct를 켰는지 확인하세요.  2   모바일 장치에서 Wi-Fi Direct를 켜세요.  자세한 내용은 모바일 장치와 함께 제공된 설명서를 참조하세요.  3   모바일 장치의 인쇄 가능한 앱에서 문서를 선택한 다음 문서 인쇄  옵션을 선택하세요.  사용 가능한 프린터 목록이 표시됩니다.  4   사용 가능한 프린터 목록에서 SA-Print-**- SL-XXXX 와 같이 표시되 는 Wi-Fi Direct 이름을 선택하여 모바일 장치를 연결하세요.(여기 서 **은 프린터를 식별하는 고유 문자이며 XXXX는 프린터에 있는  프린터 모델임) • 장치가 프린터에 자동으로 연결되지 않는 경우 조작부에 표시 되는 설명에 따라 프린터에 연결하세요.  • 조작부에 PIN 코드가 표시되는 경우 모바일 장치에 해당 PIN 코 드를 입력하세요. • 모바일 장치가 프린터에 성공적으로 연결되면 프린터가 인쇄를  시작합니다.  13  무선 모바일 장치에서 인쇄 (Wi-Fi Direct 미지원) 모바일 장치에서 호환 가능한 인쇄 응용 프로그램을 설치했는지 확인하세요.  1 프린터에서 Wi-Fi Direct를 켰는지 확인하세요.  2   모바일 장치의 Wi-Fi 연결을 켜세요.  자세한 내용은 모바일 장치와 함께 제공된 설명서를 참조하세요.    모바일 장치에서 Wi-Fi를 지원하지 않으면 Wi-Fi Direct를 사용할 수  없습니다.    3   모바일 장치에서 새 네트워크를 연결하세요. 프로세스를 정상적으 로 사용하여 새 무선 네트워크 또는 핫스팟을 연결하세요. SA- Print-**- SL-XXXX 와 같이 표시된 무선 네트워크의 목록에서 Wi-Fi  Direct 이름을 선택합니다(여기서 **는 프린터를 식별하는 고유 문 자이며 XXXX는 프린터에 있는 프린터 모델임).  메시지가 나타나면 Wi-Fi Direct 암호를 입력합니다.  4   문서를 인쇄합니다. '],\n",
              "  ['Wi-Fi Direct 사용 56 7. 네트워크 설정 14  무선 지원 컴퓨터에서 인쇄 1 프린터에서 Wi-Fi Direct를 켰는지 확인하세요.  2   컴퓨터에서 Wi-Fi 연결을 켜세요.  자세한 내용은 컴퓨터와 함께 제공된 설명서를 참조하세요.    컴퓨터에서 Wi-Fi를 지원하지 않으면 Wi-Fi Direct를 사용할 수 없습 니다.    3   컴퓨터에서 새 네트워크를 연결하세요. 프로세스를 정상적으로 사 용하여 새 무선 네트워크 또는 핫스팟을 연결하세요. SA-Print-**-  SL-XXXX 와 같이 표시된 무선 네트워크의 목록에서 Wi- Fi Direct  이름을 선택합니다(여기서 **는 프린터를 식별하는 고유 문자이며  XXXX는 프린터에 있는 프린터 모델임).  메시지가 나타나면 Wi-Fi Direct 암호를 입력하세요.  4   프린터를 설치하고 무선 네트워크로 컴퓨터에 연결한 경우 5단계 로 이동하세요. 프린터를 설치하고 USB 케이블로 컴퓨터에 연결한 경우, 아래 단계 를 따라 Wi-Fi Direct 연결을 사용하여 삼성 프린터 소프트웨어를  설치하세요.  a  삼성 프린터 소프트웨어를 여세요. ( (시작) 메뉴에서 모든 프로그램 >  Samsung Inkjet  Printers > 해당 프린터 드라이버 이름 >  해당 프린터 드라이 버 이름 > 선택) b  도구를 클릭하세요. c  장치 및 소프트웨어 설치를 클릭한 후, 새 장치 연결을 선택하 세요. d  연결 옵션 소프트웨어 화면이 나타나면 무선-장치에 무선으로  연결을 선택하세요.  e  프린터 목록에서 삼성 프린터를 선택하세요.  f  화면 설명을 따르세요.  5   문서를 인쇄합니다. ']],\n",
              " '8. 프린터 관리 도구': ['8.  프린터 관리 도구 이 장에서는 제품을 최대한 활용하여 사용할 수 있게 도와주는 관리 프로그램에 대해 설명합니다.  • 프린터 길잡이 58 • EWS(내장 웹 서버) 59 '],\n",
              " '프린터 길잡이': ['58 8. 프린터 관리 도구 프린터 길잡이 프린터 길잡이는 프린터에 대한 전반인 사용에 필요한 정보를 제공합니다. 프린터 길잡이를 열어 보세요. 1 삼성 프린터 소프트웨어를 여세요.  ( (시작) 메뉴에서 모든 프로그램 >  Samsung Inkjet Printers > 해당 프린터 드라이버 이름 > 해당 프린터 드라이버 이름 선택) 2   적합한 옵션을 선택하여 제품을 사용하는데 도움을 받을 수 있습니다. • 인쇄: 인쇄에 관한 정보를 알 수 있습니다. 프린터 연결 유형에 따라 사용할 수 있는 항목이 다를 수 있습니다. • 쇼핑: 소모품에 대한 정보를 얻을 수 있습니다. • 도움말: 온라인으로 자가진단, 제품 지원 및 도움에 필요한 사용 설명서를 볼 수 있습니다. • 도구: 장치 드라이버 관련 소프트웨어 설치 및 IP 주소 업데이트를 할 수 있습니다. • 예상 수준: 잉크 카트리지 사용 상태를 그래픽으로 바로 보여줍니다. 표시되는 남은 잉크량과 잉크 카트리지 자체의 남은 잉크량은 다를 수  있습니다. '],\n",
              " 'EWS(내장 웹 서버)': ['59 8. 프린터 관리 도구 EWS(내장 웹 서버) 네트워크에 연결되어 있으면 프린터의 EWS(Embedded Web Server)를 사용하 여 상태 정보를 확인하고, 설정을 변경하고, 컴퓨터에서 장치를 관리할  수 있습니다.    • 일부 설정을 보거나 변경하려면 암호가 필요할 수 있습니다.  • 인터넷에 연결하지 않고도 EWS(내장 웹 서버)를 열고 사용할 수 있 습니다. 하지만 일부 기능은 사용할 수 없습니다.    1  필요한 웹 브라우저 내장 웹 서버를 사용하려면 다음 웹 브라우저 중에 하나가 필요합니다. • Internet Explorer® 6.0 이상 • Chrome 4.0 이상 • FireFox 3.0 이상 • Safari 3.0 이상 2  EWS(내장 웹 서버) 열기  네트워크를 통해 내장 웹 서버를 액세스할 수 있습니다.  1 URL로 지원하는 웹 브라우저(예:Internet Explorer®)를 시작하세요. 2   주소 입력란에 제품의 IP 주소(http://xxx.xxx.xxx.xxx)를 입력한  후 엔터 키나 이동을 클릭하세요.   프린터가 네트워크에 연결되어 있고, IP 주소가 할당되어 있어야 합 니다.  (무선 버튼)을 누르거나 네트워크 구성 페이지를 인쇄하여  프린터의 IP 주소나 호스트명를 확인하세요.(\"네트워크 구성 페이지  인쇄\" 53쪽 참조)   3  EWS(내장 웹 서버)를 열 수 없는 경우  네트워크 설정 확인  • 전화선 또는 크로스오버 케이블을 사용하여 네트워크에 프린터를 연 결했는지 확인하세요. • 네트워크 케이블이 프린터에 제대로 연결되어 있는지 확인하세요.  • 네트워크 허브, 스위치 또는 라우터가 켜져 있으며 제대로 작동하는 지 확인하세요. ',\n",
              "  ['EWS(내장 웹 서버) 60 8. 프린터 관리 도구 컴퓨터 점검  • 사용 중인 컴퓨터가 프린터와 동일한 네트워크에 연결되었는지 확인 하세요. 웹 브라우저 점검    자세한 내용은 웹 브라우저에서 이용할 수 있는 설명서를 참조하세요.    • 웹 브라우저가 최소 시스템 요구 사항을 충족하는지 확인하세요.  • 웹 브라우저에서 프록시 설정을 이용해 인터넷에 접속할 경우, 이러 한 설정을 해제하세요.  • JavaScript 및 쿠키가 웹 브라우저에서 활성화되어 있는지 확인하세요. 프린터 IP 주소 점검  • 프린터의 IP 주소가 올바른지 확인합니다.  프린터 IP 주소를 확인하려면 조작부에서  (네트워크 정보) 버튼을  누르세요. • 프린터의 IP 주소가 유효한지 확인합니다.  프린터 IP 주소는 라우터의 IP 주소와 유사한 형식이어야 합니다. 예 를 들어 라우터 IP 주소가 192.168.0.1 또는 10.0.0.1이라면 프린터 IP  주소는 192.168.0.5 또는 10.0.0.5입니다.  프린터 IP 주소가 169.254.XXX.XXX 또는 0.0.0.0과 유사하다면 네트워 크에 연결되어 있지 않은 것입니다. 4  EWS(내장 웹 서버) 알아두기 사용하기 전에 내장 웹 서버에서 네트워크 환경을 설정하는 여러 기능을  설명합니다. 홈 탭 이 탭에서는 제품에 대한 전반적인 정보를 알 수 있습니다. 소모품 상태,  사용량 정보, 네트워크 정보 등을 확인할 수 있습니다. '],\n",
              "  ['EWS(내장 웹 서버) 61 8. 프린터 관리 도구 네트워크 탭 제품을 네트워크에 연결해 사용하기 위한 네트워크 환경을 설정할 수 있 습니다. 또한 제품에서도 설정을 지정할 수 있습니다. 네트워크 설정 장 을 참조하세요. 도구 탭 제품 정보, 보고서를 볼 수 있으며 제품의 설정을 백업하고, 제품에 문제 가 발생할 시에 설정을 복원할 수 있습니다. 저장된 (백업) 파일로 다른  제품도 설정할 수 있습니다. 설정 탭 제품 환경 설정 및 방화벽관련 설정을 지정할 수 있습니다. ']],\n",
              " '9. 문제 해결': ['9.  문제 해결 이 장에서는 문제가 발생했을 경우 해결하는 방법을 설명합니다.  • 용지 걸림을 예방할 수 있는 정보 63 • 용지 걸림 제거 64 • 잉크 캐리지 걸림 해결 68 • 인쇄 문제 69 • 인쇄 품질 문제 70 • 네트워크 문제 71 • 상태 표시등(LED) 이해하기 72 • 기타 문제 해결 76   문제가 발생하면 먼저 디스플레이의 메시지를 확인하고 해결하면 편리합니다. 사용 설 명서에서 문제 해결 방법을 찾을 수 없거나 문제가 계속될 경우 서비스 센터에 문의하 세요.    '],\n",
              " '용지 걸림을 예방할 수 있는 정보': ['63 9. 문제 해결 용지 걸림을 예방할 수 있는 정보 용지 걸림을 방지하려면 다음 설명을 따르세요. • 출력 용지함에서 인쇄된 용지를 자주 꺼내세요. • 구김, 접힘, 오염, 손상이 없는 용지로 인쇄하세요. • 사용하지 않은 모든 용지는 다시 봉합할 수 있는 봉투에 편평하게 보 관하여 용지가 말리거나 주름지지 않도록 하세요.  • 프린터용으로 너무 두껍거나 너무 얇은 용지를 사용하지 마세요.  • 용지함을 올바르게 넣었으며, 용지가 꽉 차지 않았는지 확인합니다.  (\"용지 넣기\" 22쪽 참조) • 용지가 용지함에 편평하게 놓여 있으며 가장자리가 휘거나 찢어지지  않았는지 확인하세요. • 종류와 크기가 다른 용지를 섞어서 입력 용지함에 넣지 마세요. 입력  용지함에 넣는 전체 용지 묶음은 같은 크기와 같은 종류여야 합니다.  • 모든 용지에 잘 맞도록 입력 용지함의 용지 너비 조절 가이드를 조정 하세요. 용지 너비 조절 가이드로 인해 입력 용지함의 용지가 휘지 않 았는지 확인하세요. • 각 용지에 잘 맞도록 입력 용지함의 용지 길이 가이드를 각각 조정하 세요. 용지 길이 가이드로 인해 용지함의 용지가 휘지 않도록 하세요.  • 용지를 입력 용지함 안으로 너무 깊이 밀어 넣지 마세요.  • 얇은 용지에 너무 진한 이미지를 인쇄하지 마세요.  • 프린터에 권장되는 종류의 용지를 사용하세요.  • 프린터에서 인쇄를 진행하는 동안에는 용지를 넣지 마세요.  • 용지함을 분리할 때 용지함을 프린터에서 완전히 분리하여 용지함 주 변에 종이가 걸리지 않게 합니다. 프린터에서 용지함이 있던 빈 공간 을 확인하여 모든 종이를 제거 하세요.  '],\n",
              " '용지 걸림 제거': ['64 9. 문제 해결 용지 걸림 제거 1  인쇄 영역에서 용지 걸림 뒷면에서 제거   프린트 헤드에 발생할 수 있는 손상을 방지하려면, 용지 걸림을 가능 한 빨리 해결해야 합니다.   1 출력 용지함에서 용지를 모두 꺼내세요. 2   프린터 뒷면을 확인하세요. 뒷덮개 양쪽에 있는 버튼을 누른 상태로 앞으로 당겨 뒷덮개를 여세요.   프린터 앞면에서 용지 걸림을 제거하려고 하면 인쇄 메커니즘이 손상 될 수 있습니다. 항상 뒷덮개을 통해서 걸린 용지를 제거하세요.   3   프린터 내부에 걸린 용지를 찾아 양손으로 조심스럽게 용지를 잡 고 앞으로 잡아당기세요.   • 롤러에서 용지를 제거하다 용지가 찢어진 경우 프린터 안쪽을 롤 러와 휠에 종이 조각이 남아 있지 않는지 확인하세요. • 조명을 비추어 프린터 내부에 찢어진 용지가 남아 있는지 확인하 세요. 프린터에서 종이 조각을 모두 제거하지 않으면 나중에 용지 가 걸릴 수 있습니다.   4   뒷덮개가 제자리에 들어갈 때까지 프린터로 밀어 넣으세요. 5   걸림을 제거한 후 모든 커버를 닫고 프린터를 다시 켠 다음(꺼져  있는 경우) 인쇄 작업을 재전송하세요. ',\n",
              "  ['용지 걸림 제거 65 9. 문제 해결 2  인쇄 영역에서 용지 걸림 앞면에서 제거   프린트 헤드에 발생할 수 있는 손상을 방지하려면, 용지 걸림을 가능 한 빨리 해결해야 합니다.   1 출력 용지함에서 용지를 모두 꺼내세요. 2   프린터 전면을 확인하세요. 잉크 카트리지 교체 덮개를 여세요. 3   프린터 내부에 용지가 남아 있을 경우, 잉크 캐리지가 프린터 오 른쪽으로 이동했는지 확인하고 용지 조각이나 구겨진 용지를 제거 하고 프린터의 상단을 통해 용지를 빼냅니다. 걸린 용지가 이 부분에서 잘 제거되지 않으면 다음 단계로 가세요. 잉크 캐리지를 프린터의 왼쪽 끝으로 이동하고 이전 단계와 동일 하게 진행하여 찢어진 용지 조각을 제거하세요.   • 롤러에서 용지를 제거하다 용지가 찢어진 경우 프린터 안쪽을 롤 러와 휠에 종이 조각이 남아 있지 않는지 확인하세요. • 조명을 비추어 프린터 내부에 찢어진 용지가 남아 있는지 확인하 세요. 프린터에서 종이 조각을 모두 제거하지 않으면 나중에 용지 가 걸릴 수 있습니다. • 프린터가 켜져 있는 상태에서 잉크 캐리지가 걸린 경우 프린터 내부를  만지지 마세요. 잉크 카트리지 교체 덮개를 열면 잉크 캐리지는 원래  위치인 프린터의 오른쪽 측면으로 돌아가야 합니다. 오른쪽으로 이동 하지 않으면 프린터를 끈 다음 걸린 용지를 제거하세요.   걸린 용지가 이 부분에서 잘 제거되지 않으면 다음 단계로 가세요. '],\n",
              "  ['용지 걸림 제거 66 9. 문제 해결 a  프린터 내부에 용지가 남아 있을 경우, 잉크 캐리지가 프린터  왼쪽으로 이동했는지 확인하고, 잉크 카트리지 보조 덮개를 여 세요.   • 이 단계에서는 전원을 끄고 용지를 제거하세요.  • 잉크 카트리지 보조 덮개를 열면 고여있는 잉크가 보입니다. 이것 은 고장이 아니므로 안심하고 사용해주세요.   b  잉크 카트리지 보조 덮개 안쪽 용지 조각을 제거하세요.   조명을 비추어 프린터 내부에 찢어진 용지가 남아 있는지 확인하세요.  프린터에서 종이 조각을 모두 제거하지 않으면 나중에 용지가 걸릴  수 있습니다.   c  걸림을 제거한 후 잉크 카트리지 보조 덮개를 닫으세요. 4   모든 커버를 닫고 프린터를 다시 켠 다음(꺼져 있는 경우) 인쇄 작 업을 재전송하세요. '],\n",
              "  ['용지 걸림 제거 67 9. 문제 해결 3  용지 공급 문제 상태 해결방법 용지가 잘 들어가지 않아요. • 용지함에 권장하는 용지가 제대로 넣어져 있는지 확인합니다. (\"용지 넣기\" 22쪽 참조) 용지함에 넣기 전에 용지 를 정렬해 주세요.  • 넣으려는 용지 크기에 맞게 용지 너비 조절 가이드가 용지함의 올바른 눈금으로 설정되어 있는지 확인합니다. 용 지 조절 가이드가 용지 묶음에 꼭 맞고 너무 빈틈이 없지는 않도록 하세요.  • 용지 묶음이 입력 용지함 하단의 적절한 용지 크기 선에 맞게 정렬되어 있는지 확인하고, 용지함 측면 또는 용지  너비 가이드의 라벨에 표시된 적정 높이를 넘지 않도록 해야 합니다.  • 용지함의 용지가 말려 있지 않은지 확인합니다. 용지가 휘어 있다면, 휘어 있는 방향과 반대 방향으로 용지를 구 부려 펴세요.  용지가 비뚤어져요.  • 입력 용지함에 넣은 용지가 용지 너비 조절 가이드에 정렬되어 있는지 확인합니다. 필요한 경우, 프린터에서 입 력 용지함을 당겨 빼내고 용지 가이드가 제대로 정렬되어 있는지 확인하며 용지를 올바로 다시 넣으세요.  • 프린터가 인쇄하는 동안에는 용지를 넣지 마세요. 용지가 겹쳐져서 들어가요. • 넣으려는 용지 크기에 맞게 용지 너비 조절 가이드가 용지함의 올바른 눈금으로 설정되어 있는지 확인합니다. 용 지 너비 조절 가이드가 용지 묶음에 꼭 맞고 너무 빈틈이 없지는 않도록 하세요.  • 용지 묶음이 입력 용지함 하단의 적절한 용지 크기 선에 맞게 정렬되어 있는지 확인하고, 용지함 측면 또는 용지  너비 가이드의 라벨에 표시된 적정 높이를 넘지 않도록 해야 합니다.  • 용지함에 용지가 과다 적재되지 않았는지 확인합니다.  • 최적의 성능과 효율성을 위해서는 권장 용지를 사용하세요.  ']],\n",
              " '잉크 캐리지 걸림 해결': ['68 9. 문제 해결 잉크 캐리지 걸림 해결 어떤 물체가 잉크 캐리지가 움직이지 못하게 막고 있을 수 있습니다. 새 프린터라면 잉크 캐리지 부분의 포장재를 모두 제거했는지 확인하세요. 새  프린터가 아니면 잉크 캐리지 부분에 이물질(예: 머리카락 또는 클립) 있는지 확인하세요. 잉크 캐리지에 걸려 있는 용지 또는 이물질을 제거하세요. • \"용지 걸림 제거\" 64쪽 참조 • \"청소하기\" 44쪽 참조   걸린 용지를 제거하기 위해 아무런 공구나 기타 장치를 함부로 사용하지 마세요. 프린터 내부에서 걸린 용지를 제거할 때는 손이 다치지 않도록 항 상 주의하세요.   '],\n",
              " '인쇄 문제': ['69 9. 문제 해결 인쇄 문제  상태 해결방법 인쇄가 되지 않아요. • 디스플레이에서 오류 메시지를 확인하고 다음 화면의 설명을 따라 해결합니다. • 컴퓨터가 USB 케이블을 통해 프린터와 연결된 경우 USB 케이블을 분리한 다음 다시 연결하세요. 컴퓨터가 프린터에  무선으로 연결되어 있으면 무선 연결이 제대로 작동하고 있는지 확인합니다. • 프린터가 일시 중지 또는 오프라인 상태가 아닌지 확인합니다. - 프린터 아이콘을 더블 클릭하거나 마우스 오른쪽 버튼으로 클릭하고 인쇄 작업 목록 보기를 선택하여 인쇄 대기열 을 여세요.  - 프린터 메뉴에서 인쇄 일시 정지 또는 프린터 오프라인 사용 옆에 확인 표시가 없는지 확인합니다.  • 프린터가 기본 프린터로 설정되었는지 확인합니다. - 적절한 프린터가 기본 프린터로 설정되어 있는지 확인합니다.  기본 프린터 옆에는 검은색 또는 녹색 원으로 선택 표시가 붙어 있습니다.  - 부적절한 프린터가 기본 프린터로 설정된 경우에는 적절한 프린터를 마우스 오른쪽 버튼으로 클릭하고 기본 프린 터로 설정을 선택하세요.  • 인쇄 스풀러를 다시 시작합니다. • 컴퓨터를 재부팅하세요. • 인쇄 대기열을 지우세요. • 프린터를 재설정 해보세요. 인쇄 중간에 인쇄가 되지 않아요. 인쇄 중에 잉크 카트리지 색상 보정 작업으로 시간이 소요될 수 있습니다. 이것은 고장이 아니므로 안심하고 기다려 주세요.  인화지의 인쇄 초기에 소리가 나요. 인화지와 같은 표면이 매끄러운 용지의 경우 용지를 끌어 올리는 롤러와의 마찰에 의해 소리가 날 수 있습니다. 고장이 아니 므로 안심하세요. '],\n",
              " '인쇄 품질 문제': ['70 9. 문제 해결 인쇄 품질 문제    인쇄 품질 문제를 예방하려면 항상 전원 버튼을 사용하여 프린터를 끄고, 전원 스트립을 뽑거나 끄기 전에 전원 버튼 표시등이 완전히 꺼질 때까지  기다리세요. 이렇게 하면 프린터에서 카트리지가 마르지 않도록 카트리지를 캡이 씌워진 위치로 이동할 수 있습니다.        상태 해결방법 인쇄 품질이 안 좋아요. • 정품 삼성 카트리지를 사용하고 있는지 확인하세요.  • 프린터 소프트웨어를 확인하여 용지/품질 탭에서 적합한 용지 유형과 품질 설정 항목에서 인쇄 품질을 선택하세요. • 일정 간격으로 가로 줄무늬가 생길 경우 출력 품질을 최상으로 선택 후 인쇄하세요. • 일반용지를 사용하여 사진 인쇄 시 일부가 뿌옇거나 약간 하얗게 인쇄될 경우 잉크젯 전용 인화지를 사용하셔야 최상의 인 쇄 품질은 얻을 수 있습니다. • 예상 잉크량을 확인하여 남은 카트리지 잉크가 부족하지 않은지 확인하세요. (\"예상 잉크량 확인\" 40쪽 참조) 카트리지에 잉크가 부족하면, 교체를 고려해 보세요.  • 프린트 헤드를 정렬하세요. (\"청소하기\" 44쪽 참고) • 카트리지의 잉크량이 적은 경우가 아니면 카트리지 진단 페이지를 인쇄해서 해결하세요. (\"기타 문제 해결\" 76쪽 참고) • 컬러 및 검정 박스에 줄이 보이 거나 일부 박스에 잉크가 없는 경우 프린트 헤드를 자동으로 청소하세요. (\"청소하기\" 44 쪽 참고) • 프린트 헤드를 청소해도 문제가 해결되지 않을 경우 삼성 고객 지원에 문의하세요. • 용지 종류를 확인해보세요. 특수 용지는 원래 포장에 넣은 상태나 재밀봉 가능한 플라스틱 백 안에 넣은 상태로 서늘하고  건조한 장소의 편평한 면에 보관하세요. 인쇄할 준비가 되면 바로 사용할 용지만 꺼내세요. 인쇄가 끝났을 때는 사용하지  않은 인화지를 플라스틱 백에 다시 넣으세요. 이렇게 하면 인화지가 말리지 않습니다.  '],\n",
              " '네트워크 문제': ['71 9. 문제 해결 네트워크 문제  상태 해결방법 무선 연결이 되지 않아요. • 프린터가 연결된 적이 없거나 연결되어 있지만 더 이상 작동하지 않는 경우 무선 문제를 해결합니다. 방화벽 또는 바이러 스 백신이 컴퓨터에서 프린터에 연결하지 못하게 막고 있다고 생각되면 방화벽 또는 바이러스 백신 문제를 해결합니다.  • Wi-Fi Direct 문제를 해결하거나 Wi-Fi Direct 구성 방법을 알아보세요.  • 네트워크 구성을 확인하거나 무선 테스트 보고서를 인쇄하여 네트워크 연결 문제를 진단하세요. 이더넷 연결이 되지 않아요. • 스파이웨어 방지 프로그램을 포함한 바이러스 백신 프로그램은 프린터에 네트워크를 연결하는데 영향을 끼치지 않고 있습 니다. 바이러스 백신 또는 방화벽 소프트웨어가 컴퓨터에서 프린터에 연결하지 못하게 막고 있으면  온라인 방화벽 문제  해결사를 사용하여 문제를 해결하세요.  '],\n",
              " '상태 표시등(LED) 이해하기': ['72 9. 문제 해결 상태 표시등(LED) 이해하기 4  조작부 표시등 표시등(LED) 색상 및 깜박임을 통해 제품의 현재 상태를 확인할 수 있습니다.   상태 및 해결방법 - - - - 프린터가 꺼져 있습니다. • 전원 코드를 연결하세요. • (전원) 버튼을 누르세요. - - - 켜짐 프린터가 준비 상태입니다. • 필요한 조치가 없습니다. - - - 깜박임 • 프린터를 켜거나 끄는 중 또는 인쇄 작업을 처리하는 중입니다. - 필요한 조치가 없습니다. • 잉크를 말리기 위해 프린터를 일시 중지한 상태입니다. - 잉크가 마를 때까지 기다리세요. ',\n",
              "  ['상태 표시등(LED) 이해하기 73 9. 문제 해결 깜박임 깜박임 - 켜짐 • 프린터에 인쇄 용지가 걸렸습니다. - 입력 용지함에서 용지를 모두 꺼내세요. 걸린 용지를 찾아 제거하세요.(\"인쇄 영역에서 용지 걸림 뒷면에 서 제거\" 64쪽 참고) • 용지 너비 설정과 실제 넣은 용지의 너비가 다릅니다. - 프린터 서버의 용지 설정을 실제로 넣은 용지와 일치하도록 변경하세요. • 프린터에 용지가 없습니다. - 용지를 넣은 후,  (다시 시작) 버튼을 누르세요. • 프린터 캐리지가 정지되었습니다. - 상단 커버를 열고 걸린 용지 등 이물질을 제거하세요. - (다시 시작) 버튼을 눌러 인쇄를 계속하세요. - 오류가 계속되면 프린터를 껐다 다시 켜세요. - 깜박임 - 켜짐 • 전면 덮개, 청소구 또는 용지 걸림 도어가 완전히 닫히지 않았습니다. - 모든 커버가 완전히 닫혔는지 확인하세요. - 깜박임 깜박임 켜짐 잉크 카트리지 표시등이 왼쪽에서 오른쪽으로 하나씩 깜박입니다. • 프린트 헤드가 없거나 잘못되었습니다. - 프린터를 껐다가 다시 켜세요. - 문제가 해결되지 않을 경우 삼성 고객 지원에 문의하세요. 상태 및 해결방법 '],\n",
              "  ['상태 표시등(LED) 이해하기 74 9. 문제 해결 - 깜박임 깜박임 깜박임 잉크 카트리지 표시등이 왼쪽에서 오른쪽으로 하나씩 깜박입니다. • 프린트 헤드가 호환되지 않습니다. - 프린터를 껐다가 다시 켜세요. - 문제가 해결되지 않을 경우 삼성 고객 지원에 문의하세요. • 잉크 카트리지가 잘못되었거나, 주의가 필요하거나, 잘못 장착되었거나, 호환 되지 않았습니다. - 표시된 잉크 카트리지를 제대로 설치했는지 확인하고 다시 인쇄하세요. 필요 시 잉크 카트리지를 제거한 후  다시 넣어 보세요. - 오류가 계속되면 카트리지를 교체하세요. - 깜박임 깜박임 켜짐 하나 이상의 잉크 카트리지 표시등이 깜박입니다. • 하나 이상의 잉크 카트리지가 없습니다. - 표시된 잉크 카트리지를 설치하고 인쇄를 하세요. 필요시 잉크 카트리지를 제거한 후 다시 넣으세요. - 오류가 계속되면 잉크 카트리지를 교체하세요. • 잉크 잔량이 소모되었습니다. - 해당 잉크 카트리지를 교체하세요.   메시지가 표시되어도 잉크 카트리지를 계속 사용할 수 있지만, 인쇄 품질이 저하될 수 있습니다.   상태 및 해결방법 '],\n",
              "  ['상태 표시등(LED) 이해하기 75 9. 문제 해결   - - 켜짐 켜짐 • 하나 이상의 잉크 카트리지에 잉크가 부족한 경우입니다. - 잉크 카트리지를 빨리 교체해주세요.   잉크 부족 경고 및 표시등은 잉크 교체가 필요함을 사전에 알리기 위한 목적으로만 표시됩니다. 잉크 부 족 경고 메시지를 받으면 인쇄 지연 가능성이 없도록 카트리지 교체하세요.   깜박임 - 깜박임 켜짐 하나 이상의 잉크 카트리지 표시등이 깜박입니다. • 하나 이상의 잉크 카트리지에 잉크가 부족합니다. - 하나 이상의 잉크 카트리지가 부족한 경우로 남아있는 잉크 카트리지로 계속 인쇄가 가능하지만 인쇄 속도 가 느려집니다. 또한 인쇄 문서의 품질에 영향을 미칠 수 있습니다. • 하나 이상의 중고, 리필 또는 정품이 아닌 카트리지를 감지했습니다. - 리필 카트리지 또는  정품이 아닌 카트리지를 정품  잉크 카트리지로 교체하거나.  (다시 시작) 버튼을  눌러 카트리지를 계속 사용하세요. 전 표시등(LED)이 깜박임 복구할 수 없는 오류가 발생했습니다. 전원 코드를 뺐다가 다시 꽂은 다음 인쇄해 보세요. 상태 및 해결방법 ']],\n",
              " '기타 문제 해결': ['76 9. 문제 해결 기타 문제 해결 5  프린터 소프트웨어에서 도움말  도움말 메뉴에 액세스하려면 프린트 소프트웨어 상단에  (도움말 아 이콘)을 누르세요.  6  프린터 보고서 보고서를 인쇄하여 프린터 문제를 문제 해결할 수 있습니다.  프린트 조작부에서 인쇄하기 프린트 조작부에서   (프린트 상태 보고서) 버튼을 누르세요 도구상자에서 인쇄하기 1  프린터 소프트웨어를 여세요. ( (시작) 메뉴에서 모든 프로그램 >  Samsung Inkjet Printers >  해당 프린터 드라이버 이름 > 해당 프린터 드라이버 이름 선택) 2   인쇄 탭에 프린터 유지 관리를 누르세요.  3   장치 보고서 탭에 진단 정보 인쇄를 선택하세요.  7  출고시 기본값 및 설정 복원 제조 시 설정 또는 네트워크 설정으로 프린터를 복원해 보세요. 1 프린트 조작부에서   (다시 시작) 버튼과   (무선) 버튼을 동 시에 약 5 초 정도 누르세요. '],\n",
              " '10. 부록': ['10.  부록 이 장에서는 제품 사양 및 규격에 관한 정보를 제공합니다. • 사양 78 • 규제 정보 79 '],\n",
              " '사양': ['78 10. 부록 사양    모든 사양 정보는 사전 고지 없이 변경될 수 있습니다. 추가 사양 및  사양 변경 정보는 www.samsung.com/printer를 참조하세요.   항목 세부사항 시스템  • 향후 운영 체제 릴리스와 지원에 관한 정보는  www.samsung.com/printer를 참조하세요. • 지원 운영 체제 : Windows 7, 8, 8.1, 10 환경 • 권장 작동 온도: 15 ~ 32 °C  • 권장 상대 습도: 25 ~ 75 % RH 비응축  • 보관 온도(포장 상태): -40 ~ 60 °C  • 보관 습도(포장 상태): 20 ~ 80% RH 비응축  용지 • 입력 용지함 용량  - 일반 용지: 최대 250 장 - 봉투: 최대 30 장 - 색인 카드: 최대 80 장 - 인화지: 최대 60 장 • 출력 용지함 용량  - 일반 용지: 최대 75 장 - 봉투: 최대 10 장 - 색인 카드: 최대 35 장 - 인화지: 최대 25 장 • 용지 크기 및 중량 - 지원되는 용지 크기의 목록을 보려면  프린터 소프트웨 어를 참조하세요.  - 일반 용지: 60 ~ 105 g/m2 - 봉투: 75 ~ 90 g/m2 - 카드: 최대 200 g/m2 - 인화지: 280 g/m2  인쇄 • 속도: 문서의 복잡한 정도 및 프린터 모델에 따라 다릅니 다. • 방식: DOD (drop-on-demand) 열사 잉크젯  • 언어: PCL 3  • 인쇄 해상도:  지원되는 인쇄 해상도는 프린터 지원 웹사이트  www.samsung.com/printer를 참조하세요. 항목 세부사항 '],\n",
              " '규제 정보': ['79 10. 부록 규제 정보 이 제품은 정상적인 작업 환경에 맞도록 설계되었으며 여러 규제 기준의  인증을 받았습니다. 1  재활용 2  무선 제품에 대한 형식 승인 정보  3  무선 고지 사항 4  규제 준수 선언 무선 지침 2.4 GHz/5 GHz 대역에서 작동하는 저전원 무선 LAN 장치(무선 주파수 (RF)  무선 통신 장치)가 본 프린터 시스템 내에 존재할 수 있습니다. 다음 단 원에는 무선 장치를 작동할 때 일반적으로 고려해야 할 사항이 간략히 정 리되어 있습니다. 개별 국가별 추가 제한, 경고 및 주의사항은 해당 국가 또는 국가 그룹  관련 단원에 수록되어 있습니다. 본 시스템의 무선 장치는 시스템 정격  라벨의 무선 승인 마크에 명시된 국가에서만 사용하도록 허가된 것입니다 . 무선 장치를 사용하고자 하는 국가가 목록에 없으면 해당 지역의 무선  승인 기관에 문의하세요. 무선 장치에 대한 사용은 엄격히 규제되며 사용 이 불가능할 수도 있습니다. 본 제품의 포장물은 환경을 보존할 수 있는 방법으로 처리하거 나 재활용하세요. ',\n",
              "  ['규제 정보 80 10. 부록 프린터에 내장되어 있을 수 있는 무선 장치에서 출력되는 전력은 현재 알 려진 RF 노출 제한치보다 훨씬 낮습니다. 프린터에 내장되어 있을 수 있 는 무선 장치는 무선 주파수 안전 표준 및 권장 사항에서 허용되는 수준  미만의 에너지를 방출하기 때문에 제조업체는 해당 장치를 사용자가 안전 하게 사용할 수 있다고 판단합니다. 출력되는 전력량에 상관없이 일반적 인 작동 중에는 사람의 접촉을 최소화할 수 있도록 각별한 주의를 기울여 야 합니다. 일반적으로 무선 장치를 사용할 때는 장치와 신체 간에 20 cm 이상 거리 를 두어야 합니다. 무선 장치가 작동 중이거나 전송 중일 때 신체와 20 cm  이상 거리를 둔 상태에서 사용해야 합니다. 이 송신기는 다른 안테나 또는 송신기와 함께 두거나 작동해서는 안됩니 다. 특정 상황에서는 무선 장치의 사용이 제한됩니다. 일반적으로 다음과 같 은 제한 조건이 적용됩니다. 무선 주파수 무선 통신은 상용 항공기의 장비에 전파 간섭을 일 으킬 수 있습니다. 현재 항공 산업 규정은 항공기 운항 중에는  무선 장치를 꺼둘 것을 요구합니다. 무선 통신을 제공하는 장치 의 예로는 IEEE 802.11 (무선 이더넷) 및 Bluetooth 통신 장치가  있습니다. 다른 장치나 서비스에 대한 간섭이 유해하거나 유해할 것으로 판 단되는 환경에서는 무선 장치 사용이 제한되거나 불가능할 수 있 습니다. 공항, 병원 및 산소나 인화성 가스가 함유된 실내에서는  무선 장치의 사용이 제한되거나 또는 불가능합니다. 무선 장치  사용이 가능한지 여부에 대해 확실치 않은 경우에는 무선 장치를  사용하거나 작동하기 전에 해당 관계 당국으로 문의하세요. 각 국가는 무선 장치 사용에 대해 서로 다른 제한 사항을 적용하 고 있습니다. 본 시스템에는 무선 장치가 탑재되어 있기 때문에  시스템을 휴대하고 여러 국가를 이동하는 경우 사전에 현지 무선  승인 관계 당국에 문의하여 해당 국가의 무선 장치 사용에 대한  제한 사항을 파악해 두세요. 시스템에 내장형 무선 장치가 탑재된 경우 모든 덮개와 보호 장 치를 제 위치에 배치하고 시스템을 완전히 조립할 때까지 무선  장치를 작동하지 마세요. 무선 장치는 사용자가 직접 수리할 수 없습니다. 어떤 식으로든  무선 장치를 개조하지 마세요. 무선 장치를 개조하면 장치 사용  권한이 무효가 됩니다. 서비스를 받으려면 제조업체로 문의하세 요. 제품을 사용할 국가에 대해 승인된 드라이버만 사용하세요. 자세 한 정보는 제조업체의 시스템 복원 키트를 참조하거나 제조업체  기술 지원 센터로 문의하세요. ']],\n",
              " '11. 서비스 및 기타': ['11.  서비스 및 기타 이 장에서는 프린터 서비스 관련 정보를 제공합니다. • 프린터 서비스 안내 82 • 서비스에 대하여 83 • 한국 A/S 우수 기업 마크 85 • 폐 가전제품 처리 안내 86 • 전자파 적합 등록 및 화폐위조 87 '],\n",
              " '프린터 서비스 안내': ['82 11. 서비스 및 기타 프린터 서비스 안내 프린터 (복합기) 사용 중 문제가 발생하였을 경우 다음과 같은 순서로 해결해  보시고, 해결이 안 될 경우에는 서비스 센터를 방문하세요.  1  문제 해결 순서 구분 문제 해결의 모든 것 • 삼성 프린터 고객지원 센터에서는 프린터 주요 사용 방 법, 문제 해결 등의 다양한 기술 지원 정보와 최신 드라 이버, 매뉴얼을 제공하고 있습니다.  www.samsung.com/printer • 상담원의 도움이 필요하신가요? 1588-3366으로 전화주세요.  • 100% 해결될 수 있도록 전문 상담원이 최선을 다해 즐 거운 상담으로 문제를 해결 해드립니다.  • 상담으로 해결하면 돈과 시간 모두를 절약하실 수 있습 니다.  • 상담원의 도움으로 해결하지 못하셨나요? • 가까운 서비스센터를 방문하시면 우수한 테스트 장비로  빠른 시간에 완벽한 서비스를 받으실 수 있습니다.  • 서비스 기사의 방문 수리 시, 출장비가 추가로 발생될 수  있습니다.  • 서비스 기사 방문을 요청시 별도 출장비가 발생합니다.  • 전문 테스트 장비가 필요할 경우 추가 시간이 소요될 수  있습니다.  구분 문제 해결의 모든 것 '],\n",
              " '서비스에 대하여': ['83 11. 서비스 및 기타 서비스에 대하여 2  잉크 카트리지 보증 • 잉크 카트리지의 보증 기간은 판매일로부터 12개월이며, 중량 기준으로  관리됩니다. • 삼성전자 카트리지 보증은 카트리지를 지정된 삼성 인쇄 장치에 사용하는  경우에 적용됩니다. 삼성 잉크 카트리지가 리필되거나, 재생산되거나, 새 로 수리되거나, 오용되거나, 개조된 경우에는 이 보증이 적용되지 않습니 다. • 사용 환경에 따라 오랜 시간 사용하지 않으면 잉크가 굳어 노즐이 막힐  수 있습니다. 이로 인해 잉크를 교환해야 할 때는 보증기간인 12개월이  경과되었으면 무상 서비스를 받을 수 없습니다. 3  서비스를 받으려면 서비스는 가까운 삼성전자 서비스 센터에 문의하세요.  • 서비스 센터 대표 전화번호 (전국 어디서나) 1588-3366  제품 모델명, 고장 상태, 연락처를 정확히 알려 주시면 고객 여러분의 궁 금한 점을 언제나 친절하게 상담, 빠른 서비스를 제공합니다.  • 고객 상담실 전화번호 02-541-3000, 080-022-3000 • 서비스 센터 홈페이지 www.samsungsvc.co.kr 고객이 직접 원하는 날짜와 시간에 서비스 접수 및 실시간 사이버 상담이  가능한 사이버 서비스 센터를 운영하고 있습니다.  • 인터넷 홈페이지 www.samsung.com/printer 프린터 드라이버, 제품 정보, 소모품 정보 또는 사용중에 문제가 발생한  경우 도움을 받으실 수 있습니다.  주요 사용방법, 문제해결 등의 다양한 기술지원 정보와 최신 드라이버를  지원합니다.  4  무상 보증 제조 과정상 결함이나 정상적인 사용조건 상태에서 발생한 제품이상에 대해 서는 제품을 구입한 날로부터 1년간 보증해 드립니다.  5  무상 보증의 예외사항 다음과 같은 사항으로 인한 제품결함 및 손상에 대해서는 무상보증이 적용되 지 않습니다.  • 제품이 보증하는 사용환경 범위를 벗어난 환경에서 사용하여 이상이 발 생한 경우 • 비정상적인 부품 (소모품 포함)을 사용한 경우: 삼성 프린터의 소모품이 아니거나 재생용 소모품을 사용하여 결함이 발 생한 경우 (잉크 카트리지, 프린터 케이블 등) • 지정된 인쇄 용지를 사용하지 않은 경우 • 컴퓨터 결함 또는 성능에 따른 설치 이상, 양방향 통신 에러, 인쇄안됨 불 량이 발생된 경우 ',\n",
              "  ['서비스에 대하여 84 11. 서비스 및 기타 • 정품 소프트웨어가 아닌 불법복제 소프트웨어 사용으로 정상적으로 인 쇄가 안된 경우 • 컴퓨터 환경변화 (시스템 변경/재설치 등)나 바이러스 감염으로 인해 프 린터 드라이버를 재설치한 경우 • 불안정한 장소에서 사용했거나 불충분한 유지보수로 인해 이상이 발생 된 경우 • 충격 전압을 보호할 수 없는 불안정한 전원에서 사용한 경우 • 사용자가 제품을 임의로 분해, 조립하여 이상이 발생한 경우 • 제품에 제공되는 소프트웨어나 인터페이스 이외의 다른 소프트웨어나 인 터페이스를 사용해 이상이 발생한 경우 • 사용자가 임의로 제품을 수정하거나 잘못 사용해 이상이 발생한 경우 • 기능향상을 위해 소프트웨어의 업그레이드를 요청할 경우 • 제품내에 외부 이물 (볼펜, 연필, 클립 등)로 인한 동작불량이 발생한 경우 • 소모성 부품 (카트리지 등)을 수명이상 사용하였을 경우 • 한국 사용 환경과 맞지 않아 제품 서비스 발생시 제품 불량 및 제품 보증  기관과 관계없이 유상 징수 대상에 해당 됩니다.  ']],\n",
              " '한국 A/S 우수 기업 마크': ['85 11. 서비스 및 기타 한국 A/S 우수 기업 마크 6  한국 A/S 우수 기업 마크란 사후 봉사가 우수한 기업에 국가기관인 산업자원부 기술표준원이 품질을 보 증하는 마크입니다.  7  한국 A/S 우수 기업 마크 형태 '],\n",
              " '폐 가전제품 처리 안내': ['86 11. 서비스 및 기타 폐 가전제품 처리 안내 '],\n",
              " '전자파 적합 등록 및 화폐위조': ['87 11. 서비스 및 기타 전자파 적합 등록 및 화폐위조 • 이 기기는 가정용 (B급) 전자파적합기기로서 주로 가정에서 사용하는 것 을 목적으로 하며, 모든 지역에서 사용할 수 있습니다.  • 본 기기를 화폐 위조에 사용하지 마세요. 만일 귀하가 본 기기를 이용하 여 화폐를 위조하거나 위조지폐라는 사실을 알면서 사용할 경우 [형법] 과 [특정범죄 가중 처벌등에 관한 법률]에 의거 형사처벌을 받게 됩니다.  '],\n",
              " '찾아보기': ['88 찾아보기 찾아보기 가 걸림 권장하지 않는 용지  20 제거  64 규제 정보  79 나 네트워크 링크 속도  53 설정 보기 및 인쇄  53 설정, 변경  53 IP 설정  53 다 뒷면 삽화  13 라 링크 속도, 설정  53 마 무선 통신 설치  49 문제 해결 비뚤어진 페이지  67 상태 표시등  72 용지 공급 문제  67 용지함에서 용지가 들리지 않음  67 조작부 도움말 시스템  76 EWS(내장 웹 서버)  59 바 버튼, 조작부  13 보기 네트워크 설정  53 비뚤어짐, 문제 해결 인쇄  67 사 사양 물리적  78 설정 네트워크  53 스캐너 유리 찾기  12 아 외관  44 용지 걸림 제거  64 공급 문제 해결  67 비뚤어진 페이지  67 선택  20 용지함 넣기  22 용지 공급 문제, 문제 해결  67 용지함 공급 문제 해결  67 용지 걸림 제거  64 용지 너비 가이드 그림  12, 22 용지 넣기  22 찾기  12 웹 브라우저 요구 사양  59 유리, 스캐너 찾기  12 유지보수 잉크량 확인  40 청소  44 카트리지 교체  42 페이지 얼룩  45 프린트 헤드  45 프린트 헤드 정렬  45 ',\n",
              "  ['찾아보기 89 찾아보기 프린트 헤드 청소  46 인쇄 품질 페이지 얼룩 지우기  45 잉크 카트리지 부품 번호  41 잉크량, 확인  40 자 전원 입력, 찾기  13 제품 설정  18 조작부 버튼  14 상태 표시등  72 표시등  14, 72 차 청소  46 외관  44 카트리지  44 프린트 헤드  45, 46 출력 용지함 찾기  12 카 카트리지  13, 41 교체  42 잉크량 확인  40 찾기  12 추가 정보  39 카트리지 교체  42 카트리지 교체 덮개, 위치  12 커넥터, 위치  13 파 표시등, 조작부  14 프린터 길잡이  58 프린터 서비스 안내  82 프린터 조작부 네트워크 설정  53 찾기  12 프린트  46 mobile OS  37 mobileprint  37 프린트 헤드  45 프린트 헤드, 정렬  46 E EWS(내장 웹 서버)  59 문제 해결, 열 수 없음  59 알아두기  60 열기  59 정보  59, 60 I IP 설정  53 IP 주소 프린터 점검  60 M mobile 다운로드  37 U USB 연결 포트, 찾기  13 W Windows 드라이버 재설치  17 ']]}"
            ]
          },
          "execution_count": 5,
          "metadata": {},
          "output_type": "execute_result"
        }
      ],
      "source": [
        "doctext_dict"
      ]
    },
    {
      "cell_type": "code",
      "execution_count": 8,
      "metadata": {},
      "outputs": [
        {
          "data": {
            "text/plain": [
              "['4 목차 8. 프린터 관리 도구 프린터 길잡이  58 EWS(내장 웹 서버)  59 9. 문제 해결 용지 걸림을 예방할 수 있는 정보  63 용지 걸림 제거  64 잉크 캐리지 걸림 해결  68 인쇄 문제  69 인쇄 품질 문제  70 네트워크 문제  71 상태 표시등(LED) 이해하기  72 기타 문제 해결  76 10. 부록 사양  78 규제 정보  79 11. 서비스 및 기타 프린터 서비스 안내  82 서비스에 대하여  83 한국 A/S 우수 기업 마크  85 폐 가전제품 처리 안내  86 전자파 적합 등록 및 화폐위조  87 ']"
            ]
          },
          "execution_count": 8,
          "metadata": {},
          "output_type": "execute_result"
        }
      ],
      "source": [
        "doctext_dict['저작권'][2]"
      ]
    },
    {
      "cell_type": "code",
      "execution_count": 18,
      "metadata": {},
      "outputs": [
        {
          "data": {
            "text/plain": [
              "dict_keys(['사용 설명서', '저작권', '1. 제품 알아보기', '사용 설명서 정보', '안전을 위한 경고 및 주의사항', '제품 모습', '조작부 사용', '전원 연결하기', '소프트웨어 설치', '소프트웨어 재설치', '제품 설정', '2. 용지 및 용지함', '인쇄 용지 관련 정보', '용지 넣기', '3. 인쇄', '인쇄하기', '인쇄 환경 설정', '4. Samsung Photo and Imaging Gallery 프로그램 이해하기', 'Samsung Photo and Imaging Gallery 프로그램', 'Samsung Photo and Imaging Gallery 실행하기', 'Samsung Photo and Imaging Gallery 사용하기', '5. 모바일 장치에서 사용', 'Samsung Mobile Print', '6. 카트리지 및 유지보수', '잉크 카트리지 및 프린트 헤드에 대한 정보', '예상 잉크량 확인', '잉크 카트리지 주문', '잉크 카트리지 교체', '청소하기', '7. 네트워크 설정', '무선 네트워크 프린터 설정', '네트워크 설정 변경', 'Wi-Fi Direct 사용', '8. 프린터 관리 도구', '프린터 길잡이', 'EWS(내장 웹 서버)', '9. 문제 해결', '용지 걸림을 예방할 수 있는 정보', '용지 걸림 제거', '잉크 캐리지 걸림 해결', '인쇄 문제', '인쇄 품질 문제', '네트워크 문제', '상태 표시등(LED) 이해하기', '기타 문제 해결', '10. 부록', '사양', '규제 정보', '11. 서비스 및 기타', '프린터 서비스 안내', '서비스에 대하여', '한국 A/S 우수 기업 마크', '폐 가전제품 처리 안내', '전자파 적합 등록 및 화폐위조', '찾아보기'])"
            ]
          },
          "execution_count": 18,
          "metadata": {},
          "output_type": "execute_result"
        }
      ],
      "source": [
        "doctext_dict.keys()"
      ]
    },
    {
      "cell_type": "code",
      "execution_count": 19,
      "metadata": {},
      "outputs": [],
      "source": [
        "# 데이터를 저장할 리스트 생성\n",
        "rows = []\n",
        "\n",
        "# 딕셔너리에서 각 키와 값을 처리\n",
        "for key, value in doctext_dict.items():\n",
        "    if isinstance(value, list):  # 값이 리스트인 경우\n",
        "        for v in value:\n",
        "            rows.append([key, v])\n",
        "    else:  # 값이 단일 문자열인 경우\n",
        "        rows.append([key, value])\n"
      ]
    },
    {
      "cell_type": "code",
      "execution_count": 20,
      "metadata": {},
      "outputs": [
        {
          "data": {
            "text/html": [
              "<div>\n",
              "<style scoped>\n",
              "    .dataframe tbody tr th:only-of-type {\n",
              "        vertical-align: middle;\n",
              "    }\n",
              "\n",
              "    .dataframe tbody tr th {\n",
              "        vertical-align: top;\n",
              "    }\n",
              "\n",
              "    .dataframe thead th {\n",
              "        text-align: right;\n",
              "    }\n",
              "</style>\n",
              "<table border=\"1\" class=\"dataframe\">\n",
              "  <thead>\n",
              "    <tr style=\"text-align: right;\">\n",
              "      <th></th>\n",
              "      <th>title</th>\n",
              "      <th>text</th>\n",
              "    </tr>\n",
              "  </thead>\n",
              "  <tbody>\n",
              "    <tr>\n",
              "      <th>0</th>\n",
              "      <td>사용 설명서</td>\n",
              "      <td>사용 설명서 컬러 잉크젯 프린터 SL-J292xW Series 목 차 사용 설명서 ...</td>\n",
              "    </tr>\n",
              "    <tr>\n",
              "      <th>1</th>\n",
              "      <td>저작권</td>\n",
              "      <td>2  저작권 저작권 ©2016 삼성전자(주)가 모든 권한을 소유합니다. 이 사용 설...</td>\n",
              "    </tr>\n",
              "    <tr>\n",
              "      <th>2</th>\n",
              "      <td>저작권</td>\n",
              "      <td>[3 목차 1. 제품 알아보기 사용 설명서 정보  6 안전을 위한 경고 및 주의사항...</td>\n",
              "    </tr>\n",
              "    <tr>\n",
              "      <th>3</th>\n",
              "      <td>저작권</td>\n",
              "      <td>[4 목차 8. 프린터 관리 도구 프린터 길잡이  58 EWS(내장 웹 서버)  5...</td>\n",
              "    </tr>\n",
              "    <tr>\n",
              "      <th>4</th>\n",
              "      <td>1. 제품 알아보기</td>\n",
              "      <td>1. 제품 알아보기 이 장에서는 제품을 사용하기 전에 알아야 할 정보를 제공합니다....</td>\n",
              "    </tr>\n",
              "    <tr>\n",
              "      <th>...</th>\n",
              "      <td>...</td>\n",
              "      <td>...</td>\n",
              "    </tr>\n",
              "    <tr>\n",
              "      <th>84</th>\n",
              "      <td>한국 A/S 우수 기업 마크</td>\n",
              "      <td>85 11. 서비스 및 기타 한국 A/S 우수 기업 마크 6  한국 A/S 우수 기...</td>\n",
              "    </tr>\n",
              "    <tr>\n",
              "      <th>85</th>\n",
              "      <td>폐 가전제품 처리 안내</td>\n",
              "      <td>86 11. 서비스 및 기타 폐 가전제품 처리 안내</td>\n",
              "    </tr>\n",
              "    <tr>\n",
              "      <th>86</th>\n",
              "      <td>전자파 적합 등록 및 화폐위조</td>\n",
              "      <td>87 11. 서비스 및 기타 전자파 적합 등록 및 화폐위조 • 이 기기는 가정용 (...</td>\n",
              "    </tr>\n",
              "    <tr>\n",
              "      <th>87</th>\n",
              "      <td>찾아보기</td>\n",
              "      <td>88 찾아보기 찾아보기 가 걸림 권장하지 않는 용지  20 제거  64 규제 정보 ...</td>\n",
              "    </tr>\n",
              "    <tr>\n",
              "      <th>88</th>\n",
              "      <td>찾아보기</td>\n",
              "      <td>[찾아보기 89 찾아보기 프린트 헤드 청소  46 인쇄 품질 페이지 얼룩 지우기  ...</td>\n",
              "    </tr>\n",
              "  </tbody>\n",
              "</table>\n",
              "<p>89 rows × 2 columns</p>\n",
              "</div>"
            ],
            "text/plain": [
              "               title                                               text\n",
              "0             사용 설명서  사용 설명서 컬러 잉크젯 프린터 SL-J292xW Series 목 차 사용 설명서 ...\n",
              "1                저작권  2  저작권 저작권 ©2016 삼성전자(주)가 모든 권한을 소유합니다. 이 사용 설...\n",
              "2                저작권  [3 목차 1. 제품 알아보기 사용 설명서 정보  6 안전을 위한 경고 및 주의사항...\n",
              "3                저작권  [4 목차 8. 프린터 관리 도구 프린터 길잡이  58 EWS(내장 웹 서버)  5...\n",
              "4         1. 제품 알아보기  1. 제품 알아보기 이 장에서는 제품을 사용하기 전에 알아야 할 정보를 제공합니다....\n",
              "..               ...                                                ...\n",
              "84   한국 A/S 우수 기업 마크  85 11. 서비스 및 기타 한국 A/S 우수 기업 마크 6  한국 A/S 우수 기...\n",
              "85      폐 가전제품 처리 안내                      86 11. 서비스 및 기타 폐 가전제품 처리 안내 \n",
              "86  전자파 적합 등록 및 화폐위조  87 11. 서비스 및 기타 전자파 적합 등록 및 화폐위조 • 이 기기는 가정용 (...\n",
              "87              찾아보기  88 찾아보기 찾아보기 가 걸림 권장하지 않는 용지  20 제거  64 규제 정보 ...\n",
              "88              찾아보기  [찾아보기 89 찾아보기 프린트 헤드 청소  46 인쇄 품질 페이지 얼룩 지우기  ...\n",
              "\n",
              "[89 rows x 2 columns]"
            ]
          },
          "execution_count": 20,
          "metadata": {},
          "output_type": "execute_result"
        }
      ],
      "source": [
        "import pandas as pd\n",
        "df = pd.DataFrame(rows, columns=['title', 'text'])\n",
        "df"
      ]
    },
    {
      "cell_type": "code",
      "execution_count": 21,
      "metadata": {},
      "outputs": [
        {
          "data": {
            "text/html": [
              "<div>\n",
              "<style scoped>\n",
              "    .dataframe tbody tr th:only-of-type {\n",
              "        vertical-align: middle;\n",
              "    }\n",
              "\n",
              "    .dataframe tbody tr th {\n",
              "        vertical-align: top;\n",
              "    }\n",
              "\n",
              "    .dataframe thead th {\n",
              "        text-align: right;\n",
              "    }\n",
              "</style>\n",
              "<table border=\"1\" class=\"dataframe\">\n",
              "  <thead>\n",
              "    <tr style=\"text-align: right;\">\n",
              "      <th></th>\n",
              "      <th>title</th>\n",
              "      <th>text</th>\n",
              "      <th>tokens</th>\n",
              "    </tr>\n",
              "  </thead>\n",
              "  <tbody>\n",
              "    <tr>\n",
              "      <th>0</th>\n",
              "      <td>사용 설명서</td>\n",
              "      <td>사용 설명서 컬러 잉크젯 프린터 SL-J292xW Series 목 차 사용 설명서 ...</td>\n",
              "      <td>134</td>\n",
              "    </tr>\n",
              "    <tr>\n",
              "      <th>1</th>\n",
              "      <td>저작권</td>\n",
              "      <td>2  저작권 저작권 ©2016 삼성전자(주)가 모든 권한을 소유합니다. 이 사용 설...</td>\n",
              "      <td>427</td>\n",
              "    </tr>\n",
              "    <tr>\n",
              "      <th>2</th>\n",
              "      <td>저작권</td>\n",
              "      <td>[3 목차 1. 제품 알아보기 사용 설명서 정보  6 안전을 위한 경고 및 주의사항...</td>\n",
              "      <td>366</td>\n",
              "    </tr>\n",
              "    <tr>\n",
              "      <th>3</th>\n",
              "      <td>저작권</td>\n",
              "      <td>[4 목차 8. 프린터 관리 도구 프린터 길잡이  58 EWS(내장 웹 서버)  5...</td>\n",
              "      <td>266</td>\n",
              "    </tr>\n",
              "    <tr>\n",
              "      <th>4</th>\n",
              "      <td>1. 제품 알아보기</td>\n",
              "      <td>1. 제품 알아보기 이 장에서는 제품을 사용하기 전에 알아야 할 정보를 제공합니다....</td>\n",
              "      <td>135</td>\n",
              "    </tr>\n",
              "  </tbody>\n",
              "</table>\n",
              "</div>"
            ],
            "text/plain": [
              "        title                                               text  tokens\n",
              "0      사용 설명서  사용 설명서 컬러 잉크젯 프린터 SL-J292xW Series 목 차 사용 설명서 ...     134\n",
              "1         저작권  2  저작권 저작권 ©2016 삼성전자(주)가 모든 권한을 소유합니다. 이 사용 설...     427\n",
              "2         저작권  [3 목차 1. 제품 알아보기 사용 설명서 정보  6 안전을 위한 경고 및 주의사항...     366\n",
              "3         저작권  [4 목차 8. 프린터 관리 도구 프린터 길잡이  58 EWS(내장 웹 서버)  5...     266\n",
              "4  1. 제품 알아보기  1. 제품 알아보기 이 장에서는 제품을 사용하기 전에 알아야 할 정보를 제공합니다....     135"
            ]
          },
          "execution_count": 21,
          "metadata": {},
          "output_type": "execute_result"
        }
      ],
      "source": [
        "import pandas as pd\n",
        "import tiktoken\n",
        "\n",
        "\n",
        "def num_tokens_from_string(string: str, model: str = \"gpt-3.5-turbo\") -> int:\n",
        "    \"\"\"Returns the number of tokens in a text string.\"\"\"\n",
        "    encoding = tiktoken.encoding_for_model(model)\n",
        "    num_tokens = len(encoding.encode(string))\n",
        "    return num_tokens\n",
        "\n",
        "\n",
        "df[\"tokens\"] = [\n",
        "    num_tokens_from_string(f\"{row['title']} {row['text']}\")\n",
        "    for i, row in df.iterrows()\n",
        "]\n",
        "df.head()"
      ]
    },
    {
      "cell_type": "code",
      "execution_count": 10,
      "metadata": {},
      "outputs": [
        {
          "data": {
            "text/plain": [
              "1"
            ]
          },
          "execution_count": 10,
          "metadata": {},
          "output_type": "execute_result"
        }
      ],
      "source": [
        "len(doctext_dict['사용 설명서'])"
      ]
    },
    {
      "cell_type": "code",
      "execution_count": 42,
      "metadata": {},
      "outputs": [],
      "source": [
        "df.to_csv('samsung_df.csv')"
      ]
    },
    {
      "cell_type": "code",
      "execution_count": 43,
      "metadata": {},
      "outputs": [],
      "source": [
        "import pandas as pd\n",
        "df = pd.read_csv('samsung_df.csv')"
      ]
    },
    {
      "cell_type": "code",
      "execution_count": null,
      "metadata": {},
      "outputs": [],
      "source": []
    },
    {
      "cell_type": "markdown",
      "metadata": {},
      "source": [
        "We have the title and text of the articles available, along with their publishing date and token count using the tiktoken library.\n",
        "\n",
        "### Text Chunking\n",
        "The text chunking step is crucial and significantly impacts downstream results. The paper authors found that using smaller text chunks results in extracting more entities overall.\n",
        "\n",
        "![title](https://miro.medium.com/v2/resize:fit:1120/format:webp/1*9HdF1xQ6Tm6dazOQBFvSvg.png)\n",
        "\n",
        "As you can see, using text chunks of 2,400 tokens results in fewer extracted entities than when they used 600 tokens. Additionally, they identified that LLMs might not extract all entities on the first run. In that case, they introduce a heuristics to perform the extraction multiple times. We will talk about that more in the next section.\n",
        "\n",
        "However, there are always trade-offs. Using smaller text chunks can result in losing the context and coreferences of specific entities spread across the documents. For example, if a document mentions “John” and “he” in separate sentences, breaking the text into smaller chunks might make it unclear that “he” refers to John. Some of the coreference issues can be solved using an overlap text chunking strategy, but not all of them.\n",
        "\n",
        "Let’s examine the size of our article texts:"
      ]
    },
    {
      "cell_type": "code",
      "execution_count": 22,
      "metadata": {
        "colab": {
          "base_uri": "https://localhost:8080/",
          "height": 472
        },
        "id": "ebzDWs-io-Oj",
        "outputId": "3d4d390f-4450-4dfc-ce3f-5d512a6851b8"
      },
      "outputs": [
        {
          "data": {
            "image/png": "[encoded data removed]",
            "text/plain": [
              "<Figure size 640x480 with 1 Axes>"
            ]
          },
          "metadata": {},
          "output_type": "display_data"
        }
      ],
      "source": [
        "import seaborn as sns\n",
        "import matplotlib.pyplot as plt\n",
        "\n",
        "\n",
        "sns.histplot(df[\"tokens\"], kde=False)\n",
        "plt.title('Distribution of chunk sizes')\n",
        "plt.xlabel('Token count')\n",
        "plt.ylabel('Frequency')\n",
        "plt.show()"
      ]
    },
    {
      "cell_type": "markdown",
      "metadata": {
        "id": "-tBXEXvRjQVL"
      },
      "source": [
        "The distribution of article token counts is approximately normal, with a peak of around 400 tokens. The frequency of chunks gradually increases up to this peak, then decreases symmetrically, indicating most text chunks are near the 400-token mark.\n",
        "\n",
        "Due to this distribution, we will not perform any text chunking here to avoid coreference issues. By default, the GraphRAG project uses chunk sizes of 300 tokens with 100 tokens of overlap.\n",
        "\n",
        "### Extracting Nodes and Relationships\n",
        "The next step is constructing knowledge from text chunks. For this use case, we use an LLM to extract structured information in the form of nodes and relationships from the text. You can examine the LLM prompt the authors used in the paper. They have LLM prompts where we can predefine node labels if needed, but by default, that’s optional. Additionally, the extracted relationships in the original documentation don’t really have a type, only a description. I imagine the reason behind this choice is to allow the LLM to extract and retain richer and more nuanced information as relationships. But it’s difficult to have a clean knowledge graph with no relationship-type specifications (the descriptions could go into a property).\n",
        "\n",
        "In our implementation, we will use the LLMGraphTransformer, which is available in the LangChain library. Instead of using pure prompt engineering, as the implementation in the article paper does, the LLMGraphTransformer uses the built-in function calling support to extract structured information (structured output LLMs in LangChain). You can inspect the system prompt:"
      ]
    },
    {
      "cell_type": "code",
      "execution_count": 23,
      "metadata": {
        "id": "INfxdQRCPxyW"
      },
      "outputs": [],
      "source": [
        "from langchain_experimental.graph_transformers import LLMGraphTransformer\n",
        "from langchain_openai import ChatOpenAI\n",
        "openai_key = os.getenv(\"OPENAI_API_KEY\")\n",
        "llm = ChatOpenAI(temperature=0, model_name=\"gpt-3.5-turbo\", openai_api_key=openai_key)\n",
        "\n",
        "llm_transformer = LLMGraphTransformer(\n",
        "    llm=llm,\n",
        "    node_properties=[\"description\"],\n",
        "    relationship_properties=[\"description\"]\n",
        ")"
      ]
    },
    {
      "cell_type": "code",
      "execution_count": 24,
      "metadata": {
        "id": "doaut5qvTr36"
      },
      "outputs": [],
      "source": [
        "from typing import List\n",
        "from langchain_community.graphs.graph_document import GraphDocument\n",
        "from langchain_core.documents import Document\n",
        "\n",
        "def process_text(text: str) -> List[GraphDocument]:\n",
        "    doc = Document(page_content=text)\n",
        "    return llm_transformer.convert_to_graph_documents([doc])"
      ]
    },
    {
      "cell_type": "markdown",
      "metadata": {
        "id": "WsdJJlNpfjuy"
      },
      "source": [
        "In this example, we use GPT-4o for graph extraction. The authors specifically instruct the LLM to extract entities and relationships and their descriptions. With the LangChain implementation, you can use the node_propertiesand relationship_propertiesattributes to specify which node or relationship properties you want the LLM to extract.\n",
        "\n",
        "The difference with the LLMGraphTransformer implementation is that all node or relationship properties are optional, so not all nodes will have the descriptionproperty. If we wanted, we could define a custom extraction to have a mandatory descriptionproperty, but we will skip that in this implementation.\n",
        "\n",
        "We will parallelize the requests to make the graph extraction faster and store results to Neo4j:"
      ]
    },
    {
      "cell_type": "code",
      "execution_count": 14,
      "metadata": {
        "colab": {
          "base_uri": "https://localhost:8080/"
        },
        "id": "vy9GaXqXRrQu",
        "outputId": "4e558b9b-2f02-4687-fe74-ce21259a9b04"
      },
      "outputs": [
        {
          "name": "stderr",
          "output_type": "stream",
          "text": [
            "Processing documents:   0%|          | 0/89 [00:00<?, ?it/s]2024-08-02 16:09:25,815 - HTTP Request: POST https://api.openai.com/v1/chat/completions \"HTTP/1.1 200 OK\"\n",
            "Processing documents:   1%|          | 1/89 [00:02<03:03,  2.09s/it]2024-08-02 16:09:26,103 - HTTP Request: POST https://api.openai.com/v1/chat/completions \"HTTP/1.1 200 OK\"\n",
            "Processing documents:   2%|▏         | 2/89 [00:02<01:29,  1.02s/it]2024-08-02 16:09:27,122 - HTTP Request: POST https://api.openai.com/v1/chat/completions \"HTTP/1.1 200 OK\"\n",
            "Processing documents:   3%|▎         | 3/89 [00:03<01:27,  1.02s/it]2024-08-02 16:09:28,167 - HTTP Request: POST https://api.openai.com/v1/chat/completions \"HTTP/1.1 200 OK\"\n",
            "Processing documents:   4%|▍         | 4/89 [00:04<01:27,  1.03s/it]2024-08-02 16:09:28,421 - HTTP Request: POST https://api.openai.com/v1/chat/completions \"HTTP/1.1 200 OK\"\n",
            "Processing documents:   6%|▌         | 5/89 [00:04<01:03,  1.33it/s]2024-08-02 16:09:28,988 - HTTP Request: POST https://api.openai.com/v1/chat/completions \"HTTP/1.1 200 OK\"\n",
            "Processing documents:   7%|▋         | 6/89 [00:05<00:57,  1.45it/s]2024-08-02 16:09:29,795 - HTTP Request: POST https://api.openai.com/v1/chat/completions \"HTTP/1.1 200 OK\"\n",
            "Processing documents:   8%|▊         | 7/89 [00:06<00:59,  1.37it/s]2024-08-02 16:09:30,069 - HTTP Request: POST https://api.openai.com/v1/chat/completions \"HTTP/1.1 200 OK\"\n",
            "Processing documents:   9%|▉         | 8/89 [00:06<00:47,  1.71it/s]2024-08-02 16:09:30,490 - HTTP Request: POST https://api.openai.com/v1/chat/completions \"HTTP/1.1 200 OK\"\n",
            "Processing documents:  10%|█         | 9/89 [00:06<00:42,  1.88it/s]2024-08-02 16:09:31,845 - HTTP Request: POST https://api.openai.com/v1/chat/completions \"HTTP/1.1 200 OK\"\n",
            "Processing documents:  11%|█         | 10/89 [00:08<01:02,  1.27it/s]2024-08-02 16:09:32,161 - HTTP Request: POST https://api.openai.com/v1/chat/completions \"HTTP/1.1 200 OK\"\n",
            "Processing documents:  12%|█▏        | 11/89 [00:08<00:50,  1.56it/s]2024-08-02 16:09:32,400 - HTTP Request: POST https://api.openai.com/v1/chat/completions \"HTTP/1.1 200 OK\"\n",
            "Processing documents:  13%|█▎        | 12/89 [00:08<00:40,  1.92it/s]2024-08-02 16:09:32,577 - HTTP Request: POST https://api.openai.com/v1/chat/completions \"HTTP/1.1 200 OK\"\n",
            "Processing documents:  15%|█▍        | 13/89 [00:08<00:31,  2.41it/s]2024-08-02 16:09:33,355 - HTTP Request: POST https://api.openai.com/v1/chat/completions \"HTTP/1.1 200 OK\"\n",
            "Processing documents:  16%|█▌        | 14/89 [00:09<00:39,  1.90it/s]2024-08-02 16:09:33,583 - HTTP Request: POST https://api.openai.com/v1/chat/completions \"HTTP/1.1 200 OK\"\n",
            "Processing documents:  17%|█▋        | 15/89 [00:09<00:32,  2.30it/s]2024-08-02 16:09:34,248 - HTTP Request: POST https://api.openai.com/v1/chat/completions \"HTTP/1.1 200 OK\"\n",
            "Processing documents:  18%|█▊        | 16/89 [00:10<00:36,  1.98it/s]2024-08-02 16:09:34,823 - HTTP Request: POST https://api.openai.com/v1/chat/completions \"HTTP/1.1 200 OK\"\n",
            "Processing documents:  19%|█▉        | 17/89 [00:11<00:39,  1.81it/s]2024-08-02 16:09:35,594 - HTTP Request: POST https://api.openai.com/v1/chat/completions \"HTTP/1.1 200 OK\"\n",
            "Processing documents:  20%|██        | 18/89 [00:11<00:41,  1.69it/s]2024-08-02 16:09:37,358 - HTTP Request: POST https://api.openai.com/v1/chat/completions \"HTTP/1.1 200 OK\"\n",
            "Processing documents:  21%|██▏       | 19/89 [00:13<01:06,  1.06it/s]2024-08-02 16:09:37,620 - HTTP Request: POST https://api.openai.com/v1/chat/completions \"HTTP/1.1 200 OK\"\n",
            "Processing documents:  22%|██▏       | 20/89 [00:13<00:50,  1.35it/s]2024-08-02 16:09:39,129 - HTTP Request: POST https://api.openai.com/v1/chat/completions \"HTTP/1.1 200 OK\"\n",
            "Processing documents:  24%|██▎       | 21/89 [00:15<01:06,  1.03it/s]2024-08-02 16:09:39,147 - HTTP Request: POST https://api.openai.com/v1/chat/completions \"HTTP/1.1 200 OK\"\n",
            "2024-08-02 16:09:40,622 - HTTP Request: POST https://api.openai.com/v1/chat/completions \"HTTP/1.1 200 OK\"\n",
            "Processing documents:  26%|██▌       | 23/89 [00:16<00:57,  1.15it/s]2024-08-02 16:09:40,648 - HTTP Request: POST https://api.openai.com/v1/chat/completions \"HTTP/1.1 200 OK\"\n",
            "2024-08-02 16:09:40,795 - HTTP Request: POST https://api.openai.com/v1/chat/completions \"HTTP/1.1 200 OK\"\n",
            "Processing documents:  28%|██▊       | 25/89 [00:17<00:35,  1.80it/s]2024-08-02 16:09:40,923 - HTTP Request: POST https://api.openai.com/v1/chat/completions \"HTTP/1.1 200 OK\"\n",
            "Processing documents:  29%|██▉       | 26/89 [00:17<00:29,  2.16it/s]2024-08-02 16:09:42,284 - HTTP Request: POST https://api.openai.com/v1/chat/completions \"HTTP/1.1 200 OK\"\n",
            "Processing documents:  30%|███       | 27/89 [00:18<00:42,  1.46it/s]2024-08-02 16:09:42,907 - HTTP Request: POST https://api.openai.com/v1/chat/completions \"HTTP/1.1 200 OK\"\n",
            "2024-08-02 16:09:42,914 - HTTP Request: POST https://api.openai.com/v1/chat/completions \"HTTP/1.1 200 OK\"\n",
            "Processing documents:  31%|███▏      | 28/89 [00:19<00:40,  1.50it/s]2024-08-02 16:09:43,053 - HTTP Request: POST https://api.openai.com/v1/chat/completions \"HTTP/1.1 200 OK\"\n",
            "Processing documents:  34%|███▎      | 30/89 [00:19<00:24,  2.42it/s]2024-08-02 16:09:43,797 - HTTP Request: POST https://api.openai.com/v1/chat/completions \"HTTP/1.1 200 OK\"\n",
            "Processing documents:  35%|███▍      | 31/89 [00:20<00:28,  2.05it/s]2024-08-02 16:09:44,479 - HTTP Request: POST https://api.openai.com/v1/chat/completions \"HTTP/1.1 200 OK\"\n",
            "Processing documents:  36%|███▌      | 32/89 [00:20<00:30,  1.86it/s]2024-08-02 16:09:44,919 - HTTP Request: POST https://api.openai.com/v1/chat/completions \"HTTP/1.1 200 OK\"\n",
            "Processing documents:  37%|███▋      | 33/89 [00:21<00:28,  1.95it/s]2024-08-02 16:09:45,267 - HTTP Request: POST https://api.openai.com/v1/chat/completions \"HTTP/1.1 200 OK\"\n",
            "Processing documents:  38%|███▊      | 34/89 [00:21<00:25,  2.14it/s]2024-08-02 16:09:45,376 - HTTP Request: POST https://api.openai.com/v1/chat/completions \"HTTP/1.1 200 OK\"\n",
            "Processing documents:  39%|███▉      | 35/89 [00:21<00:19,  2.73it/s]2024-08-02 16:09:45,487 - HTTP Request: POST https://api.openai.com/v1/chat/completions \"HTTP/1.1 200 OK\"\n",
            "Processing documents:  40%|████      | 36/89 [00:21<00:15,  3.41it/s]2024-08-02 16:09:45,574 - HTTP Request: POST https://api.openai.com/v1/chat/completions \"HTTP/1.1 200 OK\"\n",
            "2024-08-02 16:09:45,689 - HTTP Request: POST https://api.openai.com/v1/chat/completions \"HTTP/1.1 200 OK\"\n",
            "Processing documents:  43%|████▎     | 38/89 [00:21<00:10,  4.83it/s]2024-08-02 16:09:46,773 - HTTP Request: POST https://api.openai.com/v1/chat/completions \"HTTP/1.1 200 OK\"\n",
            "Processing documents:  44%|████▍     | 39/89 [00:23<00:21,  2.38it/s]2024-08-02 16:09:47,038 - HTTP Request: POST https://api.openai.com/v1/chat/completions \"HTTP/1.1 200 OK\"\n",
            "Processing documents:  45%|████▍     | 40/89 [00:23<00:18,  2.63it/s]2024-08-02 16:09:47,097 - HTTP Request: POST https://api.openai.com/v1/chat/completions \"HTTP/1.1 200 OK\"\n",
            "2024-08-02 16:09:47,203 - HTTP Request: POST https://api.openai.com/v1/chat/completions \"HTTP/1.1 200 OK\"\n",
            "Processing documents:  47%|████▋     | 42/89 [00:23<00:11,  3.94it/s]2024-08-02 16:09:47,225 - HTTP Request: POST https://api.openai.com/v1/chat/completions \"HTTP/1.1 200 OK\"\n",
            "2024-08-02 16:09:47,721 - HTTP Request: POST https://api.openai.com/v1/chat/completions \"HTTP/1.1 200 OK\"\n",
            "Processing documents:  49%|████▉     | 44/89 [00:23<00:11,  3.90it/s]2024-08-02 16:09:49,617 - HTTP Request: POST https://api.openai.com/v1/chat/completions \"HTTP/1.1 200 OK\"\n",
            "Processing documents:  51%|█████     | 45/89 [00:25<00:26,  1.66it/s]2024-08-02 16:09:50,576 - HTTP Request: POST https://api.openai.com/v1/chat/completions \"HTTP/1.1 200 OK\"\n",
            "Processing documents:  52%|█████▏    | 46/89 [00:26<00:29,  1.46it/s]2024-08-02 16:09:50,598 - HTTP Request: POST https://api.openai.com/v1/chat/completions \"HTTP/1.1 200 OK\"\n",
            "2024-08-02 16:09:51,121 - HTTP Request: POST https://api.openai.com/v1/chat/completions \"HTTP/1.1 200 OK\"\n",
            "2024-08-02 16:09:51,129 - HTTP Request: POST https://api.openai.com/v1/chat/completions \"HTTP/1.1 200 OK\"\n",
            "Processing documents:  54%|█████▍    | 48/89 [00:27<00:21,  1.91it/s]2024-08-02 16:09:52,498 - HTTP Request: POST https://api.openai.com/v1/chat/completions \"HTTP/1.1 200 OK\"\n",
            "Processing documents:  56%|█████▌    | 50/89 [00:28<00:22,  1.72it/s]2024-08-02 16:09:53,284 - HTTP Request: POST https://api.openai.com/v1/chat/completions \"HTTP/1.1 200 OK\"\n",
            "Processing documents:  57%|█████▋    | 51/89 [00:29<00:23,  1.61it/s]2024-08-02 16:09:53,473 - HTTP Request: POST https://api.openai.com/v1/chat/completions \"HTTP/1.1 200 OK\"\n",
            "Processing documents:  58%|█████▊    | 52/89 [00:29<00:19,  1.91it/s]2024-08-02 16:09:53,575 - HTTP Request: POST https://api.openai.com/v1/chat/completions \"HTTP/1.1 200 OK\"\n",
            "Processing documents:  60%|█████▉    | 53/89 [00:29<00:15,  2.37it/s]2024-08-02 16:09:53,865 - HTTP Request: POST https://api.openai.com/v1/chat/completions \"HTTP/1.1 200 OK\"\n",
            "Processing documents:  61%|██████    | 54/89 [00:30<00:13,  2.58it/s]2024-08-02 16:09:54,036 - HTTP Request: POST https://api.openai.com/v1/chat/completions \"HTTP/1.1 200 OK\"\n",
            "Processing documents:  62%|██████▏   | 55/89 [00:30<00:11,  3.05it/s]2024-08-02 16:09:54,748 - HTTP Request: POST https://api.openai.com/v1/chat/completions \"HTTP/1.1 200 OK\"\n",
            "Processing documents:  63%|██████▎   | 56/89 [00:31<00:14,  2.30it/s]2024-08-02 16:09:55,675 - HTTP Request: POST https://api.openai.com/v1/chat/completions \"HTTP/1.1 200 OK\"\n",
            "2024-08-02 16:09:55,677 - HTTP Request: POST https://api.openai.com/v1/chat/completions \"HTTP/1.1 200 OK\"\n",
            "Processing documents:  64%|██████▍   | 57/89 [00:31<00:18,  1.73it/s]2024-08-02 16:09:55,761 - HTTP Request: POST https://api.openai.com/v1/chat/completions \"HTTP/1.1 200 OK\"\n",
            "2024-08-02 16:09:56,239 - HTTP Request: POST https://api.openai.com/v1/chat/completions \"HTTP/1.1 200 OK\"\n",
            "Processing documents:  67%|██████▋   | 60/89 [00:32<00:10,  2.76it/s]2024-08-02 16:09:56,658 - HTTP Request: POST https://api.openai.com/v1/chat/completions \"HTTP/1.1 200 OK\"\n",
            "Processing documents:  69%|██████▊   | 61/89 [00:32<00:10,  2.67it/s]2024-08-02 16:09:57,093 - HTTP Request: POST https://api.openai.com/v1/chat/completions \"HTTP/1.1 200 OK\"\n",
            "Processing documents:  70%|██████▉   | 62/89 [00:33<00:10,  2.58it/s]2024-08-02 16:09:58,866 - HTTP Request: POST https://api.openai.com/v1/chat/completions \"HTTP/1.1 200 OK\"\n",
            "Processing documents:  71%|███████   | 63/89 [00:35<00:18,  1.37it/s]2024-08-02 16:09:58,919 - HTTP Request: POST https://api.openai.com/v1/chat/completions \"HTTP/1.1 200 OK\"\n",
            "2024-08-02 16:09:59,249 - HTTP Request: POST https://api.openai.com/v1/chat/completions \"HTTP/1.1 200 OK\"\n",
            "Processing documents:  73%|███████▎  | 65/89 [00:35<00:12,  1.89it/s]2024-08-02 16:09:59,863 - HTTP Request: POST https://api.openai.com/v1/chat/completions \"HTTP/1.1 200 OK\"\n",
            "Processing documents:  74%|███████▍  | 66/89 [00:36<00:12,  1.91it/s]2024-08-02 16:10:00,353 - HTTP Request: POST https://api.openai.com/v1/chat/completions \"HTTP/1.1 200 OK\"\n",
            "Processing documents:  75%|███████▌  | 67/89 [00:36<00:11,  1.94it/s]2024-08-02 16:10:00,580 - HTTP Request: POST https://api.openai.com/v1/chat/completions \"HTTP/1.1 200 OK\"\n",
            "Processing documents:  76%|███████▋  | 68/89 [00:36<00:09,  2.27it/s]2024-08-02 16:10:01,784 - HTTP Request: POST https://api.openai.com/v1/chat/completions \"HTTP/1.1 200 OK\"\n",
            "Processing documents:  78%|███████▊  | 69/89 [00:38<00:12,  1.54it/s]2024-08-02 16:10:02,637 - HTTP Request: POST https://api.openai.com/v1/chat/completions \"HTTP/1.1 200 OK\"\n",
            "Processing documents:  79%|███████▊  | 70/89 [00:38<00:13,  1.42it/s]2024-08-02 16:10:03,847 - HTTP Request: POST https://api.openai.com/v1/chat/completions \"HTTP/1.1 200 OK\"\n",
            "Processing documents:  80%|███████▉  | 71/89 [00:40<00:15,  1.18it/s]2024-08-02 16:10:04,010 - HTTP Request: POST https://api.openai.com/v1/chat/completions \"HTTP/1.1 200 OK\"\n",
            "Processing documents:  81%|████████  | 72/89 [00:40<00:11,  1.54it/s]2024-08-02 16:10:04,129 - HTTP Request: POST https://api.openai.com/v1/chat/completions \"HTTP/1.1 200 OK\"\n",
            "Processing documents:  82%|████████▏ | 73/89 [00:40<00:07,  2.02it/s]2024-08-02 16:10:05,079 - HTTP Request: POST https://api.openai.com/v1/chat/completions \"HTTP/1.1 200 OK\"\n",
            "Processing documents:  83%|████████▎ | 74/89 [00:41<00:09,  1.59it/s]2024-08-02 16:10:05,860 - HTTP Request: POST https://api.openai.com/v1/chat/completions \"HTTP/1.1 200 OK\"\n",
            "Processing documents:  84%|████████▍ | 75/89 [00:42<00:09,  1.48it/s]2024-08-02 16:10:06,014 - HTTP Request: POST https://api.openai.com/v1/chat/completions \"HTTP/1.1 200 OK\"\n",
            "Processing documents:  85%|████████▌ | 76/89 [00:42<00:06,  1.93it/s]2024-08-02 16:10:06,427 - HTTP Request: POST https://api.openai.com/v1/chat/completions \"HTTP/1.1 200 OK\"\n",
            "Processing documents:  87%|████████▋ | 77/89 [00:42<00:05,  2.05it/s]2024-08-02 16:10:06,502 - HTTP Request: POST https://api.openai.com/v1/chat/completions \"HTTP/1.1 200 OK\"\n",
            "2024-08-02 16:10:07,409 - HTTP Request: POST https://api.openai.com/v1/chat/completions \"HTTP/1.1 200 OK\"\n",
            "2024-08-02 16:10:07,421 - HTTP Request: POST https://api.openai.com/v1/chat/completions \"HTTP/1.1 200 OK\"\n",
            "Processing documents:  89%|████████▉ | 79/89 [00:43<00:04,  2.04it/s]2024-08-02 16:10:07,543 - HTTP Request: POST https://api.openai.com/v1/chat/completions \"HTTP/1.1 200 OK\"\n",
            "Processing documents:  91%|█████████ | 81/89 [00:43<00:02,  3.11it/s]2024-08-02 16:10:07,664 - HTTP Request: POST https://api.openai.com/v1/chat/completions \"HTTP/1.1 200 OK\"\n",
            "Processing documents:  92%|█████████▏| 82/89 [00:43<00:01,  3.61it/s]2024-08-02 16:10:07,998 - HTTP Request: POST https://api.openai.com/v1/chat/completions \"HTTP/1.1 200 OK\"\n",
            "Processing documents:  93%|█████████▎| 83/89 [00:44<00:01,  3.44it/s]2024-08-02 16:10:08,397 - HTTP Request: POST https://api.openai.com/v1/chat/completions \"HTTP/1.1 200 OK\"\n",
            "Processing documents:  94%|█████████▍| 84/89 [00:44<00:01,  3.14it/s]2024-08-02 16:10:09,154 - HTTP Request: POST https://api.openai.com/v1/chat/completions \"HTTP/1.1 200 OK\"\n",
            "Processing documents:  96%|█████████▌| 85/89 [00:45<00:01,  2.29it/s]2024-08-02 16:10:12,258 - HTTP Request: POST https://api.openai.com/v1/chat/completions \"HTTP/1.1 200 OK\"\n",
            "Processing documents:  97%|█████████▋| 86/89 [00:48<00:03,  1.17s/it]2024-08-02 16:10:19,467 - HTTP Request: POST https://api.openai.com/v1/chat/completions \"HTTP/1.1 200 OK\"\n",
            "Processing documents:  98%|█████████▊| 87/89 [00:56<00:05,  2.96s/it]2024-08-02 16:10:36,450 - HTTP Request: POST https://api.openai.com/v1/chat/completions \"HTTP/1.1 200 OK\"\n",
            "Processing documents:  99%|█████████▉| 88/89 [01:12<00:06,  6.96s/it]2024-08-02 16:10:37,651 - HTTP Request: POST https://api.openai.com/v1/chat/completions \"HTTP/1.1 200 OK\"\n",
            "Processing documents: 100%|██████████| 89/89 [01:14<00:00,  1.20it/s]\n"
          ]
        },
        {
          "name": "stderr",
          "output_type": "stream",
          "text": [
            "2024-08-02 16:10:55,490 - Failed to batch ingest runs: LangSmithRateLimitError('Rate limit exceeded for https://api.smith.langchain.com/runs/batch. HTTPError(\\'429 Client Error: Too Many Requests for url: https://api.smith.langchain.com/runs/batch\\', \\'{\"detail\":\"Monthly unique traces usage limit exceeded\"}\\')')\n",
            "2024-08-02 16:10:55,495 - Failed to batch ingest runs: LangSmithRateLimitError('Rate limit exceeded for https://api.smith.langchain.com/runs/batch. HTTPError(\\'429 Client Error: Too Many Requests for url: https://api.smith.langchain.com/runs/batch\\', \\'{\"detail\":\"Monthly unique traces usage limit exceeded\"}\\')')\n",
            "2024-08-02 16:10:55,717 - Failed to batch ingest runs: LangSmithRateLimitError('Rate limit exceeded for https://api.smith.langchain.com/runs/batch. HTTPError(\\'429 Client Error: Too Many Requests for url: https://api.smith.langchain.com/runs/batch\\', \\'{\"detail\":\"Monthly unique traces usage limit exceeded\"}\\')')\n",
            "2024-08-02 16:10:55,757 - Failed to batch ingest runs: LangSmithRateLimitError('Rate limit exceeded for https://api.smith.langchain.com/runs/batch. HTTPError(\\'429 Client Error: Too Many Requests for url: https://api.smith.langchain.com/runs/batch\\', \\'{\"detail\":\"Monthly unique traces usage limit exceeded\"}\\')')\n",
            "2024-08-02 16:10:55,795 - Failed to batch ingest runs: LangSmithRateLimitError('Rate limit exceeded for https://api.smith.langchain.com/runs/batch. HTTPError(\\'429 Client Error: Too Many Requests for url: https://api.smith.langchain.com/runs/batch\\', \\'{\"detail\":\"Monthly unique traces usage limit exceeded\"}\\')')\n",
            "2024-08-02 16:10:55,945 - Failed to batch ingest runs: LangSmithRateLimitError('Rate limit exceeded for https://api.smith.langchain.com/runs/batch. HTTPError(\\'429 Client Error: Too Many Requests for url: https://api.smith.langchain.com/runs/batch\\', \\'{\"detail\":\"Monthly unique traces usage limit exceeded\"}\\')')\n",
            "2024-08-02 16:10:56,193 - Failed to batch ingest runs: LangSmithRateLimitError('Rate limit exceeded for https://api.smith.langchain.com/runs/batch. HTTPError(\\'429 Client Error: Too Many Requests for url: https://api.smith.langchain.com/runs/batch\\', \\'{\"detail\":\"Monthly unique traces usage limit exceeded\"}\\')')\n",
            "2024-08-02 16:10:56,586 - Failed to batch ingest runs: LangSmithRateLimitError('Rate limit exceeded for https://api.smith.langchain.com/runs/batch. HTTPError(\\'429 Client Error: Too Many Requests for url: https://api.smith.langchain.com/runs/batch\\', \\'{\"detail\":\"Monthly unique traces usage limit exceeded\"}\\')')\n",
            "2024-08-02 16:10:56,783 - Failed to batch ingest runs: LangSmithRateLimitError('Rate limit exceeded for https://api.smith.langchain.com/runs/batch. HTTPError(\\'429 Client Error: Too Many Requests for url: https://api.smith.langchain.com/runs/batch\\', \\'{\"detail\":\"Monthly unique traces usage limit exceeded\"}\\')')\n",
            "2024-08-02 16:12:26,936 - Failed to batch ingest runs: LangSmithRateLimitError('Rate limit exceeded for https://api.smith.langchain.com/runs/batch. HTTPError(\\'429 Client Error: Too Many Requests for url: https://api.smith.langchain.com/runs/batch\\', \\'{\"detail\":\"Monthly unique traces usage limit exceeded\"}\\')')\n",
            "2024-08-02 16:12:26,966 - Failed to batch ingest runs: LangSmithRateLimitError('Rate limit exceeded for https://api.smith.langchain.com/runs/batch. HTTPError(\\'429 Client Error: Too Many Requests for url: https://api.smith.langchain.com/runs/batch\\', \\'{\"detail\":\"Monthly unique traces usage limit exceeded\"}\\')')\n",
            "2024-08-02 16:12:27,026 - Failed to batch ingest runs: LangSmithRateLimitError('Rate limit exceeded for https://api.smith.langchain.com/runs/batch. HTTPError(\\'429 Client Error: Too Many Requests for url: https://api.smith.langchain.com/runs/batch\\', \\'{\"detail\":\"Monthly unique traces usage limit exceeded\"}\\')')\n",
            "2024-08-02 16:12:27,478 - Failed to batch ingest runs: LangSmithRateLimitError('Rate limit exceeded for https://api.smith.langchain.com/runs/batch. HTTPError(\\'429 Client Error: Too Many Requests for url: https://api.smith.langchain.com/runs/batch\\', \\'{\"detail\":\"Monthly unique traces usage limit exceeded\"}\\')')\n",
            "2024-08-02 16:12:27,582 - Failed to batch ingest runs: LangSmithRateLimitError('Rate limit exceeded for https://api.smith.langchain.com/runs/batch. HTTPError(\\'429 Client Error: Too Many Requests for url: https://api.smith.langchain.com/runs/batch\\', \\'{\"detail\":\"Monthly unique traces usage limit exceeded\"}\\')')\n",
            "2024-08-02 16:12:27,606 - Failed to batch ingest runs: LangSmithRateLimitError('Rate limit exceeded for https://api.smith.langchain.com/runs/batch. HTTPError(\\'429 Client Error: Too Many Requests for url: https://api.smith.langchain.com/runs/batch\\', \\'{\"detail\":\"Monthly unique traces usage limit exceeded\"}\\')')\n",
            "2024-08-02 16:12:27,661 - Failed to batch ingest runs: LangSmithRateLimitError('Rate limit exceeded for https://api.smith.langchain.com/runs/batch. HTTPError(\\'429 Client Error: Too Many Requests for url: https://api.smith.langchain.com/runs/batch\\', \\'{\"detail\":\"Monthly unique traces usage limit exceeded\"}\\')')\n",
            "2024-08-02 16:12:28,001 - Failed to batch ingest runs: LangSmithRateLimitError('Rate limit exceeded for https://api.smith.langchain.com/runs/batch. HTTPError(\\'429 Client Error: Too Many Requests for url: https://api.smith.langchain.com/runs/batch\\', \\'{\"detail\":\"Monthly unique traces usage limit exceeded\"}\\')')\n",
            "2024-08-02 16:12:28,449 - Failed to batch ingest runs: LangSmithRateLimitError('Rate limit exceeded for https://api.smith.langchain.com/runs/batch. HTTPError(\\'429 Client Error: Too Many Requests for url: https://api.smith.langchain.com/runs/batch\\', \\'{\"detail\":\"Monthly unique traces usage limit exceeded\"}\\')')\n",
            "2024-08-02 16:12:28,586 - Failed to batch ingest runs: LangSmithRateLimitError('Rate limit exceeded for https://api.smith.langchain.com/runs/batch. HTTPError(\\'429 Client Error: Too Many Requests for url: https://api.smith.langchain.com/runs/batch\\', \\'{\"detail\":\"Monthly unique traces usage limit exceeded\"}\\')')\n",
            "2024-08-02 16:13:58,513 - Failed to batch ingest runs: LangSmithRateLimitError('Rate limit exceeded for https://api.smith.langchain.com/runs/batch. HTTPError(\\'429 Client Error: Too Many Requests for url: https://api.smith.langchain.com/runs/batch\\', \\'{\"detail\":\"Monthly unique traces usage limit exceeded\"}\\')')\n",
            "2024-08-02 16:13:59,001 - Failed to batch ingest runs: LangSmithRateLimitError('Rate limit exceeded for https://api.smith.langchain.com/runs/batch. HTTPError(\\'429 Client Error: Too Many Requests for url: https://api.smith.langchain.com/runs/batch\\', \\'{\"detail\":\"Monthly unique traces usage limit exceeded\"}\\')')\n",
            "2024-08-02 16:13:59,402 - Failed to batch ingest runs: LangSmithRateLimitError('Rate limit exceeded for https://api.smith.langchain.com/runs/batch. HTTPError(\\'429 Client Error: Too Many Requests for url: https://api.smith.langchain.com/runs/batch\\', \\'{\"detail\":\"Monthly unique traces usage limit exceeded\"}\\')')\n",
            "2024-08-02 16:15:29,731 - Failed to batch ingest runs: LangSmithRateLimitError('Rate limit exceeded for https://api.smith.langchain.com/runs/batch. HTTPError(\\'429 Client Error: Too Many Requests for url: https://api.smith.langchain.com/runs/batch\\', \\'{\"detail\":\"Monthly unique traces usage limit exceeded\"}\\')')\n",
            "2024-08-02 16:15:30,431 - Failed to batch ingest runs: LangSmithRateLimitError('Rate limit exceeded for https://api.smith.langchain.com/runs/batch. HTTPError(\\'429 Client Error: Too Many Requests for url: https://api.smith.langchain.com/runs/batch\\', \\'{\"detail\":\"Monthly unique traces usage limit exceeded\"}\\')')\n",
            "2024-08-02 16:15:31,244 - Failed to batch ingest runs: LangSmithRateLimitError('Rate limit exceeded for https://api.smith.langchain.com/runs/batch. HTTPError(\\'429 Client Error: Too Many Requests for url: https://api.smith.langchain.com/runs/batch\\', \\'{\"detail\":\"Monthly unique traces usage limit exceeded\"}\\')')\n",
            "2024-08-02 16:15:39,435 - Failed to batch ingest runs: LangSmithRateLimitError('Rate limit exceeded for https://api.smith.langchain.com/runs/batch. HTTPError(\\'429 Client Error: Too Many Requests for url: https://api.smith.langchain.com/runs/batch\\', \\'{\"detail\":\"Monthly unique traces usage limit exceeded\"}\\')')\n"
          ]
        }
      ],
      "source": [
        "from concurrent.futures import ThreadPoolExecutor, as_completed\n",
        "from tqdm import tqdm\n",
        "\n",
        "MAX_WORKERS = 10\n",
        "NUM_ARTICLES = 89\n",
        "graph_documents = []\n",
        "\n",
        "with ThreadPoolExecutor(max_workers=MAX_WORKERS) as executor:\n",
        "    # Submitting all tasks and creating a list of future objects\n",
        "    futures = [\n",
        "        executor.submit(process_text, f\"{row['title']} {row['text']}\")\n",
        "        for i, row in df.head(NUM_ARTICLES).iterrows()\n",
        "    ]\n",
        "\n",
        "    for future in tqdm(\n",
        "        as_completed(futures), total=len(futures), desc=\"Processing documents\"\n",
        "    ):\n",
        "        graph_document = future.result()\n",
        "        graph_documents.extend(graph_document)\n",
        "\n",
        "graph.add_graph_documents(\n",
        "    graph_documents,\n",
        "    baseEntityLabel=True,\n",
        "    include_source=True\n",
        ")"
      ]
    },
    {
      "cell_type": "markdown",
      "metadata": {
        "id": "iPqW-TpOftgc"
      },
      "source": [
        "In this example, we extract graph information from 2,000 articles and store results to Neo4j. We have extracted around 13,000 entities and 16,000 relationships. Here is an example of an extracted document in the graph.\n",
        "\n",
        "\n",
        "![title](https://miro.medium.com/v2/resize:fit:952/format:webp/1*pj-V-XHmVaJE5SsOtvqOqw.png)\n",
        "\n",
        "It takes about 35 (+/- 5) minutes to complete extraction and costs about $30 with GPT-4o.\n",
        "\n",
        "In this step, the authors introduce heuristics to decide whether to extract graph information in more than one pass. For simplicity’s sake, we will only do one pass. However, if we wanted to do multiple passes, we could put the first extraction results as conversational history and simply [instruct the LLM that many entities are missing](https://github.com/microsoft/graphrag/blob/main/graphrag/index/graph/extractors/claims/prompts.py#L60), and it should extract more, like the GraphRAG authors do.\n",
        "\n",
        "Previously, I mentioned how vital text chunk size is and how it affects the number of entities extracted. Since we didn’t perform any additional text chunking, we can evaluate the distribution of extracted entities based on text chunk size:"
      ]
    },
    {
      "cell_type": "code",
      "execution_count": 15,
      "metadata": {
        "colab": {
          "base_uri": "https://localhost:8080/",
          "height": 529
        },
        "id": "u2Qz8jYbpd8Z",
        "outputId": "679aa177-4852-4e77-b072-5e540ba17d48"
      },
      "outputs": [
        {
          "data": {
            "image/png": "[encoded data removed]",
            "text/plain": [
              "<Figure size 500x500 with 1 Axes>"
            ]
          },
          "metadata": {},
          "output_type": "display_data"
        },
        {
          "name": "stderr",
          "output_type": "stream",
          "text": [
            "2024-08-02 16:17:00,878 - Failed to batch ingest runs: LangSmithRateLimitError('Rate limit exceeded for https://api.smith.langchain.com/runs/batch. HTTPError(\\'429 Client Error: Too Many Requests for url: https://api.smith.langchain.com/runs/batch\\', \\'{\"detail\":\"Monthly unique traces usage limit exceeded\"}\\')')\n",
            "2024-08-02 16:17:02,093 - Failed to batch ingest runs: LangSmithRateLimitError('Rate limit exceeded for https://api.smith.langchain.com/runs/batch. HTTPError(\\'429 Client Error: Too Many Requests for url: https://api.smith.langchain.com/runs/batch\\', \\'{\"detail\":\"Monthly unique traces usage limit exceeded\"}\\')')\n",
            "2024-08-02 16:17:02,954 - Failed to batch ingest runs: LangSmithRateLimitError('Rate limit exceeded for https://api.smith.langchain.com/runs/batch. HTTPError(\\'429 Client Error: Too Many Requests for url: https://api.smith.langchain.com/runs/batch\\', \\'{\"detail\":\"Monthly unique traces usage limit exceeded\"}\\')')\n",
            "2024-08-02 16:17:11,476 - Failed to batch ingest runs: LangSmithRateLimitError('Rate limit exceeded for https://api.smith.langchain.com/runs/batch. HTTPError(\\'429 Client Error: Too Many Requests for url: https://api.smith.langchain.com/runs/batch\\', \\'{\"detail\":\"Monthly unique traces usage limit exceeded\"}\\')')\n"
          ]
        }
      ],
      "source": [
        "entity_dist = graph.query(\n",
        "    \"\"\"\n",
        "MATCH (d:Document)\n",
        "RETURN d.text AS text,\n",
        "       count {(d)-[:MENTIONS]->()} AS entity_count\n",
        "\"\"\"\n",
        ")\n",
        "entity_dist_df = pd.DataFrame.from_records(entity_dist)\n",
        "entity_dist_df[\"token_count\"] = [\n",
        "    num_tokens_from_string(str(el)) for el in entity_dist_df[\"text\"]\n",
        "]\n",
        "# Scatter plot with regression line\n",
        "sns.lmplot(\n",
        "    x=\"token_count\", y=\"entity_count\", data=entity_dist_df, line_kws={\"color\": \"red\"}\n",
        ")\n",
        "plt.title(\"Entity Count vs Token Count Distribution\")\n",
        "plt.xlabel(\"Token Count\")\n",
        "plt.ylabel(\"Entity Count\")\n",
        "plt.show()\n"
      ]
    },
    {
      "cell_type": "markdown",
      "metadata": {
        "id": "VyEy_AgFgDj6"
      },
      "source": [
        "The scatter plot shows that while there is a positive trend, indicated by the red line, the relationship is sublinear. Most data points cluster at lower entity counts, even as token counts increase. This indicates that the number of entities extracted does not scale proportionally with the size of the text chunks. Although some outliers exist, the general pattern shows that higher token counts do not consistently lead to higher entity counts. This validates the authors’ finding that lower text chunk sizes will extract more information.\n",
        "\n",
        "I also thought it would be interesting to inspect the node degree distributions of the constructed graph. The following code retrieves and visualizes node degree distributions:"
      ]
    },
    {
      "cell_type": "code",
      "execution_count": 16,
      "metadata": {
        "colab": {
          "base_uri": "https://localhost:8080/",
          "height": 564
        },
        "id": "eYhQaUkQOGyu",
        "outputId": "3fd9e277-2c1b-4d81-a35e-b5188c31977a"
      },
      "outputs": [
        {
          "data": {
            "image/png": "[encoded data removed]",
            "text/plain": [
              "<Figure size 1200x600 with 1 Axes>"
            ]
          },
          "metadata": {},
          "output_type": "display_data"
        }
      ],
      "source": [
        "import numpy as np\n",
        "\n",
        "degree_dist = graph.query(\n",
        "    \"\"\"\n",
        "MATCH (e:__Entity__)\n",
        "RETURN count {(e)-[:!MENTIONS]-()} AS node_degree\n",
        "\"\"\"\n",
        ")\n",
        "degree_dist_df = pd.DataFrame.from_records(degree_dist)\n",
        "\n",
        "# Calculate mean and median\n",
        "mean_degree = np.mean(degree_dist_df['node_degree'])\n",
        "percentiles = np.percentile(degree_dist_df['node_degree'], [25, 50, 75, 90])\n",
        "# Create a histogram with a logarithmic scale\n",
        "plt.figure(figsize=(12, 6))\n",
        "sns.histplot(degree_dist_df['node_degree'], bins=50, kde=False, color='blue')\n",
        "# Use a logarithmic scale for the x-axis\n",
        "plt.yscale('log')\n",
        "# Adding labels and title\n",
        "plt.xlabel('Node Degree')\n",
        "plt.ylabel('Count (log scale)')\n",
        "plt.title('Node Degree Distribution')\n",
        "# Add mean, median, and percentile lines\n",
        "plt.axvline(mean_degree, color='red', linestyle='dashed', linewidth=1, label=f'Mean: {mean_degree:.2f}')\n",
        "plt.axvline(percentiles[0], color='purple', linestyle='dashed', linewidth=1, label=f'25th Percentile: {percentiles[0]:.2f}')\n",
        "plt.axvline(percentiles[1], color='orange', linestyle='dashed', linewidth=1, label=f'50th Percentile: {percentiles[1]:.2f}')\n",
        "plt.axvline(percentiles[2], color='yellow', linestyle='dashed', linewidth=1, label=f'75th Percentile: {percentiles[2]:.2f}')\n",
        "plt.axvline(percentiles[3], color='brown', linestyle='dashed', linewidth=1, label=f'90th Percentile: {percentiles[3]:.2f}')\n",
        "# Add legend\n",
        "plt.legend()\n",
        "# Show the plot\n",
        "plt.show()"
      ]
    },
    {
      "cell_type": "markdown",
      "metadata": {
        "id": "eE3oNAl6gIHH"
      },
      "source": [
        "The node degree distribution follows a power-law pattern, indicating most nodes have very few connections while a few nodes are highly connected. The mean degree is 2.45, and the median is 1.00, showing that more than half the nodes have only one connection. Most nodes (75 percent) have two or fewer connections, and 90 percent have five or fewer. This distribution is typical of many real-world networks, where a small number of hubs have many connections, and most nodes have few.\n",
        "\n",
        "Since both node and relationship descriptions are not mandatory properties, we will also examine how many were extracted:"
      ]
    },
    {
      "cell_type": "code",
      "execution_count": 17,
      "metadata": {
        "colab": {
          "base_uri": "https://localhost:8080/"
        },
        "id": "yhOk0M-6a-a0",
        "outputId": "2930d9fa-fc7e-4276-c821-f2e3e2a9d70d"
      },
      "outputs": [
        {
          "data": {
            "text/plain": [
              "[{'type': 'node', 'total_count': 409, 'non_null_descriptions': 16},\n",
              " {'type': 'relationship', 'total_count': 487, 'non_null_descriptions': 97}]"
            ]
          },
          "execution_count": 17,
          "metadata": {},
          "output_type": "execute_result"
        },
        {
          "name": "stderr",
          "output_type": "stream",
          "text": [
            "2024-08-02 16:18:32,230 - Failed to batch ingest runs: LangSmithRateLimitError('Rate limit exceeded for https://api.smith.langchain.com/runs/batch. HTTPError(\\'429 Client Error: Too Many Requests for url: https://api.smith.langchain.com/runs/batch\\', \\'{\"detail\":\"Monthly unique traces usage limit exceeded\"}\\')')\n",
            "2024-08-02 16:18:34,407 - Failed to batch ingest runs: LangSmithRateLimitError('Rate limit exceeded for https://api.smith.langchain.com/runs/batch. HTTPError(\\'429 Client Error: Too Many Requests for url: https://api.smith.langchain.com/runs/batch\\', \\'{\"detail\":\"Monthly unique traces usage limit exceeded\"}\\')')\n",
            "2024-08-02 16:18:34,969 - Failed to batch ingest runs: LangSmithRateLimitError('Rate limit exceeded for https://api.smith.langchain.com/runs/batch. HTTPError(\\'429 Client Error: Too Many Requests for url: https://api.smith.langchain.com/runs/batch\\', \\'{\"detail\":\"Monthly unique traces usage limit exceeded\"}\\')')\n",
            "2024-08-02 16:18:43,338 - Failed to batch ingest runs: LangSmithRateLimitError('Rate limit exceeded for https://api.smith.langchain.com/runs/batch. HTTPError(\\'429 Client Error: Too Many Requests for url: https://api.smith.langchain.com/runs/batch\\', \\'{\"detail\":\"Monthly unique traces usage limit exceeded\"}\\')')\n"
          ]
        }
      ],
      "source": [
        "graph.query(\"\"\"\n",
        "MATCH (n:`__Entity__`)\n",
        "RETURN \"node\" AS type,\n",
        "       count(*) AS total_count,\n",
        "       count(n.description) AS non_null_descriptions\n",
        "UNION ALL\n",
        "MATCH (n)-[r:!MENTIONS]->()\n",
        "RETURN \"relationship\" AS type,\n",
        "       count(*) AS total_count,\n",
        "       count(r.description) AS non_null_descriptions\n",
        "\"\"\")"
      ]
    },
    {
      "cell_type": "markdown",
      "metadata": {
        "id": "FVphl4p5jIZN"
      },
      "source": [
        "The results show that 5,926 nodes out of 12,994 (45.6 percent) have the description property. On the other hand, only 5,569 relationships out of 15,921 (35 percent) have such a property.\n",
        "\n",
        "Note that due to the probabilistic nature of LLMs, the numbers can vary on different runs and different source data, LLMs, and prompts.\n",
        "\n",
        "### Entity Resolution\n",
        "Entity resolution (de-duplication) is crucial when constructing knowledge graphs because it ensures that each entity is uniquely and accurately represented, preventing duplicates and merging records that refer to the same real-world entity. This process is essential for maintaining data integrity and consistency within the graph. Without entity resolution, knowledge graphs would suffer from fragmented and inconsistent data, leading to errors and unreliable insights.\n",
        "\n",
        "![title](https://miro.medium.com/v2/resize:fit:1400/format:webp/0*rlWiW1sWlixDTaY0.png)\n",
        "\n",
        "This image demonstrates how a single real-world entity might appear under slightly different names in different documents and, consequently, in our graph.\n",
        "\n",
        "Moreover, sparse data becomes a significant issue without entity resolution. Incomplete or partial data from various sources can result in scattered and disconnected pieces of information, making it difficult to form a coherent and comprehensive understanding of entities. Accurate entity resolution addresses this by consolidating data, filling in gaps, and creating a unified view of each entity.\n",
        "\n",
        "Overall, entity resolution enhances the efficiency of data retrieval and integration, providing a cohesive view of information across different sources. It ultimately enables more effective question-answering based on a reliable and complete knowledge graph.\n",
        "\n",
        "Unfortunately, the authors of the GraphRAG paper did not include any entity resolution code in their repo, although they mention it in their paper. One reason for leaving this code out could be that it is tough to implement a robust and well-performing entity resolution for any given domain. You can implement custom heuristics for different nodes when dealing with pre-defined types of nodes (when they aren’t predefined, they aren’t consistent enough, like company, organization, business, etc.). However, if the node labels or types aren’t known in advance, as in our case, this becomes an even harder problem. Nonetheless, we will implement a version of entity resolution in our project here, combining text embeddings and graph algorithms with word distance and LLMs.\n",
        "\n",
        "![title](https://miro.medium.com/v2/resize:fit:1400/format:webp/1*KlLF01Imn7RlyuSWYkwnqw.png)\n",
        "\n",
        "Our process for entity resolution involves the following steps:\n",
        "\n",
        "1. Entities in the graph — Start with all entities within the graph.\n",
        "2. K-nearest graph — Construct a k-nearest neighbor graph, connecting similar entities based on text embeddings.\n",
        "3. Weakly Connected Components — Identify weakly connected components in the k-nearest graph, grouping entities that are likely to be similar. Add a word distance filtering step after these components have been identified.\n",
        "4. LLM evaluation — Use an LLM to evaluate these components and decide whether the entities within each component should be merged, resulting in a final decision on entity resolution (for example, merging ‘Silicon Valley Bank’ and ‘Silicon_Valley_Bank’ while rejecting the merge for different dates like ‘September 16, 2023’ and ‘September 2, 2023’).\n",
        "\n",
        "We begin by calculating text embeddings for the name and description properties of entities. We can use the from_existing_graph method in the Neo4jVector integration in LangChain to achieve this:"
      ]
    },
    {
      "cell_type": "code",
      "execution_count": 18,
      "metadata": {
        "colab": {
          "base_uri": "https://localhost:8080/"
        },
        "id": "LYkKe0XOWPTw",
        "outputId": "1cfbde44-077e-48f6-8cd8-616d5b5f17a9"
      },
      "outputs": [
        {
          "name": "stderr",
          "output_type": "stream",
          "text": [
            "2024-08-02 16:19:01,749 - HTTP Request: POST https://api.openai.com/v1/embeddings \"HTTP/1.1 200 OK\"\n",
            "2024-08-02 16:19:02,523 - HTTP Request: POST https://api.openai.com/v1/embeddings \"HTTP/1.1 200 OK\"\n",
            "2024-08-02 16:19:05,080 - Received notification from DBMS server: {severity: WARNING} {code: Neo.ClientNotification.Statement.FeatureDeprecationWarning} {category: DEPRECATION} {title: This feature is deprecated and will be removed in future versions.} {description: The query used a deprecated procedure. ('db.create.setVectorProperty' has been replaced by 'db.create.setNodeVectorProperty')} {position: line: 1, column: 72, offset: 71} for query: \"UNWIND $data AS row MATCH (n:`__Entity__`) WHERE elementId(n) = row.id CALL db.create.setVectorProperty(n, 'embedding', row.embedding) YIELD node RETURN count(*)\"\n"
          ]
        }
      ],
      "source": [
        "from langchain_community.vectorstores import Neo4jVector\n",
        "from langchain_openai import OpenAIEmbeddings\n",
        "\n",
        "vector = Neo4jVector.from_existing_graph(\n",
        "    OpenAIEmbeddings(),\n",
        "    node_label='__Entity__',\n",
        "    text_node_properties=['id', 'description'],\n",
        "    embedding_node_property='embedding'\n",
        ")"
      ]
    },
    {
      "cell_type": "markdown",
      "metadata": {
        "id": "9wvxowyhgk5J"
      },
      "source": [
        "We can use these embeddings to find potential candidates that are similar based on the cosine distance of these embeddings. We will use graph algorithms available in the Graph Data Science (GDS) library; therefore, we can use the GDS Python client for ease of use in a Pythonic way:"
      ]
    },
    {
      "cell_type": "code",
      "execution_count": 22,
      "metadata": {
        "colab": {
          "base_uri": "https://localhost:8080/"
        },
        "id": "3L4VqsAmYspT",
        "outputId": "aa36fab4-3047-4c4e-9de8-e2588852d200"
      },
      "outputs": [
        {
          "name": "stderr",
          "output_type": "stream",
          "text": [
            "2024-08-02 16:23:46,667 - Received notification from DBMS server: {severity: WARNING} {code: Neo.ClientNotification.Statement.FeatureDeprecationWarning} {category: DEPRECATION} {title: This feature is deprecated and will be removed in future versions.} {description: The query used a deprecated field from a procedure. ('advertisedListenAddress' returned by 'gds.debug.arrow' is deprecated.)} {position: line: 1, column: 1, offset: 0} for query: 'CALL gds.debug.arrow()'\n",
            "2024-08-02 16:23:46,667 - Received notification from DBMS server: {severity: WARNING} {code: Neo.ClientNotification.Statement.FeatureDeprecationWarning} {category: DEPRECATION} {title: This feature is deprecated and will be removed in future versions.} {description: The query used a deprecated field from a procedure. ('serverLocation' returned by 'gds.debug.arrow' is deprecated.)} {position: line: 1, column: 1, offset: 0} for query: 'CALL gds.debug.arrow()'\n"
          ]
        }
      ],
      "source": [
        "from graphdatascience import GraphDataScience\n",
        "# project graph\n",
        "\n",
        "gds = GraphDataScience(\n",
        "    os.environ[\"NEO4J_URI\"],\n",
        "    auth=(os.environ[\"NEO4J_USERNAME\"], os.environ[\"NEO4J_PASSWORD\"])\n",
        ")"
      ]
    },
    {
      "cell_type": "code",
      "execution_count": 23,
      "metadata": {},
      "outputs": [],
      "source": [
        "gds.set_database(\"gorag-samsung-02-ms\")\n"
      ]
    },
    {
      "cell_type": "markdown",
      "metadata": {
        "id": "UGy3e-g6gl-r"
      },
      "source": [
        "If you are not familiar with the GDS library, we first have to project an in-memory graph before we can execute any graph algorithms.\n",
        "\n",
        "![title](https://miro.medium.com/v2/resize:fit:1268/format:webp/1*YdEljYtG2ddd7DrrlzS6yg.png)\n",
        "\n",
        "First, the Neo4j stored graph is projected into an in-memory graph for faster processing and analysis. Next, a graph algorithm is executed on the in-memory graph. Optionally, the algorithm’s results can be stored back into the Neo4j database. Learn more about it in the documentation.\n",
        "\n",
        "To create the k-nearest neighbor graph, we will project all entities along with their text embeddings:"
      ]
    },
    {
      "cell_type": "code",
      "execution_count": 24,
      "metadata": {
        "colab": {
          "base_uri": "https://localhost:8080/",
          "height": 49,
          "referenced_widgets": [
            "3882f5d9054d48cda5b5e2009ad7a9b6",
            "eb7841f10d1948389920a24690ef421b",
            "71885f8fda5246fc8e6c5e3797679158",
            "c285ed227c16418ba6a0c48b353d72ee",
            "8316bd062e1f45118452ee31be1dc195",
            "3d221ca56d12435abfc8f0468f143e7d",
            "388614f2882a449fb87e9453b2a7f527",
            "06b5fd0836ec4f48ba62e44b2717279b",
            "fc56e53314f34d18a38afd8cb29fafb4",
            "8502377116284921bc42589b482d38d9",
            "49dde26b14ac4aa2aa54651453009aeb"
          ]
        },
        "id": "nJpLldiUdpsO",
        "outputId": "676529b4-a41c-4581-c0de-4a8275a177c9"
      },
      "outputs": [],
      "source": [
        "G, result = gds.graph.project(\n",
        "    \"entities\",                   #  Graph name\n",
        "    \"__Entity__\",                 #  Node projection\n",
        "    \"*\",                          #  Relationship projection\n",
        "    nodeProperties=[\"embedding\"]  #  Configuration parameters\n",
        ")"
      ]
    },
    {
      "cell_type": "markdown",
      "metadata": {
        "id": "Fthtqjo-gw2F"
      },
      "source": [
        "Now that the graph is projected under the entities name, we can execute graph algorithms. We will begin by constructing a k-nearest graph. The two most important parameters influencing how sparse or dense the k-nearest graph will be are similarityCutoff and topK. The topKis the number of neighbors to find for each node, with a minimum value of 1. The similarity cutoff filters out relationships with similarity below this threshold. Here, we will use a default topKof 10 and a relatively high similarity cutoff of 0.95. Using a high similarity cutoff, such as 0.95, ensures that only highly similar pairs are considered matches, minimizing false positives and improving accuracy.\n",
        "\n",
        "![title](https://miro.medium.com/v2/resize:fit:942/format:webp/1*Wt_9Tj9P_FsU7w1IvpO39g.png)\n",
        "\n",
        "Since we want to store the results back to the projected in-memory graph instead of the knowledge graph, we will use the mutate mode of the algorithm:"
      ]
    },
    {
      "cell_type": "code",
      "execution_count": 27,
      "metadata": {
        "colab": {
          "base_uri": "https://localhost:8080/",
          "height": 263,
          "referenced_widgets": [
            "df4cec7aa8f144e4bfcbb0dcbf1b1746",
            "70e2c72d9d404f4aa8c2b764e7af7b93",
            "55ecc81af9c44546b8a8140a821003ac",
            "c3da34580c2342d597c65787cb15013e",
            "290b8c08c2b648889c5ac98e59efbb70",
            "d289f0a2b44a4760ad3deb3e52bd529b",
            "37adfa0460674f18b40c32e7d412ad98",
            "aca4392d8f0640d19026ad011e047e42",
            "76562367afe7484ab28e83d450e45785",
            "60ed05fde48d44ac831cd72e5e249b28",
            "47751790b8d94346bf786df2fcaf16b5"
          ]
        },
        "id": "DWdGhMmgeuFL",
        "outputId": "72e71712-08ed-4f42-bcbd-e25be6021392"
      },
      "outputs": [
        {
          "data": {
            "text/plain": [
              "ranIterations                                                             7\n",
              "didConverge                                                            True\n",
              "nodePairsConsidered                                                  150059\n",
              "preProcessingMillis                                                       0\n",
              "computeMillis                                                           222\n",
              "writeMillis                                                              30\n",
              "postProcessingMillis                                                      0\n",
              "nodesCompared                                                           409\n",
              "relationshipsWritten                                                   2826\n",
              "similarityDistribution    {'min': 0.9500312805175781, 'p5': 0.9515495300...\n",
              "configuration             {'writeProperty': 'score', 'writeRelationshipT...\n",
              "Name: 0, dtype: object"
            ]
          },
          "execution_count": 27,
          "metadata": {},
          "output_type": "execute_result"
        }
      ],
      "source": [
        "similarity_threshold = 0.95\n",
        "\n",
        "gds.knn.write(\n",
        "  G,\n",
        "  nodeProperties=['embedding'],\n",
        "  writeRelationshipType= 'SIMILAR_KNN',\n",
        "  writeProperty= 'score',\n",
        "  similarityCutoff=similarity_threshold\n",
        ")"
      ]
    },
    {
      "cell_type": "markdown",
      "metadata": {
        "id": "-Dg7vZrGg7ZW"
      },
      "source": [
        "The next step is to identify groups of entities that are connected with the newly inferred similarity relationships. Identifying groups of connected nodes is a frequent process in network analysis, often called community detection or clustering, which involves finding subgroups of densely connected nodes. In this example, we will use the Weakly Connected Components algorithm, which helps us find parts of a graph where all nodes are connected, even if we ignore the direction of the connections.\n",
        "\n",
        "![title](https://miro.medium.com/v2/resize:fit:1400/format:webp/1*ZhawRXqvoZ6EuuUzacCf7A.png)\n",
        "\n",
        "We use the algorithm’s write mode to store the results back to the database (stored graph):"
      ]
    },
    {
      "cell_type": "code",
      "execution_count": 26,
      "metadata": {
        "colab": {
          "base_uri": "https://localhost:8080/"
        },
        "id": "Juc1fFiFf73-",
        "outputId": "c9c76c9c-6a11-47cd-f800-f9e6c1890eff"
      },
      "outputs": [
        {
          "data": {
            "text/plain": [
              "writeMillis                                                             18\n",
              "nodePropertiesWritten                                                  409\n",
              "componentCount                                                          38\n",
              "componentDistribution    {'min': 1, 'p5': 1, 'max': 363, 'p999': 363, '...\n",
              "postProcessingMillis                                                     7\n",
              "preProcessingMillis                                                      0\n",
              "computeMillis                                                            3\n",
              "configuration            {'writeProperty': 'wcc', 'jobId': '0b754d96-6d...\n",
              "Name: 0, dtype: object"
            ]
          },
          "execution_count": 26,
          "metadata": {},
          "output_type": "execute_result"
        }
      ],
      "source": [
        "gds.wcc.write(\n",
        "    G,\n",
        "    writeProperty=\"wcc\",\n",
        "    relationshipTypes=[\"SIMILAR_KNN\"]\n",
        ")"
      ]
    },
    {
      "cell_type": "markdown",
      "metadata": {
        "id": "V8euMSB4hElG"
      },
      "source": [
        "Text embedding comparison helps find potential duplicates, but it is only part of the entity resolution process. For example, Google and Apple are very close in the embedding space (0.96 cosine similarity using the ada-002 embedding model). The same goes for BMW and Mercedes Benz (0.97 cosine similarity). High text embedding similarity is a good start, but we can improve it. Therefore, we will add an additional filter allowing only pairs of words with a text distance of three or fewer (meaning that only the characters can be changed):"
      ]
    },
    {
      "cell_type": "code",
      "execution_count": null,
      "metadata": {
        "colab": {
          "base_uri": "https://localhost:8080/"
        },
        "id": "S2mjWpcagO-h",
        "outputId": "9016a6b2-1497-4ae8-c461-f933c0533e41"
      },
      "outputs": [
        {
          "data": {
            "text/plain": [
              "[{'combinedResult': ['Dekra',\n",
              "   'Jeeps',\n",
              "   'Kenya',\n",
              "   'Kerry',\n",
              "   'Leeds',\n",
              "   'Lexus',\n",
              "   'Leyla',\n",
              "   'Newry',\n",
              "   'Telcos',\n",
              "   'Telecoms',\n",
              "   'Telia',\n",
              "   'Telkom',\n",
              "   'Telus',\n",
              "   'Tenaa',\n",
              "   'Terra',\n",
              "   'Tesco',\n",
              "   'Tesla']},\n",
              " {'combinedResult': ['Unreal Engine', 'Unreal_Engine']},\n",
              " {'combinedResult': ['Bank Of America', 'Bank_Of_America']},\n",
              " {'combinedResult': ['Sinn Fein', 'Sinn Féin']},\n",
              " {'combinedResult': ['John Brady', 'John Grady']}]"
            ]
          },
          "execution_count": 40,
          "metadata": {},
          "output_type": "execute_result"
        }
      ],
      "source": [
        "word_edit_distance = 3\n",
        "potential_duplicate_candidates = graph.query(\n",
        "    \"\"\"MATCH (e:`__Entity__`)\n",
        "    WHERE size(e.id) > 4 // longer than 4 characters\n",
        "    WITH e.wcc AS community, collect(e) AS nodes, count(*) AS count\n",
        "    WHERE count > 1\n",
        "    UNWIND nodes AS node\n",
        "    // Add text distance\n",
        "    WITH distinct\n",
        "      [n IN nodes WHERE apoc.text.distance(toLower(node.id), toLower(n.id)) < $distance | n.id] AS intermediate_results\n",
        "    WHERE size(intermediate_results) > 1\n",
        "    WITH collect(intermediate_results) AS results\n",
        "    // combine groups together if they share elements\n",
        "    UNWIND range(0, size(results)-1, 1) as index\n",
        "    WITH results, index, results[index] as result\n",
        "    WITH apoc.coll.sort(reduce(acc = result, index2 IN range(0, size(results)-1, 1) |\n",
        "            CASE WHEN index <> index2 AND\n",
        "                size(apoc.coll.intersection(acc, results[index2])) > 0\n",
        "                THEN apoc.coll.union(acc, results[index2])\n",
        "                ELSE acc\n",
        "            END\n",
        "    )) as combinedResult\n",
        "    WITH distinct(combinedResult) as combinedResult\n",
        "    // extra filtering\n",
        "    WITH collect(combinedResult) as allCombinedResults\n",
        "    UNWIND range(0, size(allCombinedResults)-1, 1) as combinedResultIndex\n",
        "    WITH allCombinedResults[combinedResultIndex] as combinedResult, combinedResultIndex, allCombinedResults\n",
        "    WHERE NOT any(x IN range(0,size(allCombinedResults)-1,1)\n",
        "        WHERE x <> combinedResultIndex\n",
        "        AND apoc.coll.containsAll(allCombinedResults[x], combinedResult)\n",
        "    )\n",
        "    RETURN combinedResult\n",
        "    \"\"\", params={'distance': word_edit_distance})\n",
        "potential_duplicate_candidates[:5]"
      ]
    },
    {
      "cell_type": "markdown",
      "metadata": {
        "id": "0X-UwzLqhJT9"
      },
      "source": [
        "This Cypher statement is slightly more involved, and its interpretation is beyond the scope of this blog post. You can always ask an LLM to interpret it.\n",
        "\n",
        "Additionally, the word distance cutoff could be a function of the length of the word instead of a single number and the implementation could be more scalable.\n",
        "\n",
        "What is important is that it outputs groups of potential entities we might want to merge.\n",
        "\n",
        "As you can see, our resolution approach works better for some node types than others. Based on a quick examination, it seems to work better for people and organizations, while it’s pretty bad for dates. If we used predefined node types, we could prepare different heuristics for various node types. In this example, we do not have predefined node labels, so we will turn to an LLM to make the final decision about whether entities should be merged or not.\n",
        "\n",
        "First, we need to formulate the LLM prompt to effectively guide and inform the final decision regarding the merging of the nodes:"
      ]
    },
    {
      "cell_type": "code",
      "execution_count": null,
      "metadata": {
        "id": "ABQOLHRshVU_"
      },
      "outputs": [],
      "source": [
        "system_prompt = \"\"\"You are a data processing assistant. Your task is to identify duplicate entities in a list and decide which of them should be merged.\n",
        "The entities might be slightly different in format or content, but essentially refer to the same thing. Use your analytical skills to determine duplicates.\n",
        "\n",
        "Here are the rules for identifying duplicates:\n",
        "1. Entities with minor typographical differences should be considered duplicates.\n",
        "2. Entities with different formats but the same content should be considered duplicates.\n",
        "3. Entities that refer to the same real-world object or concept, even if described differently, should be considered duplicates.\n",
        "4. If it refers to different numbers, dates, or products, do not merge results\n",
        "\"\"\"\n",
        "user_template = \"\"\"\n",
        "Here is the list of entities to process:\n",
        "{entities}\n",
        "\n",
        "Please identify duplicates, merge them, and provide the merged list.\n",
        "\"\"\""
      ]
    },
    {
      "cell_type": "markdown",
      "metadata": {
        "id": "1CbHzuTohXzw"
      },
      "source": [
        "I always like to use with_structured_output method in LangChain when expecting structured data output to avoid having to parse the outputs manually.\n",
        "\n",
        "Here, we will define the output as a list of lists, where each inner list contains the entities that should be merged. This structure is used to handle scenarios where, for example, the input might be [Sony, Sony Inc, Google, Google Inc]. In such cases, you would want to merge “Sony” and “Sony Inc” separately from “Google” and “Google Inc.”"
      ]
    },
    {
      "cell_type": "code",
      "execution_count": null,
      "metadata": {
        "id": "f3uaBpUEF3EF"
      },
      "outputs": [],
      "source": [
        "from langchain_core.pydantic_v1 import BaseModel, Field\n",
        "from typing import List, Optional\n",
        "from langchain_core.prompts import ChatPromptTemplate\n",
        "from retry import retry\n",
        "\n",
        "class DuplicateEntities(BaseModel):\n",
        "    entities: List[str] = Field(\n",
        "        description=\"Entities that represent the same object or real-world entity and should be merged\"\n",
        "    )\n",
        "\n",
        "\n",
        "class Disambiguate(BaseModel):\n",
        "    merge_entities: Optional[List[DuplicateEntities]] = Field(\n",
        "        description=\"Lists of entities that represent the same object or real-world entity and should be merged\"\n",
        "    )\n",
        "\n",
        "\n",
        "extraction_llm = ChatOpenAI(model_name=\"gpt-4o\").with_structured_output(\n",
        "    Disambiguate\n",
        ")\n",
        "\n",
        "extraction_prompt = ChatPromptTemplate.from_messages(\n",
        "    [\n",
        "        (\n",
        "            \"system\",\n",
        "            system_prompt,\n",
        "        ),\n",
        "        (\n",
        "            \"human\",\n",
        "            user_template,\n",
        "        ),\n",
        "    ]\n",
        ")"
      ]
    },
    {
      "cell_type": "markdown",
      "metadata": {
        "id": "QWFkbPsthcTY"
      },
      "source": [
        "Next, we integrate the LLM prompt with the structured output to create a chain using LangChain Expression Language (LCEL) syntax and encapsulate it within a disambiguate function."
      ]
    },
    {
      "cell_type": "code",
      "execution_count": null,
      "metadata": {
        "id": "rRyqLAHShguX"
      },
      "outputs": [],
      "source": [
        "extraction_chain = extraction_prompt | extraction_llm\n",
        "\n",
        "@retry(tries=3, delay=2)\n",
        "def entity_resolution(entities: List[str]) -> Optional[List[str]]:\n",
        "    return [\n",
        "        el.entities\n",
        "        for el in extraction_chain.invoke({\"entities\": entities}).merge_entities\n",
        "    ]\n",
        "\n"
      ]
    },
    {
      "cell_type": "code",
      "execution_count": null,
      "metadata": {
        "colab": {
          "base_uri": "https://localhost:8080/"
        },
        "id": "cPMwVQjIJQAg",
        "outputId": "3699ec52-9add-496e-c099-dde5f922e596"
      },
      "outputs": [
        {
          "data": {
            "text/plain": [
              "[['Star Ocean The Second Story R', 'Star Ocean: The Second Story R']]"
            ]
          },
          "execution_count": 48,
          "metadata": {},
          "output_type": "execute_result"
        }
      ],
      "source": [
        "entity_resolution(['Star Ocean The Second Story R', 'Star Ocean: The Second Story R'])"
      ]
    },
    {
      "cell_type": "code",
      "execution_count": null,
      "metadata": {
        "colab": {
          "base_uri": "https://localhost:8080/"
        },
        "id": "u3gNrAoUJdKA",
        "outputId": "c8063c6b-975f-460e-c2e0-83e90b9b5eed"
      },
      "outputs": [
        {
          "data": {
            "text/plain": [
              "[]"
            ]
          },
          "execution_count": 49,
          "metadata": {},
          "output_type": "execute_result"
        }
      ],
      "source": [
        "entity_resolution({\"entities\": ['December 16, 2023',\n",
        "   'December 2, 2023',\n",
        "   'December 23, 2023',\n",
        "   'December 26, 2023',\n",
        "   'December 30, 2023',\n",
        "   'December 5, 2023',\n",
        "   'December 9, 2023']})"
      ]
    },
    {
      "cell_type": "markdown",
      "metadata": {
        "id": "jL0WhRpChpDP"
      },
      "source": [
        "We need to run all potential candidate nodes through the entity_resolution function to decide whether they should be merged. To speed up the process, we will again parallelize the LLM calls:"
      ]
    },
    {
      "cell_type": "code",
      "execution_count": null,
      "metadata": {
        "colab": {
          "base_uri": "https://localhost:8080/"
        },
        "id": "ofXSUcm8KSrI",
        "outputId": "74c0987c-0332-46c6-f8c4-6ca425349c41"
      },
      "outputs": [
        {
          "name": "stderr",
          "output_type": "stream",
          "text": [
            "Processing documents:  40%|███▉      | 198/500 [00:16<00:25, 11.83it/s]WARNING:retry.api:'NoneType' object is not iterable, retrying in 2 seconds...\n",
            "Processing documents:  88%|████████▊ | 442/500 [00:34<00:03, 16.84it/s]WARNING:retry.api:'NoneType' object is not iterable, retrying in 2 seconds...\n",
            "Processing documents:  89%|████████▉ | 446/500 [00:34<00:04, 13.29it/s]WARNING:retry.api:'NoneType' object is not iterable, retrying in 2 seconds...\n",
            "Processing documents:  94%|█████████▍| 472/500 [00:36<00:02, 13.79it/s]WARNING:retry.api:'NoneType' object is not iterable, retrying in 2 seconds...\n",
            "Processing documents:  96%|█████████▌| 480/500 [00:37<00:01, 14.02it/s]WARNING:retry.api:'NoneType' object is not iterable, retrying in 2 seconds...\n",
            "Processing documents: 100%|██████████| 500/500 [00:39<00:00, 12.55it/s]\n"
          ]
        }
      ],
      "source": [
        "merged_entities = []\n",
        "with ThreadPoolExecutor(max_workers=MAX_WORKERS) as executor:\n",
        "    # Submitting all tasks and creating a list of future objects\n",
        "    futures = [\n",
        "        executor.submit(entity_resolution, el['combinedResult'])\n",
        "        for el in potential_duplicate_candidates\n",
        "    ]\n",
        "\n",
        "    for future in tqdm(\n",
        "        as_completed(futures), total=len(futures), desc=\"Processing documents\"\n",
        "    ):\n",
        "        to_merge = future.result()\n",
        "        if to_merge:\n",
        "            merged_entities.extend(to_merge)"
      ]
    },
    {
      "cell_type": "code",
      "execution_count": null,
      "metadata": {
        "colab": {
          "base_uri": "https://localhost:8080/"
        },
        "id": "OmuqZmrGLmSp",
        "outputId": "382783c2-7fe0-4f69-e09c-1f4fd14a1c5a"
      },
      "outputs": [
        {
          "data": {
            "text/plain": [
              "[['Telcos', 'Telecoms'],\n",
              " ['Bank Of America', 'Bank_Of_America'],\n",
              " ['Sinn Fein', 'Sinn Féin'],\n",
              " ['John Brady', 'John Grady'],\n",
              " ['Unreal Engine', 'Unreal_Engine'],\n",
              " ['Tamil Nadu', 'Tamil_Nadu'],\n",
              " ['Asia Pacific', 'Asia-Pacific', 'Asia_Pacific'],\n",
              " ['Star Ocean First Departure R', 'Star Ocean: First Departure R'],\n",
              " ['New York Jets', 'New York Mets'],\n",
              " ['Citigroup Inc', 'Citigroup Inc.']]"
            ]
          },
          "execution_count": 53,
          "metadata": {},
          "output_type": "execute_result"
        }
      ],
      "source": [
        "merged_entities[:10]"
      ]
    },
    {
      "cell_type": "markdown",
      "metadata": {
        "id": "peZElkVJhuaP"
      },
      "source": [
        "The final step of entity resolution involves taking the results from the entity_resolution LLM and writing them back to the database by merging the specified nodes:\n",
        "\n"
      ]
    },
    {
      "cell_type": "code",
      "execution_count": null,
      "metadata": {
        "colab": {
          "base_uri": "https://localhost:8080/"
        },
        "id": "e8Mg310yMLhZ",
        "outputId": "f1ca21a8-874d-4f5c-b1bd-d5db5b8bf26a"
      },
      "outputs": [
        {
          "data": {
            "text/plain": [
              "[{'count(*)': 340}]"
            ]
          },
          "execution_count": 54,
          "metadata": {},
          "output_type": "execute_result"
        }
      ],
      "source": [
        "graph.query(\"\"\"\n",
        "UNWIND $data AS candidates\n",
        "CALL {\n",
        "  WITH candidates\n",
        "  MATCH (e:__Entity__) WHERE e.id IN candidates\n",
        "  RETURN collect(e) AS nodes\n",
        "}\n",
        "CALL apoc.refactor.mergeNodes(nodes, {properties: {\n",
        "    `.*`: 'discard'\n",
        "}})\n",
        "YIELD node\n",
        "RETURN count(*)\n",
        "\"\"\", params={\"data\": merged_entities})"
      ]
    },
    {
      "cell_type": "code",
      "execution_count": null,
      "metadata": {
        "colab": {
          "base_uri": "https://localhost:8080/"
        },
        "id": "XgGHDn-Wi1BH",
        "outputId": "3ae9a773-4f3d-491f-9743-28b2b7916457"
      },
      "outputs": [
        {
          "name": "stderr",
          "output_type": "stream",
          "text": [
            "WARNING:neo4j.notifications:Received notification from DBMS server: {severity: WARNING} {code: Neo.ClientNotification.Statement.FeatureDeprecationWarning} {category: DEPRECATION} {title: This feature is deprecated and will be removed in future versions.} {description: The query used a deprecated field from a procedure. ('schema' returned by 'gds.graph.drop' is deprecated.)} {position: line: 1, column: 1, offset: 0} for query: 'CALL gds.graph.drop($graph_name, $failIfMissing)'\n"
          ]
        },
        {
          "data": {
            "text/plain": [
              "graphName                                                         entities\n",
              "database                                                             neo4j\n",
              "databaseLocation                                                     local\n",
              "memoryUsage                                                               \n",
              "sizeInBytes                                                             -1\n",
              "nodeCount                                                            12994\n",
              "relationshipCount                                                    46531\n",
              "configuration            {'relationshipProjection': {'__ALL__': {'aggre...\n",
              "density                                                           0.000276\n",
              "creationTime                           2024-07-08T13:38:36.662074305+00:00\n",
              "modificationTime                       2024-07-08T13:40:44.635813484+00:00\n",
              "schema                   {'graphProperties': {}, 'nodes': {'__Entity__'...\n",
              "schemaWithOrientation    {'graphProperties': {}, 'nodes': {'__Entity__'...\n",
              "Name: 0, dtype: object"
            ]
          },
          "execution_count": 55,
          "metadata": {},
          "output_type": "execute_result"
        }
      ],
      "source": [
        "G.drop()"
      ]
    },
    {
      "cell_type": "markdown",
      "metadata": {
        "id": "7Nwk7OgPjVPK"
      },
      "source": [
        "This entity resolution is not perfect, but it gives us a starting point upon which we can improve. Additionally, we can improve the logic for determining which entities should be retained.\n",
        "\n",
        "### Element Summarization\n",
        "In the next step, the authors perform an element summarization step. Essentially, every node and relationship gets passed through an entity summarization prompt. The authors note the novelty and interest of their approach:\n",
        "\n",
        "“Overall, our use of rich descriptive text for homogeneous nodes in a potentially noisy graph structure is aligned with both the capabilities of LLMs and the needs of global, query-focused summarization. These qualities also differentiate our graph index from typical knowledge graphs, which rely on concise and consistent knowledge triples (subject, predicate, object) for downstream reasoning tasks.”\n",
        "\n",
        "The idea is exciting. We still extract subject and object IDs or names from text, which allows us to link relationships to correct entities, even when entities appear across multiple text chunks. However, the relationships aren’t reduced to a single type. Instead, the relationship type is actually a freeform text that allows us to retain richer and more nuanced information.\n",
        "\n",
        "Additionally, the entity information is summarized using an LLM, allowing us to embed and index this information and entities more efficiently for more accurate retrieval.\n",
        "\n",
        "One could argue that this richer and more nuanced information could also be retained by adding additional, possibly arbitrary, node and relationship properties. One issue with arbitrary node and relationship properties is that it could be hard to extract the information consistently because the LLM might use different property names or focus on various details on every execution.\n",
        "\n",
        "Some of these problems could be solved using predefined property names with additional type and description information. In that case, you would need a subject-matter expert to help define those properties, leaving little room for an LLM to extract any vital information outside the predefined descriptions.\n",
        "\n",
        "It’s an exciting approach to represent richer information in a knowledge graph.\n",
        "\n",
        "One potential issue with the element summarization step is that it does not scale well since it requires an LLM call for every entity and relationship in the graph. Our graph is relatively tiny with 13,000 nodes and 16,000 relationships. Even for such a small graph, we would require 29,000 LLM calls, and each call would use a couple hundred tokens, making it quite expensive and time-intensive. Therefore, we will avoid this step here. We can still use the description properties extracted during the initial text processing.\n",
        "\n",
        "### Constructing and Summarizing Communities\n",
        "The final step in the graph construction and indexing process involves identifying communities within the graph. In this context, a community is a group of nodes that are more densely connected to each other than to the rest of the graph, indicating a higher level of interaction or similarity. The following visualization shows an example of community detection results.\n",
        "\n",
        "![title](https://miro.medium.com/v2/resize:fit:1400/format:webp/0*l2i3ctl8s6xdR6ul.png)\n",
        "\n",
        "Once these entity communities are identified with a clustering algorithm, an LLM generates a summary for each community, providing insights into their individual characteristics and relationships.\n",
        "\n",
        "Again, we use the Graph Data Science library. We start by projecting an in-memory graph. To follow the original article precisely, we will project the graph of entities as an undirected weighted network, where the network represents the number of connections between two entities:"
      ]
    },
    {
      "cell_type": "code",
      "execution_count": null,
      "metadata": {
        "id": "9VCZpBBMjGQq"
      },
      "outputs": [],
      "source": [
        "G, result = gds.graph.project(\n",
        "    \"communities\",  #  Graph name\n",
        "    \"__Entity__\",  #  Node projection\n",
        "    {\n",
        "        \"_ALL_\": {\n",
        "            \"type\": \"*\",\n",
        "            \"orientation\": \"UNDIRECTED\",\n",
        "            \"properties\": {\"weight\": {\"property\": \"*\", \"aggregation\": \"COUNT\"}},\n",
        "        }\n",
        "    },\n",
        ")"
      ]
    },
    {
      "cell_type": "markdown",
      "metadata": {
        "id": "-tuPpCJ3iAZZ"
      },
      "source": [
        "The authors employed the Leiden algorithm, a hierarchical clustering method, to identify communities within the graph. One advantage of using a hierarchical community detection algorithm is the ability to examine communities at multiple levels of granularity. The authors suggest summarizing all communities at each level, providing a comprehensive understanding of the graph’s structure.\n",
        "\n",
        "First, we will use the Weakly Connected Components (WCC) algorithm to assess the connectivity of our graph. This algorithm identifies isolated sections within the graph, meaning it detects subsets of nodes or components that are connected to each other but not to the rest of the graph. These components help us understand the fragmentation within the network and identify groups of nodes that are independent from others. WCC is vital for analyzing the overall structure and connectivity of the graph."
      ]
    },
    {
      "cell_type": "code",
      "execution_count": null,
      "metadata": {
        "colab": {
          "base_uri": "https://localhost:8080/"
        },
        "id": "Hs-nCOuWuW6M",
        "outputId": "2b89168c-e0de-4d43-9bae-0defb66a6177"
      },
      "outputs": [
        {
          "name": "stdout",
          "output_type": "stream",
          "text": [
            "Component count: 1119\n",
            "Component distribution: {'min': 1, 'p5': 1, 'max': 9109, 'p999': 43, 'p99': 19, 'p1': 1, 'p10': 1, 'p90': 7, 'p50': 2, 'p25': 1, 'p75': 4, 'p95': 10, 'mean': 11.302055406613047}\n"
          ]
        }
      ],
      "source": [
        "wcc = gds.wcc.stats(G)\n",
        "print(f\"Component count: {wcc['componentCount']}\")\n",
        "print(f\"Component distribution: {wcc['componentDistribution']}\")"
      ]
    },
    {
      "cell_type": "markdown",
      "metadata": {
        "id": "ZbQkCrH8iCPY"
      },
      "source": [
        "The WCC algorithm results identified 1,119 distinct components. Notably, the largest component comprises 9,109 nodes, common in real-world networks where a single super component coexists with numerous smaller isolated components. The smallest component has one node, and the average component size is about 11.3 nodes.\n",
        "\n",
        "Next, we will run the Leiden algorithm, which is also available in the GDS library, and enable the includeIntermediateCommunities parameter to return and store communities at all levels. We have also included a relationshipWeightProperty parameter to run the weighted variant of the Leiden algorithm. Using the write mode of the algorithm stores the results as a node property."
      ]
    },
    {
      "cell_type": "code",
      "execution_count": null,
      "metadata": {
        "colab": {
          "base_uri": "https://localhost:8080/"
        },
        "id": "O9aLrUsykFa0",
        "outputId": "3163d266-eb0a-4280-c0fe-3541b085fe79"
      },
      "outputs": [
        {
          "data": {
            "text/plain": [
              "writeMillis                                                            398\n",
              "nodePropertiesWritten                                                12647\n",
              "ranLevels                                                                5\n",
              "didConverge                                                           True\n",
              "nodeCount                                                            12647\n",
              "communityCount                                                        1188\n",
              "communityDistribution    {'min': 1, 'p5': 1, 'max': 380, 'p999': 308, '...\n",
              "modularity                                                        0.921649\n",
              "modularities             [0.7200499759239788, 0.8816275351067698, 0.916...\n",
              "postProcessingMillis                                                    22\n",
              "preProcessingMillis                                                      0\n",
              "computeMillis                                                          424\n",
              "configuration            {'writeProperty': 'communities', 'theta': 0.01...\n",
              "Name: 0, dtype: object"
            ]
          },
          "execution_count": 61,
          "metadata": {},
          "output_type": "execute_result"
        }
      ],
      "source": [
        "gds.leiden.write(\n",
        "    G,\n",
        "    writeProperty=\"communities\",\n",
        "    includeIntermediateCommunities=True,\n",
        "    relationshipWeightProperty=\"weight\",\n",
        ")\n"
      ]
    },
    {
      "cell_type": "markdown",
      "metadata": {
        "id": "0a5AxvzLiHHa"
      },
      "source": [
        "The algorithm identified five levels of communities, with the highest (least granular level where communities are largest) having 1,188 communities (as opposed to 1,119 components). Building on this, we will create a distinct node for each community and represent their hierarchical structure as an interconnected graph. Later, we will also store community summaries and other attributes as node properties."
      ]
    },
    {
      "cell_type": "code",
      "execution_count": null,
      "metadata": {
        "colab": {
          "base_uri": "https://localhost:8080/"
        },
        "id": "-qIC9PZcGujw",
        "outputId": "ca868bb4-363d-43bc-a6cf-c782bf31b70e"
      },
      "outputs": [
        {
          "data": {
            "text/plain": [
              "[]"
            ]
          },
          "execution_count": 62,
          "metadata": {},
          "output_type": "execute_result"
        }
      ],
      "source": [
        "graph.query(\"CREATE CONSTRAINT IF NOT EXISTS FOR (c:__Community__) REQUIRE c.id IS UNIQUE;\")"
      ]
    },
    {
      "cell_type": "code",
      "execution_count": null,
      "metadata": {
        "colab": {
          "base_uri": "https://localhost:8080/"
        },
        "id": "EKRaBUjpwNNs",
        "outputId": "411bac03-6a28-4f65-f775-18b185834e06"
      },
      "outputs": [
        {
          "data": {
            "text/plain": [
              "[{'count(*)': 63235}]"
            ]
          },
          "execution_count": 64,
          "metadata": {},
          "output_type": "execute_result"
        }
      ],
      "source": [
        "graph.query(\"\"\"\n",
        "MATCH (e:`__Entity__`)\n",
        "UNWIND range(0, size(e.communities) - 1 , 1) AS index\n",
        "CALL {\n",
        "  WITH e, index\n",
        "  WITH e, index\n",
        "  WHERE index = 0\n",
        "  MERGE (c:`__Community__` {id: toString(index) + '-' + toString(e.communities[index])})\n",
        "  ON CREATE SET c.level = index\n",
        "  MERGE (e)-[:IN_COMMUNITY]->(c)\n",
        "  RETURN count(*) AS count_0\n",
        "}\n",
        "CALL {\n",
        "  WITH e, index\n",
        "  WITH e, index\n",
        "  WHERE index > 0\n",
        "  MERGE (current:`__Community__` {id: toString(index) + '-' + toString(e.communities[index])})\n",
        "  ON CREATE SET current.level = index\n",
        "  MERGE (previous:`__Community__` {id: toString(index - 1) + '-' + toString(e.communities[index - 1])})\n",
        "  ON CREATE SET previous.level = index - 1\n",
        "  MERGE (previous)-[:IN_COMMUNITY]->(current)\n",
        "  RETURN count(*) AS count_1\n",
        "}\n",
        "RETURN count(*)\n",
        "\"\"\")"
      ]
    },
    {
      "cell_type": "markdown",
      "metadata": {
        "id": "hoIno_V3iOOZ"
      },
      "source": [
        "The authors also introduce a community rank, indicating the number of distinct text chunks in which the entities within the community appear:"
      ]
    },
    {
      "cell_type": "code",
      "execution_count": null,
      "metadata": {
        "colab": {
          "base_uri": "https://localhost:8080/"
        },
        "id": "QA4CZxcyIkd8",
        "outputId": "a61e223e-79ad-430d-9dbc-4a30b180facd"
      },
      "outputs": [
        {
          "data": {
            "text/plain": [
              "[]"
            ]
          },
          "execution_count": 34,
          "metadata": {},
          "output_type": "execute_result"
        }
      ],
      "source": [
        "graph.query(\"\"\"\n",
        "MATCH (c:__Community__)<-[:IN_COMMUNITY*]-(:__Entity__)<-[:MENTIONS]-(d:Document)\n",
        "WITH c, count(distinct d) AS rank\n",
        "SET c.community_rank = rank;\n",
        "\"\"\")"
      ]
    },
    {
      "cell_type": "markdown",
      "metadata": {
        "id": "u6V00ZDKiQ-w"
      },
      "source": [
        "Now let’s examine a sample hierarchical structure with many intermediate communities merging at higher levels. The communities are non-overlapping, meaning that each entity belongs to precisely a single community at each level.\n",
        "Let’s examine the number of communities and their sizes and different levels in more detail:"
      ]
    },
    {
      "cell_type": "code",
      "execution_count": null,
      "metadata": {
        "colab": {
          "base_uri": "https://localhost:8080/",
          "height": 206
        },
        "id": "sU2Eg54TLjAV",
        "outputId": "1d6a6ffd-8256-4aa6-b2f1-c275f1218621"
      },
      "outputs": [
        {
          "data": {
            "application/vnd.google.colaboratory.intrinsic+json": {
              "summary": "{\n  \"name\": \"percentiles_df\",\n  \"rows\": 5,\n  \"fields\": [\n    {\n      \"column\": \"Level\",\n      \"properties\": {\n        \"dtype\": \"string\",\n        \"num_unique_values\": 5,\n        \"samples\": [\n          \"1\",\n          \"4\",\n          \"2\"\n        ],\n        \"semantic_type\": \"\",\n        \"description\": \"\"\n      }\n    },\n    {\n      \"column\": \"Number of communities\",\n      \"properties\": {\n        \"dtype\": \"number\",\n        \"std\": 895,\n        \"min\": 1188,\n        \"max\": 3283,\n        \"num_unique_values\": 5,\n        \"samples\": [\n          1651,\n          1188,\n          1276\n        ],\n        \"semantic_type\": \"\",\n        \"description\": \"\"\n      }\n    },\n    {\n      \"column\": \"25th Percentile\",\n      \"properties\": {\n        \"dtype\": \"number\",\n        \"std\": 0.44721359549995804,\n        \"min\": 1.0,\n        \"max\": 2.0,\n        \"num_unique_values\": 2,\n        \"samples\": [\n          1.0,\n          2.0\n        ],\n        \"semantic_type\": \"\",\n        \"description\": \"\"\n      }\n    },\n    {\n      \"column\": \"50th Percentile\",\n      \"properties\": {\n        \"dtype\": \"number\",\n        \"std\": 0.5477225575051661,\n        \"min\": 2.0,\n        \"max\": 3.0,\n        \"num_unique_values\": 2,\n        \"samples\": [\n          2.0,\n          3.0\n        ],\n        \"semantic_type\": \"\",\n        \"description\": \"\"\n      }\n    },\n    {\n      \"column\": \"75th Percentile\",\n      \"properties\": {\n        \"dtype\": \"number\",\n        \"std\": 1.9235384061671346,\n        \"min\": 4.0,\n        \"max\": 9.0,\n        \"num_unique_values\": 4,\n        \"samples\": [\n          9.0,\n          5.0\n        ],\n        \"semantic_type\": \"\",\n        \"description\": \"\"\n      }\n    },\n    {\n      \"column\": \"90th Percentile\",\n      \"properties\": {\n        \"dtype\": \"number\",\n        \"std\": 5.630275304103699,\n        \"min\": 7.0,\n        \"max\": 21.5,\n        \"num_unique_values\": 5,\n        \"samples\": [\n          17.0,\n          11.0\n        ],\n        \"semantic_type\": \"\",\n        \"description\": \"\"\n      }\n    },\n    {\n      \"column\": \"99th Percentile\",\n      \"properties\": {\n        \"dtype\": \"number\",\n        \"std\": 90.04616582620234,\n        \"min\": 21.0,\n        \"max\": 225.7799999999993,\n        \"num_unique_values\": 5,\n        \"samples\": [\n          65.5,\n          225.7799999999993\n        ],\n        \"semantic_type\": \"\",\n        \"description\": \"\"\n      }\n    },\n    {\n      \"column\": \"Max\",\n      \"properties\": {\n        \"dtype\": \"number\",\n        \"std\": 199,\n        \"min\": 63,\n        \"max\": 545,\n        \"num_unique_values\": 4,\n        \"samples\": [\n          330,\n          545\n        ],\n        \"semantic_type\": \"\",\n        \"description\": \"\"\n      }\n    }\n  ]\n}",
              "type": "dataframe",
              "variable_name": "percentiles_df"
            },
            "text/html": [
              "\n",
              "  <div id=\"df-fdae6006-13f6-423e-9c44-d4142dd1f82a\" class=\"colab-df-container\">\n",
              "    <div>\n",
              "<style scoped>\n",
              "    .dataframe tbody tr th:only-of-type {\n",
              "        vertical-align: middle;\n",
              "    }\n",
              "\n",
              "    .dataframe tbody tr th {\n",
              "        vertical-align: top;\n",
              "    }\n",
              "\n",
              "    .dataframe thead th {\n",
              "        text-align: right;\n",
              "    }\n",
              "</style>\n",
              "<table border=\"1\" class=\"dataframe\">\n",
              "  <thead>\n",
              "    <tr style=\"text-align: right;\">\n",
              "      <th></th>\n",
              "      <th>Level</th>\n",
              "      <th>Number of communities</th>\n",
              "      <th>25th Percentile</th>\n",
              "      <th>50th Percentile</th>\n",
              "      <th>75th Percentile</th>\n",
              "      <th>90th Percentile</th>\n",
              "      <th>99th Percentile</th>\n",
              "      <th>Max</th>\n",
              "    </tr>\n",
              "  </thead>\n",
              "  <tbody>\n",
              "    <tr>\n",
              "      <th>0</th>\n",
              "      <td>0</td>\n",
              "      <td>3283</td>\n",
              "      <td>2.0</td>\n",
              "      <td>3.0</td>\n",
              "      <td>4.0</td>\n",
              "      <td>7.0</td>\n",
              "      <td>21.00</td>\n",
              "      <td>63</td>\n",
              "    </tr>\n",
              "    <tr>\n",
              "      <th>1</th>\n",
              "      <td>1</td>\n",
              "      <td>1651</td>\n",
              "      <td>1.0</td>\n",
              "      <td>3.0</td>\n",
              "      <td>9.0</td>\n",
              "      <td>17.0</td>\n",
              "      <td>65.50</td>\n",
              "      <td>330</td>\n",
              "    </tr>\n",
              "    <tr>\n",
              "      <th>2</th>\n",
              "      <td>2</td>\n",
              "      <td>1276</td>\n",
              "      <td>1.0</td>\n",
              "      <td>2.0</td>\n",
              "      <td>6.0</td>\n",
              "      <td>21.5</td>\n",
              "      <td>135.00</td>\n",
              "      <td>426</td>\n",
              "    </tr>\n",
              "    <tr>\n",
              "      <th>3</th>\n",
              "      <td>3</td>\n",
              "      <td>1192</td>\n",
              "      <td>1.0</td>\n",
              "      <td>2.0</td>\n",
              "      <td>5.0</td>\n",
              "      <td>12.0</td>\n",
              "      <td>214.99</td>\n",
              "      <td>545</td>\n",
              "    </tr>\n",
              "    <tr>\n",
              "      <th>4</th>\n",
              "      <td>4</td>\n",
              "      <td>1188</td>\n",
              "      <td>1.0</td>\n",
              "      <td>2.0</td>\n",
              "      <td>5.0</td>\n",
              "      <td>11.0</td>\n",
              "      <td>225.78</td>\n",
              "      <td>545</td>\n",
              "    </tr>\n",
              "  </tbody>\n",
              "</table>\n",
              "</div>\n",
              "    <div class=\"colab-df-buttons\">\n",
              "\n",
              "  <div class=\"colab-df-container\">\n",
              "    <button class=\"colab-df-convert\" onclick=\"convertToInteractive('df-fdae6006-13f6-423e-9c44-d4142dd1f82a')\"\n",
              "            title=\"Convert this dataframe to an interactive table.\"\n",
              "            style=\"display:none;\">\n",
              "\n",
              "  <svg xmlns=\"http://www.w3.org/2000/svg\" height=\"24px\" viewBox=\"0 -960 960 960\">\n",
              "    <path d=\"M120-120v-720h720v720H120Zm60-500h600v-160H180v160Zm220 220h160v-160H400v160Zm0 220h160v-160H400v160ZM180-400h160v-160H180v160Zm440 0h160v-160H620v160ZM180-180h160v-160H180v160Zm440 0h160v-160H620v160Z\"/>\n",
              "  </svg>\n",
              "    </button>\n",
              "\n",
              "  <style>\n",
              "    .colab-df-container {\n",
              "      display:flex;\n",
              "      gap: 12px;\n",
              "    }\n",
              "\n",
              "    .colab-df-convert {\n",
              "      background-color: #E8F0FE;\n",
              "      border: none;\n",
              "      border-radius: 50%;\n",
              "      cursor: pointer;\n",
              "      display: none;\n",
              "      fill: #1967D2;\n",
              "      height: 32px;\n",
              "      padding: 0 0 0 0;\n",
              "      width: 32px;\n",
              "    }\n",
              "\n",
              "    .colab-df-convert:hover {\n",
              "      background-color: #E2EBFA;\n",
              "      box-shadow: 0px 1px 2px rgba(60, 64, 67, 0.3), 0px 1px 3px 1px rgba(60, 64, 67, 0.15);\n",
              "      fill: #174EA6;\n",
              "    }\n",
              "\n",
              "    .colab-df-buttons div {\n",
              "      margin-bottom: 4px;\n",
              "    }\n",
              "\n",
              "    [theme=dark] .colab-df-convert {\n",
              "      background-color: #3B4455;\n",
              "      fill: #D2E3FC;\n",
              "    }\n",
              "\n",
              "    [theme=dark] .colab-df-convert:hover {\n",
              "      background-color: #434B5C;\n",
              "      box-shadow: 0px 1px 3px 1px rgba(0, 0, 0, 0.15);\n",
              "      filter: drop-shadow(0px 1px 2px rgba(0, 0, 0, 0.3));\n",
              "      fill: #FFFFFF;\n",
              "    }\n",
              "  </style>\n",
              "\n",
              "    <script>\n",
              "      const buttonEl =\n",
              "        document.querySelector('#df-fdae6006-13f6-423e-9c44-d4142dd1f82a button.colab-df-convert');\n",
              "      buttonEl.style.display =\n",
              "        google.colab.kernel.accessAllowed ? 'block' : 'none';\n",
              "\n",
              "      async function convertToInteractive(key) {\n",
              "        const element = document.querySelector('#df-fdae6006-13f6-423e-9c44-d4142dd1f82a');\n",
              "        const dataTable =\n",
              "          await google.colab.kernel.invokeFunction('convertToInteractive',\n",
              "                                                    [key], {});\n",
              "        if (!dataTable) return;\n",
              "\n",
              "        const docLinkHtml = 'Like what you see? Visit the ' +\n",
              "          '<a target=\"_blank\" href=https://colab.research.google.com/notebooks/data_table.ipynb>data table notebook</a>'\n",
              "          + ' to learn more about interactive tables.';\n",
              "        element.innerHTML = '';\n",
              "        dataTable['output_type'] = 'display_data';\n",
              "        await google.colab.output.renderOutput(dataTable, element);\n",
              "        const docLink = document.createElement('div');\n",
              "        docLink.innerHTML = docLinkHtml;\n",
              "        element.appendChild(docLink);\n",
              "      }\n",
              "    </script>\n",
              "  </div>\n",
              "\n",
              "\n",
              "<div id=\"df-259ee9c7-3323-4c05-b1bb-7b03327e0434\">\n",
              "  <button class=\"colab-df-quickchart\" onclick=\"quickchart('df-259ee9c7-3323-4c05-b1bb-7b03327e0434')\"\n",
              "            title=\"Suggest charts\"\n",
              "            style=\"display:none;\">\n",
              "\n",
              "<svg xmlns=\"http://www.w3.org/2000/svg\" height=\"24px\"viewBox=\"0 0 24 24\"\n",
              "     width=\"24px\">\n",
              "    <g>\n",
              "        <path d=\"M19 3H5c-1.1 0-2 .9-2 2v14c0 1.1.9 2 2 2h14c1.1 0 2-.9 2-2V5c0-1.1-.9-2-2-2zM9 17H7v-7h2v7zm4 0h-2V7h2v10zm4 0h-2v-4h2v4z\"/>\n",
              "    </g>\n",
              "</svg>\n",
              "  </button>\n",
              "\n",
              "<style>\n",
              "  .colab-df-quickchart {\n",
              "      --bg-color: #E8F0FE;\n",
              "      --fill-color: #1967D2;\n",
              "      --hover-bg-color: #E2EBFA;\n",
              "      --hover-fill-color: #174EA6;\n",
              "      --disabled-fill-color: #AAA;\n",
              "      --disabled-bg-color: #DDD;\n",
              "  }\n",
              "\n",
              "  [theme=dark] .colab-df-quickchart {\n",
              "      --bg-color: #3B4455;\n",
              "      --fill-color: #D2E3FC;\n",
              "      --hover-bg-color: #434B5C;\n",
              "      --hover-fill-color: #FFFFFF;\n",
              "      --disabled-bg-color: #3B4455;\n",
              "      --disabled-fill-color: #666;\n",
              "  }\n",
              "\n",
              "  .colab-df-quickchart {\n",
              "    background-color: var(--bg-color);\n",
              "    border: none;\n",
              "    border-radius: 50%;\n",
              "    cursor: pointer;\n",
              "    display: none;\n",
              "    fill: var(--fill-color);\n",
              "    height: 32px;\n",
              "    padding: 0;\n",
              "    width: 32px;\n",
              "  }\n",
              "\n",
              "  .colab-df-quickchart:hover {\n",
              "    background-color: var(--hover-bg-color);\n",
              "    box-shadow: 0 1px 2px rgba(60, 64, 67, 0.3), 0 1px 3px 1px rgba(60, 64, 67, 0.15);\n",
              "    fill: var(--button-hover-fill-color);\n",
              "  }\n",
              "\n",
              "  .colab-df-quickchart-complete:disabled,\n",
              "  .colab-df-quickchart-complete:disabled:hover {\n",
              "    background-color: var(--disabled-bg-color);\n",
              "    fill: var(--disabled-fill-color);\n",
              "    box-shadow: none;\n",
              "  }\n",
              "\n",
              "  .colab-df-spinner {\n",
              "    border: 2px solid var(--fill-color);\n",
              "    border-color: transparent;\n",
              "    border-bottom-color: var(--fill-color);\n",
              "    animation:\n",
              "      spin 1s steps(1) infinite;\n",
              "  }\n",
              "\n",
              "  @keyframes spin {\n",
              "    0% {\n",
              "      border-color: transparent;\n",
              "      border-bottom-color: var(--fill-color);\n",
              "      border-left-color: var(--fill-color);\n",
              "    }\n",
              "    20% {\n",
              "      border-color: transparent;\n",
              "      border-left-color: var(--fill-color);\n",
              "      border-top-color: var(--fill-color);\n",
              "    }\n",
              "    30% {\n",
              "      border-color: transparent;\n",
              "      border-left-color: var(--fill-color);\n",
              "      border-top-color: var(--fill-color);\n",
              "      border-right-color: var(--fill-color);\n",
              "    }\n",
              "    40% {\n",
              "      border-color: transparent;\n",
              "      border-right-color: var(--fill-color);\n",
              "      border-top-color: var(--fill-color);\n",
              "    }\n",
              "    60% {\n",
              "      border-color: transparent;\n",
              "      border-right-color: var(--fill-color);\n",
              "    }\n",
              "    80% {\n",
              "      border-color: transparent;\n",
              "      border-right-color: var(--fill-color);\n",
              "      border-bottom-color: var(--fill-color);\n",
              "    }\n",
              "    90% {\n",
              "      border-color: transparent;\n",
              "      border-bottom-color: var(--fill-color);\n",
              "    }\n",
              "  }\n",
              "</style>\n",
              "\n",
              "  <script>\n",
              "    async function quickchart(key) {\n",
              "      const quickchartButtonEl =\n",
              "        document.querySelector('#' + key + ' button');\n",
              "      quickchartButtonEl.disabled = true;  // To prevent multiple clicks.\n",
              "      quickchartButtonEl.classList.add('colab-df-spinner');\n",
              "      try {\n",
              "        const charts = await google.colab.kernel.invokeFunction(\n",
              "            'suggestCharts', [key], {});\n",
              "      } catch (error) {\n",
              "        console.error('Error during call to suggestCharts:', error);\n",
              "      }\n",
              "      quickchartButtonEl.classList.remove('colab-df-spinner');\n",
              "      quickchartButtonEl.classList.add('colab-df-quickchart-complete');\n",
              "    }\n",
              "    (() => {\n",
              "      let quickchartButtonEl =\n",
              "        document.querySelector('#df-259ee9c7-3323-4c05-b1bb-7b03327e0434 button');\n",
              "      quickchartButtonEl.style.display =\n",
              "        google.colab.kernel.accessAllowed ? 'block' : 'none';\n",
              "    })();\n",
              "  </script>\n",
              "</div>\n",
              "\n",
              "  <div id=\"id_50d38427-f3d8-421f-a8da-afea27757851\">\n",
              "    <style>\n",
              "      .colab-df-generate {\n",
              "        background-color: #E8F0FE;\n",
              "        border: none;\n",
              "        border-radius: 50%;\n",
              "        cursor: pointer;\n",
              "        display: none;\n",
              "        fill: #1967D2;\n",
              "        height: 32px;\n",
              "        padding: 0 0 0 0;\n",
              "        width: 32px;\n",
              "      }\n",
              "\n",
              "      .colab-df-generate:hover {\n",
              "        background-color: #E2EBFA;\n",
              "        box-shadow: 0px 1px 2px rgba(60, 64, 67, 0.3), 0px 1px 3px 1px rgba(60, 64, 67, 0.15);\n",
              "        fill: #174EA6;\n",
              "      }\n",
              "\n",
              "      [theme=dark] .colab-df-generate {\n",
              "        background-color: #3B4455;\n",
              "        fill: #D2E3FC;\n",
              "      }\n",
              "\n",
              "      [theme=dark] .colab-df-generate:hover {\n",
              "        background-color: #434B5C;\n",
              "        box-shadow: 0px 1px 3px 1px rgba(0, 0, 0, 0.15);\n",
              "        filter: drop-shadow(0px 1px 2px rgba(0, 0, 0, 0.3));\n",
              "        fill: #FFFFFF;\n",
              "      }\n",
              "    </style>\n",
              "    <button class=\"colab-df-generate\" onclick=\"generateWithVariable('percentiles_df')\"\n",
              "            title=\"Generate code using this dataframe.\"\n",
              "            style=\"display:none;\">\n",
              "\n",
              "  <svg xmlns=\"http://www.w3.org/2000/svg\" height=\"24px\"viewBox=\"0 0 24 24\"\n",
              "       width=\"24px\">\n",
              "    <path d=\"M7,19H8.4L18.45,9,17,7.55,7,17.6ZM5,21V16.75L18.45,3.32a2,2,0,0,1,2.83,0l1.4,1.43a1.91,1.91,0,0,1,.58,1.4,1.91,1.91,0,0,1-.58,1.4L9.25,21ZM18.45,9,17,7.55Zm-12,3A5.31,5.31,0,0,0,4.9,8.1,5.31,5.31,0,0,0,1,6.5,5.31,5.31,0,0,0,4.9,4.9,5.31,5.31,0,0,0,6.5,1,5.31,5.31,0,0,0,8.1,4.9,5.31,5.31,0,0,0,12,6.5,5.46,5.46,0,0,0,6.5,12Z\"/>\n",
              "  </svg>\n",
              "    </button>\n",
              "    <script>\n",
              "      (() => {\n",
              "      const buttonEl =\n",
              "        document.querySelector('#id_50d38427-f3d8-421f-a8da-afea27757851 button.colab-df-generate');\n",
              "      buttonEl.style.display =\n",
              "        google.colab.kernel.accessAllowed ? 'block' : 'none';\n",
              "\n",
              "      buttonEl.onclick = () => {\n",
              "        google.colab.notebook.generateWithVariable('percentiles_df');\n",
              "      }\n",
              "      })();\n",
              "    </script>\n",
              "  </div>\n",
              "\n",
              "    </div>\n",
              "  </div>\n"
            ],
            "text/plain": [
              "  Level  Number of communities  25th Percentile  50th Percentile  \\\n",
              "0     0                   3283              2.0              3.0   \n",
              "1     1                   1651              1.0              3.0   \n",
              "2     2                   1276              1.0              2.0   \n",
              "3     3                   1192              1.0              2.0   \n",
              "4     4                   1188              1.0              2.0   \n",
              "\n",
              "   75th Percentile  90th Percentile  99th Percentile  Max  \n",
              "0              4.0              7.0            21.00   63  \n",
              "1              9.0             17.0            65.50  330  \n",
              "2              6.0             21.5           135.00  426  \n",
              "3              5.0             12.0           214.99  545  \n",
              "4              5.0             11.0           225.78  545  "
            ]
          },
          "execution_count": 75,
          "metadata": {},
          "output_type": "execute_result"
        }
      ],
      "source": [
        "community_size = graph.query(\n",
        "    \"\"\"\n",
        "MATCH (c:__Community__)<-[:IN_COMMUNITY*]-(e:__Entity__)\n",
        "WITH c, count(distinct e) AS entities\n",
        "RETURN split(c.id, '-')[0] AS level, entities\n",
        "\"\"\"\n",
        ")\n",
        "community_size_df = pd.DataFrame.from_records(community_size)\n",
        "percentiles_data = []\n",
        "for level in community_size_df[\"level\"].unique():\n",
        "    subset = community_size_df[community_size_df[\"level\"] == level][\"entities\"]\n",
        "    num_communities = len(subset)\n",
        "    percentiles = np.percentile(subset, [25, 50, 75, 90, 99])\n",
        "    percentiles_data.append(\n",
        "        [\n",
        "            level,\n",
        "            num_communities,\n",
        "            percentiles[0],\n",
        "            percentiles[1],\n",
        "            percentiles[2],\n",
        "            percentiles[3],\n",
        "            percentiles[4],\n",
        "            max(subset)\n",
        "        ]\n",
        "    )\n",
        "\n",
        "# Create a DataFrame with the percentiles\n",
        "percentiles_df = pd.DataFrame(\n",
        "    percentiles_data,\n",
        "    columns=[\n",
        "        \"Level\",\n",
        "        \"Number of communities\",\n",
        "        \"25th Percentile\",\n",
        "        \"50th Percentile\",\n",
        "        \"75th Percentile\",\n",
        "        \"90th Percentile\",\n",
        "        \"99th Percentile\",\n",
        "        \"Max\"\n",
        "    ],\n",
        ")\n",
        "percentiles_df\n"
      ]
    },
    {
      "cell_type": "markdown",
      "metadata": {
        "id": "FLE47rf9iYIh"
      },
      "source": [
        "In the original implementation, communities on every level were summarized. In our case, that would be 8,590 communities and, consequently, 8,590 LLM calls. I would argue that depending on the hierarchical community structure, not every level needs to be summarized. For example, the difference between the last and the next-to-last level is only four communities (1,192 vs. 1,188). Therefore, we would be creating a lot of redundant summaries. One solution is to create an implementation that can make a single summary for communities on different levels that don’t change; another one would be to collapse community hierarchies that don’t change.\n",
        "\n",
        "Also, I am unsure if we want to summarize communities with only one member, as they might not provide much value or information. Here, we will summarize communities on levels 0, 1, and 4. First, we need to retrieve their information from the database:"
      ]
    },
    {
      "cell_type": "code",
      "execution_count": null,
      "metadata": {
        "id": "A4NuLhY0mm3B"
      },
      "outputs": [],
      "source": [
        "community_info = graph.query(\"\"\"\n",
        "MATCH (c:`__Community__`)<-[:IN_COMMUNITY*]-(e:__Entity__)\n",
        "WHERE c.level IN [0,1,4]\n",
        "WITH c, collect(e ) AS nodes\n",
        "WHERE size(nodes) > 1\n",
        "CALL apoc.path.subgraphAll(nodes[0], {\n",
        "\twhitelistNodes:nodes\n",
        "})\n",
        "YIELD relationships\n",
        "RETURN c.id AS communityId,\n",
        "       [n in nodes | {id: n.id, description: n.description, type: [el in labels(n) WHERE el <> '__Entity__'][0]}] AS nodes,\n",
        "       [r in relationships | {start: startNode(r).id, type: type(r), end: endNode(r).id, description: r.description}] AS rels\n",
        "\"\"\")"
      ]
    },
    {
      "cell_type": "code",
      "execution_count": null,
      "metadata": {
        "colab": {
          "base_uri": "https://localhost:8080/"
        },
        "id": "Ur4JkHkLe3_i",
        "outputId": "90445e3d-b3bc-4d54-d9b4-b96e8a568657"
      },
      "outputs": [
        {
          "data": {
            "text/plain": [
              "{'communityId': '0-6014',\n",
              " 'nodes': [{'id': 'Darrell Hughes', 'description': None, 'type': 'Person'},\n",
              "  {'id': 'Chief Pilot', 'description': None, 'type': 'Person'},\n",
              "  {'id': 'The Financial Times', 'description': None, 'type': 'Organization'},\n",
              "  {'id': 'The Independent', 'description': None, 'type': 'Organization'},\n",
              "  {'id': 'The Bbc', 'description': None, 'type': 'Organization'},\n",
              "  {'id': 'Nine Junior Female Pilots', 'description': None, 'type': 'Person'},\n",
              "  {'id': 'Ryanair Dac', 'description': None, 'type': 'Organization'},\n",
              "  {'id': 'Irish Aviation Authority',\n",
              "   'description': None,\n",
              "   'type': 'Organization'},\n",
              "  {'id': 'Irish Airline Pilots’ Association',\n",
              "   'description': None,\n",
              "   'type': 'Organization'},\n",
              "  {'id': 'Aidan Murray', 'description': None, 'type': 'Person'}],\n",
              " 'rels': [{'start': 'Ryanair Dac',\n",
              "   'description': 'Informed of the change in chief pilot',\n",
              "   'type': 'INFORMED',\n",
              "   'end': 'Irish Aviation Authority'},\n",
              "  {'start': 'Ryanair Dac',\n",
              "   'description': 'Dismissed after internal investigation found unacceptable behaviour',\n",
              "   'type': 'DISMISSED',\n",
              "   'end': 'Aidan Murray'},\n",
              "  {'start': 'Ryanair Dac',\n",
              "   'description': 'Worked with the airline since the mid-1990s, appointed chief pilot in 2020',\n",
              "   'type': 'EMPLOYED',\n",
              "   'end': 'Aidan Murray'},\n",
              "  {'start': 'Ryanair Dac',\n",
              "   'description': 'Chief people officer',\n",
              "   'type': 'EMPLOYS',\n",
              "   'end': 'Darrell Hughes'},\n",
              "  {'start': 'Aidan Murray',\n",
              "   'description': None,\n",
              "   'type': 'HARASSED',\n",
              "   'end': 'Nine Junior Female Pilots'},\n",
              "  {'start': 'Aidan Murray',\n",
              "   'description': None,\n",
              "   'type': 'HELD',\n",
              "   'end': 'Chief Pilot'},\n",
              "  {'start': 'Aidan Murray',\n",
              "   'description': 'Attempted to contact Mr. Murray for comment',\n",
              "   'type': 'CONTACTED_BY',\n",
              "   'end': 'The Bbc'},\n",
              "  {'start': 'Aidan Murray',\n",
              "   'description': 'Reported that Mr. Murray has seven days to appeal against dismissal',\n",
              "   'type': 'REPORTED_BY',\n",
              "   'end': 'The Financial Times'},\n",
              "  {'start': 'Aidan Murray',\n",
              "   'description': 'Reported harassment of nine junior colleagues',\n",
              "   'type': 'REPORTED_BY',\n",
              "   'end': 'The Independent'},\n",
              "  {'start': 'Aidan Murray',\n",
              "   'description': 'Reported termination to staff',\n",
              "   'type': 'REPORTED_BY',\n",
              "   'end': 'Darrell Hughes'},\n",
              "  {'start': 'Irish Airline Pilots’ Association',\n",
              "   'description': 'Communicating with members in the airline concerning reports about the chief pilot',\n",
              "   'type': 'COMMUNICATES',\n",
              "   'end': 'Ryanair Dac'}]}"
            ]
          },
          "execution_count": 10,
          "metadata": {},
          "output_type": "execute_result"
        }
      ],
      "source": [
        "community_info[5]"
      ]
    },
    {
      "cell_type": "markdown",
      "metadata": {
        "id": "T_ybgPpwieQk"
      },
      "source": [
        "Now, we need to prepare an LLM prompt that generates a natural language summarization based on the information provided by the elements of our community. We can take some inspiration from the [prompt the researchers used](https://github.com/microsoft/graphrag/blob/main/graphrag/prompt_tune/template/community_report_summarization.py).\n",
        "\n",
        "The authors not only summarized communities but also generated findings for each of them. A finding can be defined as concise information regarding a specific event or piece of information. One such example:\n",
        "```\n",
        "\"summary\": \"Abila City Park as the central location\",\n",
        "\"explanation\": \"Abila City Park is the central entity in this community, serving as the location for the POK rally. This park is the common link between all other\n",
        "entities, suggesting its significance in the community. The park's association with the rally could potentially lead to issues such as public disorder or conflict, depending on the\n",
        "nature of the rally and the reactions it provokes. [records: Entities (5), Relationships (37, 38, 39, 40)]\"\n",
        "```\n",
        "My intuition suggests that extracting findings with just a single pass might not be as comprehensive as we need, much like extracting entities and relationships.\n",
        "\n",
        "Furthermore, I have not found any references or examples of their use in their code in either local or global search retrievers. As a result, we’ll refrain from extracting findings in this instance. Or, as academics often put it: This exercise is left to the reader. Additionally, we have also skipped the claims or covariate information extraction, which looks similar to findings at first glance.\n",
        "\n",
        "The prompt we’ll use to produce the community summaries is fairly straightforward:"
      ]
    },
    {
      "cell_type": "code",
      "execution_count": null,
      "metadata": {
        "id": "Tnc8aqN_e5M7"
      },
      "outputs": [],
      "source": [
        "from langchain_core.prompts import ChatPromptTemplate\n",
        "from langchain_core.output_parsers import StrOutputParser\n",
        "\n",
        "community_template = \"\"\"Based on the provided nodes and relationships that belong to the same graph community,\n",
        "generate a natural language summary of the provided information:\n",
        "{community_info}\n",
        "\n",
        "Summary:\"\"\"  # noqa: E501\n",
        "\n",
        "community_prompt = ChatPromptTemplate.from_messages(\n",
        "    [\n",
        "        (\n",
        "            \"system\",\n",
        "            \"Given an input triples, generate the information summary. No pre-amble.\",\n",
        "        ),\n",
        "        (\"human\", community_template),\n",
        "    ]\n",
        ")\n",
        "\n",
        "community_chain = community_prompt | llm | StrOutputParser()"
      ]
    },
    {
      "cell_type": "markdown",
      "metadata": {
        "id": "S6PdeC7WisWp"
      },
      "source": [
        "The only thing left is to turn community representations into strings to reduce the number of tokens by avoiding JSON token overhead and wrap the chain as a function:"
      ]
    },
    {
      "cell_type": "code",
      "execution_count": null,
      "metadata": {
        "id": "KdcKulkxVsXc"
      },
      "outputs": [],
      "source": [
        "def prepare_string(data):\n",
        "    nodes_str = \"Nodes are:\\n\"\n",
        "    for node in data['nodes']:\n",
        "        node_id = node['id']\n",
        "        node_type = node['type']\n",
        "        if 'description' in node and node['description']:\n",
        "            node_description = f\", description: {node['description']}\"\n",
        "        else:\n",
        "            node_description = \"\"\n",
        "        nodes_str += f\"id: {node_id}, type: {node_type}{node_description}\\n\"\n",
        "\n",
        "    rels_str = \"Relationships are:\\n\"\n",
        "    for rel in data['rels']:\n",
        "        start = rel['start']\n",
        "        end = rel['end']\n",
        "        rel_type = rel['type']\n",
        "        if 'description' in rel and rel['description']:\n",
        "            description = f\", description: {rel['description']}\"\n",
        "        else:\n",
        "            description = \"\"\n",
        "        rels_str += f\"({start})-[:{rel_type}]->({end}){description}\\n\"\n",
        "\n",
        "    return nodes_str + \"\\n\" + rels_str\n",
        "\n",
        "def process_community(community):\n",
        "    stringify_info = prepare_string(community)\n",
        "    summary = community_chain.invoke({'community_info': stringify_info})\n",
        "    return {\"community\": community['communityId'], \"summary\": summary}"
      ]
    },
    {
      "cell_type": "code",
      "execution_count": null,
      "metadata": {
        "colab": {
          "base_uri": "https://localhost:8080/"
        },
        "id": "F4RC8ydEWB0N",
        "outputId": "aa698b81-98d6-4c63-af9f-dddde30a4e83"
      },
      "outputs": [
        {
          "name": "stdout",
          "output_type": "stream",
          "text": [
            "Nodes are:\n",
            "id: Ford, type: Organization, description: Ford (F) has partnered with Tesla's EV charging system.\n",
            "id: Mondeo, type: Car, description: a car model by Ford\n",
            "id: Focus St, type: Car, description: a performance variant of the Focus\n",
            "id: Full Self Driving, type: Technology, description: Driver-assist technology by Tesla\n",
            "id: Swamy Kotagiri, type: Person, description: Chief executive officer of Magna International Inc\n",
            "id: Jonathan Gesek, type: Person, description: program aerodynamicist for Mustang and Bronco\n",
            "id: Frank Stronach, type: Person, description: Founder of Magna International Inc\n",
            "id: Focus, type: Car, description: a car model by Ford\n",
            "id: Magna International Inc, type: Organization, description: Canadian parts manufacturer for automakers, one of the largest companies in Canada, recognized on the 2020 Forbes Global 2000, largest automobile parts manufacturer in North America by sales of original equipment parts, consistently ranked in the Fortune Global 500 list for 20 years in a row since 2001, headquartered in Aurora, Ontario, governed under a corporate constitution calling for distribution of profits to employees and shareholders\n",
            "id: Escort Xr3I, type: Car, description: a car model by Ford\n",
            "id: Fiesta, type: Car, description: a car model by Ford\n",
            "id: Us Administration, type: Organization\n",
            "id: Kit Norton, type: Person, description: Reporter covering Tesla, follow on Twitter @KitNorton.\n",
            "id: Recent Gains, type: None\n",
            "id: John Toth, type: Person, description: Ford’s wind tunnel engineering supervisory for North America\n",
            "id: Tesla, type: Organization, description: EV competitor\n",
            "\n",
            "Relationships are:\n",
            "(Ford)-[:PARTNERED_WITH]->(Tesla), description: Ford partnered with Tesla's EV charging system.\n",
            "(Ford)-[:MANUFACTURES]->(Fiesta)\n",
            "(Ford)-[:MANUFACTURES]->(Escort Xr3I)\n",
            "(Ford)-[:MANUFACTURES]->(Focus)\n",
            "(Ford)-[:MANUFACTURES]->(Mondeo)\n",
            "(Ford)-[:MANUFACTURES]->(Focus St)\n",
            "(Ford)-[:EMPLOYS]->(Jonathan Gesek)\n",
            "(Ford)-[:EMPLOYS]->(John Toth)\n",
            "(Ford)-[:PARTNERSHIP]->(Tesla), description: Ford announced a similar collaboration with Tesla\n",
            "(Tesla)-[:DEVELOPED]->(Full Self Driving), description: Driver-assist technology\n",
            "(Tesla)-[:STOCK_MOVEMENT]->(Tesla), description: Shares in the electric-car company dropped more than 3% premarket. Tesla stock snapped a long winning streak in regular-hours trading Wednesday.\n",
            "(Tesla)-[:DEAL]->(Ford), description: Deal to allow Ford access to Tesla's supercharger network.\n",
            "(Tesla)-[:UNWOUND]->(Recent Gains), description: Unwound some of its recent gains\n",
            "(Magna International Inc)-[:SUPPLIER]->(Tesla)\n",
            "(Magna International Inc)-[:FOUNDER]->(Frank Stronach)\n",
            "(Magna International Inc)-[:SUPPLIER]->(Ford)\n",
            "(Magna International Inc)-[:CEO]->(Swamy Kotagiri)\n",
            "(Us Administration)-[:COLLABORATION]->(Tesla), description: Tesla has committed to opening up 7,500 of its charging stations to non-Tesla vehicles by the end of 2024\n",
            "(Kit Norton)-[:COVERS]->(Tesla), description: Kit Norton covers Tesla.\n",
            "\n"
          ]
        }
      ],
      "source": [
        "print(prepare_string(community_info[3]))"
      ]
    },
    {
      "cell_type": "markdown",
      "metadata": {
        "id": "uNnO_edyiwa0"
      },
      "source": [
        "Now we can generate community summaries for the selected levels. Again, we parallelize calls for faster execution:"
      ]
    },
    {
      "cell_type": "code",
      "execution_count": null,
      "metadata": {
        "colab": {
          "base_uri": "https://localhost:8080/"
        },
        "id": "5IERhJ3jgWtk",
        "outputId": "ec085ca8-8e1a-4445-8e57-5018105941e2"
      },
      "outputs": [
        {
          "name": "stderr",
          "output_type": "stream",
          "text": [
            "Processing communities: 100%|██████████| 4651/4651 [30:35<00:00,  2.53it/s]\n"
          ]
        }
      ],
      "source": [
        "summaries = []\n",
        "with ThreadPoolExecutor() as executor:\n",
        "    futures = {executor.submit(process_community, community): community for community in community_info}\n",
        "\n",
        "    for future in tqdm(as_completed(futures), total=len(futures), desc=\"Processing communities\"):\n",
        "        summaries.append(future.result())"
      ]
    },
    {
      "cell_type": "markdown",
      "metadata": {
        "id": "sk2DEFEFi2ry"
      },
      "source": [
        "One aspect I didn’t mention is that the authors also address the potential issue of exceeding context size when inputting community information. As graphs expand, the communities can grow significantly as well. In our case, the largest community comprised 545 members. Given that GPT-4o has a context size exceeding 100,000 tokens, we decided to skip this step.\n",
        "\n",
        "As our final step, we will store the community summaries back to the database:"
      ]
    },
    {
      "cell_type": "code",
      "execution_count": null,
      "metadata": {
        "colab": {
          "base_uri": "https://localhost:8080/"
        },
        "id": "mKymAMJehSkw",
        "outputId": "857a4cee-1222-499c-9842-6e01a0e592e0"
      },
      "outputs": [
        {
          "data": {
            "text/plain": [
              "[]"
            ]
          },
          "execution_count": 21,
          "metadata": {},
          "output_type": "execute_result"
        }
      ],
      "source": [
        "# Store summaries\n",
        "graph.query(\"\"\"\n",
        "UNWIND $data AS row\n",
        "MERGE (c:__Community__ {id:row.community})\n",
        "SET c.summary = row.summary\n",
        "\"\"\", params={\"data\": summaries})"
      ]
    },
    {
      "cell_type": "markdown",
      "metadata": {
        "id": "xLX6Wrqai-sD"
      },
      "source": [
        "The final graph structure:\n",
        "\n",
        "![title](https://miro.medium.com/v2/resize:fit:1400/format:webp/1*rkgiVH20AuG1X-rMzTipXQ.png)\n",
        "\n",
        "The graph now contains the original documents, extracted entities and relationships, as well as hierarchical community structure and summaries.\n",
        "\n",
        "Summary\n",
        "The authors of the “From Local to Global” paper have done a great job in demonstrating a new approach to GraphRAG. They show how we can combine and summarize information from various documents into a hierarchical knowledge graph structure.\n",
        "\n",
        "One thing that isn’t explicitly mentioned is that we can also integrate structured data sources in a graph; the input doesn’t have to be limited to unstructured text only.\n",
        "\n",
        "What I particularly appreciate about their extraction approach is that they capture descriptions for both nodes and relationships. Descriptions allow the LLM to retain more information than reducing everything to just node IDs and relationship types.\n",
        "\n",
        "Additionally, they demonstrate that a single extraction pass over the text might not capture all relevant information and introduce logic to perform multiple passes if necessary. The authors also present an interesting idea for performing summarizations over graph communities, allowing us to embed and index condensed topical information across multiple data sources.\n",
        "\n",
        "In the next blog post, we will go over the local and global search retriever implementations and talk about other approaches we could implement based on the given graph structure."
      ]
    },
    {
      "cell_type": "code",
      "execution_count": null,
      "metadata": {
        "id": "Y30zWS6FXya6"
      },
      "outputs": [],
      "source": []
    },
    {
      "cell_type": "code",
      "execution_count": null,
      "metadata": {
        "id": "PcPPm1tJi9c6"
      },
      "outputs": [],
      "source": []
    }
  ],
  "metadata": {
    "colab": {
      "authorship_tag": "ABX9TyOgOLIEBDxiSBtGn1xLBXHD",
      "include_colab_link": true,
      "provenance": []
    },
    "kernelspec": {
      "display_name": "Python 3",
      "name": "python3"
    },
    "language_info": {
      "codemirror_mode": {
        "name": "ipython",
        "version": 3
      },
      "file_extension": ".py",
      "mimetype": "text/x-python",
      "name": "python",
      "nbconvert_exporter": "python",
      "pygments_lexer": "ipython3",
      "version": "3.11.9"
    },
    "widgets": {
      "application/vnd.jupyter.widget-state+json": {
        "06b5fd0836ec4f48ba62e44b2717279b": {
          "model_module": "@jupyter-widgets/base",
          "model_module_version": "1.2.0",
          "model_name": "LayoutModel",
          "state": {
            "_model_module": "@jupyter-widgets/base",
            "_model_module_version": "1.2.0",
            "_model_name": "LayoutModel",
            "_view_count": null,
            "_view_module": "@jupyter-widgets/base",
            "_view_module_version": "1.2.0",
            "_view_name": "LayoutView",
            "align_content": null,
            "align_items": null,
            "align_self": null,
            "border": null,
            "bottom": null,
            "display": null,
            "flex": null,
            "flex_flow": null,
            "grid_area": null,
            "grid_auto_columns": null,
            "grid_auto_flow": null,
            "grid_auto_rows": null,
            "grid_column": null,
            "grid_gap": null,
            "grid_row": null,
            "grid_template_areas": null,
            "grid_template_columns": null,
            "grid_template_rows": null,
            "height": null,
            "justify_content": null,
            "justify_items": null,
            "left": null,
            "margin": null,
            "max_height": null,
            "max_width": null,
            "min_height": null,
            "min_width": null,
            "object_fit": null,
            "object_position": null,
            "order": null,
            "overflow": null,
            "overflow_x": null,
            "overflow_y": null,
            "padding": null,
            "right": null,
            "top": null,
            "visibility": null,
            "width": null
          }
        },
        "290b8c08c2b648889c5ac98e59efbb70": {
          "model_module": "@jupyter-widgets/base",
          "model_module_version": "1.2.0",
          "model_name": "LayoutModel",
          "state": {
            "_model_module": "@jupyter-widgets/base",
            "_model_module_version": "1.2.0",
            "_model_name": "LayoutModel",
            "_view_count": null,
            "_view_module": "@jupyter-widgets/base",
            "_view_module_version": "1.2.0",
            "_view_name": "LayoutView",
            "align_content": null,
            "align_items": null,
            "align_self": null,
            "border": null,
            "bottom": null,
            "display": null,
            "flex": null,
            "flex_flow": null,
            "grid_area": null,
            "grid_auto_columns": null,
            "grid_auto_flow": null,
            "grid_auto_rows": null,
            "grid_column": null,
            "grid_gap": null,
            "grid_row": null,
            "grid_template_areas": null,
            "grid_template_columns": null,
            "grid_template_rows": null,
            "height": null,
            "justify_content": null,
            "justify_items": null,
            "left": null,
            "margin": null,
            "max_height": null,
            "max_width": null,
            "min_height": null,
            "min_width": null,
            "object_fit": null,
            "object_position": null,
            "order": null,
            "overflow": null,
            "overflow_x": null,
            "overflow_y": null,
            "padding": null,
            "right": null,
            "top": null,
            "visibility": null,
            "width": null
          }
        },
        "37adfa0460674f18b40c32e7d412ad98": {
          "model_module": "@jupyter-widgets/controls",
          "model_module_version": "1.5.0",
          "model_name": "DescriptionStyleModel",
          "state": {
            "_model_module": "@jupyter-widgets/controls",
            "_model_module_version": "1.5.0",
            "_model_name": "DescriptionStyleModel",
            "_view_count": null,
            "_view_module": "@jupyter-widgets/base",
            "_view_module_version": "1.2.0",
            "_view_name": "StyleView",
            "description_width": ""
          }
        },
        "3882f5d9054d48cda5b5e2009ad7a9b6": {
          "model_module": "@jupyter-widgets/controls",
          "model_module_version": "1.5.0",
          "model_name": "HBoxModel",
          "state": {
            "_dom_classes": [],
            "_model_module": "@jupyter-widgets/controls",
            "_model_module_version": "1.5.0",
            "_model_name": "HBoxModel",
            "_view_count": null,
            "_view_module": "@jupyter-widgets/controls",
            "_view_module_version": "1.5.0",
            "_view_name": "HBoxView",
            "box_style": "",
            "children": [
              "IPY_MODEL_eb7841f10d1948389920a24690ef421b",
              "IPY_MODEL_71885f8fda5246fc8e6c5e3797679158",
              "IPY_MODEL_c285ed227c16418ba6a0c48b353d72ee"
            ],
            "layout": "IPY_MODEL_8316bd062e1f45118452ee31be1dc195"
          }
        },
        "388614f2882a449fb87e9453b2a7f527": {
          "model_module": "@jupyter-widgets/controls",
          "model_module_version": "1.5.0",
          "model_name": "DescriptionStyleModel",
          "state": {
            "_model_module": "@jupyter-widgets/controls",
            "_model_module_version": "1.5.0",
            "_model_name": "DescriptionStyleModel",
            "_view_count": null,
            "_view_module": "@jupyter-widgets/base",
            "_view_module_version": "1.2.0",
            "_view_name": "StyleView",
            "description_width": ""
          }
        },
        "3d221ca56d12435abfc8f0468f143e7d": {
          "model_module": "@jupyter-widgets/base",
          "model_module_version": "1.2.0",
          "model_name": "LayoutModel",
          "state": {
            "_model_module": "@jupyter-widgets/base",
            "_model_module_version": "1.2.0",
            "_model_name": "LayoutModel",
            "_view_count": null,
            "_view_module": "@jupyter-widgets/base",
            "_view_module_version": "1.2.0",
            "_view_name": "LayoutView",
            "align_content": null,
            "align_items": null,
            "align_self": null,
            "border": null,
            "bottom": null,
            "display": null,
            "flex": null,
            "flex_flow": null,
            "grid_area": null,
            "grid_auto_columns": null,
            "grid_auto_flow": null,
            "grid_auto_rows": null,
            "grid_column": null,
            "grid_gap": null,
            "grid_row": null,
            "grid_template_areas": null,
            "grid_template_columns": null,
            "grid_template_rows": null,
            "height": null,
            "justify_content": null,
            "justify_items": null,
            "left": null,
            "margin": null,
            "max_height": null,
            "max_width": null,
            "min_height": null,
            "min_width": null,
            "object_fit": null,
            "object_position": null,
            "order": null,
            "overflow": null,
            "overflow_x": null,
            "overflow_y": null,
            "padding": null,
            "right": null,
            "top": null,
            "visibility": null,
            "width": null
          }
        },
        "47751790b8d94346bf786df2fcaf16b5": {
          "model_module": "@jupyter-widgets/controls",
          "model_module_version": "1.5.0",
          "model_name": "DescriptionStyleModel",
          "state": {
            "_model_module": "@jupyter-widgets/controls",
            "_model_module_version": "1.5.0",
            "_model_name": "DescriptionStyleModel",
            "_view_count": null,
            "_view_module": "@jupyter-widgets/base",
            "_view_module_version": "1.2.0",
            "_view_name": "StyleView",
            "description_width": ""
          }
        },
        "49dde26b14ac4aa2aa54651453009aeb": {
          "model_module": "@jupyter-widgets/controls",
          "model_module_version": "1.5.0",
          "model_name": "DescriptionStyleModel",
          "state": {
            "_model_module": "@jupyter-widgets/controls",
            "_model_module_version": "1.5.0",
            "_model_name": "DescriptionStyleModel",
            "_view_count": null,
            "_view_module": "@jupyter-widgets/base",
            "_view_module_version": "1.2.0",
            "_view_name": "StyleView",
            "description_width": ""
          }
        },
        "55ecc81af9c44546b8a8140a821003ac": {
          "model_module": "@jupyter-widgets/controls",
          "model_module_version": "1.5.0",
          "model_name": "FloatProgressModel",
          "state": {
            "_dom_classes": [],
            "_model_module": "@jupyter-widgets/controls",
            "_model_module_version": "1.5.0",
            "_model_name": "FloatProgressModel",
            "_view_count": null,
            "_view_module": "@jupyter-widgets/controls",
            "_view_module_version": "1.5.0",
            "_view_name": "ProgressView",
            "bar_style": "success",
            "description": "",
            "description_tooltip": null,
            "layout": "IPY_MODEL_aca4392d8f0640d19026ad011e047e42",
            "max": 100,
            "min": 0,
            "orientation": "horizontal",
            "style": "IPY_MODEL_76562367afe7484ab28e83d450e45785",
            "value": 100
          }
        },
        "60ed05fde48d44ac831cd72e5e249b28": {
          "model_module": "@jupyter-widgets/base",
          "model_module_version": "1.2.0",
          "model_name": "LayoutModel",
          "state": {
            "_model_module": "@jupyter-widgets/base",
            "_model_module_version": "1.2.0",
            "_model_name": "LayoutModel",
            "_view_count": null,
            "_view_module": "@jupyter-widgets/base",
            "_view_module_version": "1.2.0",
            "_view_name": "LayoutView",
            "align_content": null,
            "align_items": null,
            "align_self": null,
            "border": null,
            "bottom": null,
            "display": null,
            "flex": null,
            "flex_flow": null,
            "grid_area": null,
            "grid_auto_columns": null,
            "grid_auto_flow": null,
            "grid_auto_rows": null,
            "grid_column": null,
            "grid_gap": null,
            "grid_row": null,
            "grid_template_areas": null,
            "grid_template_columns": null,
            "grid_template_rows": null,
            "height": null,
            "justify_content": null,
            "justify_items": null,
            "left": null,
            "margin": null,
            "max_height": null,
            "max_width": null,
            "min_height": null,
            "min_width": null,
            "object_fit": null,
            "object_position": null,
            "order": null,
            "overflow": null,
            "overflow_x": null,
            "overflow_y": null,
            "padding": null,
            "right": null,
            "top": null,
            "visibility": null,
            "width": null
          }
        },
        "70e2c72d9d404f4aa8c2b764e7af7b93": {
          "model_module": "@jupyter-widgets/controls",
          "model_module_version": "1.5.0",
          "model_name": "HTMLModel",
          "state": {
            "_dom_classes": [],
            "_model_module": "@jupyter-widgets/controls",
            "_model_module_version": "1.5.0",
            "_model_name": "HTMLModel",
            "_view_count": null,
            "_view_module": "@jupyter-widgets/controls",
            "_view_module_version": "1.5.0",
            "_view_name": "HTMLView",
            "description": "",
            "description_tooltip": null,
            "layout": "IPY_MODEL_d289f0a2b44a4760ad3deb3e52bd529b",
            "placeholder": "​",
            "style": "IPY_MODEL_37adfa0460674f18b40c32e7d412ad98",
            "value": "Knn: 100%"
          }
        },
        "71885f8fda5246fc8e6c5e3797679158": {
          "model_module": "@jupyter-widgets/controls",
          "model_module_version": "1.5.0",
          "model_name": "FloatProgressModel",
          "state": {
            "_dom_classes": [],
            "_model_module": "@jupyter-widgets/controls",
            "_model_module_version": "1.5.0",
            "_model_name": "FloatProgressModel",
            "_view_count": null,
            "_view_module": "@jupyter-widgets/controls",
            "_view_module_version": "1.5.0",
            "_view_name": "ProgressView",
            "bar_style": "success",
            "description": "",
            "description_tooltip": null,
            "layout": "IPY_MODEL_06b5fd0836ec4f48ba62e44b2717279b",
            "max": 100,
            "min": 0,
            "orientation": "horizontal",
            "style": "IPY_MODEL_fc56e53314f34d18a38afd8cb29fafb4",
            "value": 100
          }
        },
        "76562367afe7484ab28e83d450e45785": {
          "model_module": "@jupyter-widgets/controls",
          "model_module_version": "1.5.0",
          "model_name": "ProgressStyleModel",
          "state": {
            "_model_module": "@jupyter-widgets/controls",
            "_model_module_version": "1.5.0",
            "_model_name": "ProgressStyleModel",
            "_view_count": null,
            "_view_module": "@jupyter-widgets/base",
            "_view_module_version": "1.2.0",
            "_view_name": "StyleView",
            "bar_color": null,
            "description_width": ""
          }
        },
        "8316bd062e1f45118452ee31be1dc195": {
          "model_module": "@jupyter-widgets/base",
          "model_module_version": "1.2.0",
          "model_name": "LayoutModel",
          "state": {
            "_model_module": "@jupyter-widgets/base",
            "_model_module_version": "1.2.0",
            "_model_name": "LayoutModel",
            "_view_count": null,
            "_view_module": "@jupyter-widgets/base",
            "_view_module_version": "1.2.0",
            "_view_name": "LayoutView",
            "align_content": null,
            "align_items": null,
            "align_self": null,
            "border": null,
            "bottom": null,
            "display": null,
            "flex": null,
            "flex_flow": null,
            "grid_area": null,
            "grid_auto_columns": null,
            "grid_auto_flow": null,
            "grid_auto_rows": null,
            "grid_column": null,
            "grid_gap": null,
            "grid_row": null,
            "grid_template_areas": null,
            "grid_template_columns": null,
            "grid_template_rows": null,
            "height": null,
            "justify_content": null,
            "justify_items": null,
            "left": null,
            "margin": null,
            "max_height": null,
            "max_width": null,
            "min_height": null,
            "min_width": null,
            "object_fit": null,
            "object_position": null,
            "order": null,
            "overflow": null,
            "overflow_x": null,
            "overflow_y": null,
            "padding": null,
            "right": null,
            "top": null,
            "visibility": null,
            "width": null
          }
        },
        "8502377116284921bc42589b482d38d9": {
          "model_module": "@jupyter-widgets/base",
          "model_module_version": "1.2.0",
          "model_name": "LayoutModel",
          "state": {
            "_model_module": "@jupyter-widgets/base",
            "_model_module_version": "1.2.0",
            "_model_name": "LayoutModel",
            "_view_count": null,
            "_view_module": "@jupyter-widgets/base",
            "_view_module_version": "1.2.0",
            "_view_name": "LayoutView",
            "align_content": null,
            "align_items": null,
            "align_self": null,
            "border": null,
            "bottom": null,
            "display": null,
            "flex": null,
            "flex_flow": null,
            "grid_area": null,
            "grid_auto_columns": null,
            "grid_auto_flow": null,
            "grid_auto_rows": null,
            "grid_column": null,
            "grid_gap": null,
            "grid_row": null,
            "grid_template_areas": null,
            "grid_template_columns": null,
            "grid_template_rows": null,
            "height": null,
            "justify_content": null,
            "justify_items": null,
            "left": null,
            "margin": null,
            "max_height": null,
            "max_width": null,
            "min_height": null,
            "min_width": null,
            "object_fit": null,
            "object_position": null,
            "order": null,
            "overflow": null,
            "overflow_x": null,
            "overflow_y": null,
            "padding": null,
            "right": null,
            "top": null,
            "visibility": null,
            "width": null
          }
        },
        "aca4392d8f0640d19026ad011e047e42": {
          "model_module": "@jupyter-widgets/base",
          "model_module_version": "1.2.0",
          "model_name": "LayoutModel",
          "state": {
            "_model_module": "@jupyter-widgets/base",
            "_model_module_version": "1.2.0",
            "_model_name": "LayoutModel",
            "_view_count": null,
            "_view_module": "@jupyter-widgets/base",
            "_view_module_version": "1.2.0",
            "_view_name": "LayoutView",
            "align_content": null,
            "align_items": null,
            "align_self": null,
            "border": null,
            "bottom": null,
            "display": null,
            "flex": null,
            "flex_flow": null,
            "grid_area": null,
            "grid_auto_columns": null,
            "grid_auto_flow": null,
            "grid_auto_rows": null,
            "grid_column": null,
            "grid_gap": null,
            "grid_row": null,
            "grid_template_areas": null,
            "grid_template_columns": null,
            "grid_template_rows": null,
            "height": null,
            "justify_content": null,
            "justify_items": null,
            "left": null,
            "margin": null,
            "max_height": null,
            "max_width": null,
            "min_height": null,
            "min_width": null,
            "object_fit": null,
            "object_position": null,
            "order": null,
            "overflow": null,
            "overflow_x": null,
            "overflow_y": null,
            "padding": null,
            "right": null,
            "top": null,
            "visibility": null,
            "width": null
          }
        },
        "c285ed227c16418ba6a0c48b353d72ee": {
          "model_module": "@jupyter-widgets/controls",
          "model_module_version": "1.5.0",
          "model_name": "HTMLModel",
          "state": {
            "_dom_classes": [],
            "_model_module": "@jupyter-widgets/controls",
            "_model_module_version": "1.5.0",
            "_model_name": "HTMLModel",
            "_view_count": null,
            "_view_module": "@jupyter-widgets/controls",
            "_view_module_version": "1.5.0",
            "_view_name": "HTMLView",
            "description": "",
            "description_tooltip": null,
            "layout": "IPY_MODEL_8502377116284921bc42589b482d38d9",
            "placeholder": "​",
            "style": "IPY_MODEL_49dde26b14ac4aa2aa54651453009aeb",
            "value": " 100.0/100 [00:23&lt;00:00, 486.60%/s]"
          }
        },
        "c3da34580c2342d597c65787cb15013e": {
          "model_module": "@jupyter-widgets/controls",
          "model_module_version": "1.5.0",
          "model_name": "HTMLModel",
          "state": {
            "_dom_classes": [],
            "_model_module": "@jupyter-widgets/controls",
            "_model_module_version": "1.5.0",
            "_model_name": "HTMLModel",
            "_view_count": null,
            "_view_module": "@jupyter-widgets/controls",
            "_view_module_version": "1.5.0",
            "_view_name": "HTMLView",
            "description": "",
            "description_tooltip": null,
            "layout": "IPY_MODEL_60ed05fde48d44ac831cd72e5e249b28",
            "placeholder": "​",
            "style": "IPY_MODEL_47751790b8d94346bf786df2fcaf16b5",
            "value": " 100.0/100 [44:30&lt;00:00,  1.49%/s]"
          }
        },
        "d289f0a2b44a4760ad3deb3e52bd529b": {
          "model_module": "@jupyter-widgets/base",
          "model_module_version": "1.2.0",
          "model_name": "LayoutModel",
          "state": {
            "_model_module": "@jupyter-widgets/base",
            "_model_module_version": "1.2.0",
            "_model_name": "LayoutModel",
            "_view_count": null,
            "_view_module": "@jupyter-widgets/base",
            "_view_module_version": "1.2.0",
            "_view_name": "LayoutView",
            "align_content": null,
            "align_items": null,
            "align_self": null,
            "border": null,
            "bottom": null,
            "display": null,
            "flex": null,
            "flex_flow": null,
            "grid_area": null,
            "grid_auto_columns": null,
            "grid_auto_flow": null,
            "grid_auto_rows": null,
            "grid_column": null,
            "grid_gap": null,
            "grid_row": null,
            "grid_template_areas": null,
            "grid_template_columns": null,
            "grid_template_rows": null,
            "height": null,
            "justify_content": null,
            "justify_items": null,
            "left": null,
            "margin": null,
            "max_height": null,
            "max_width": null,
            "min_height": null,
            "min_width": null,
            "object_fit": null,
            "object_position": null,
            "order": null,
            "overflow": null,
            "overflow_x": null,
            "overflow_y": null,
            "padding": null,
            "right": null,
            "top": null,
            "visibility": null,
            "width": null
          }
        },
        "df4cec7aa8f144e4bfcbb0dcbf1b1746": {
          "model_module": "@jupyter-widgets/controls",
          "model_module_version": "1.5.0",
          "model_name": "HBoxModel",
          "state": {
            "_dom_classes": [],
            "_model_module": "@jupyter-widgets/controls",
            "_model_module_version": "1.5.0",
            "_model_name": "HBoxModel",
            "_view_count": null,
            "_view_module": "@jupyter-widgets/controls",
            "_view_module_version": "1.5.0",
            "_view_name": "HBoxView",
            "box_style": "",
            "children": [
              "IPY_MODEL_70e2c72d9d404f4aa8c2b764e7af7b93",
              "IPY_MODEL_55ecc81af9c44546b8a8140a821003ac",
              "IPY_MODEL_c3da34580c2342d597c65787cb15013e"
            ],
            "layout": "IPY_MODEL_290b8c08c2b648889c5ac98e59efbb70"
          }
        },
        "eb7841f10d1948389920a24690ef421b": {
          "model_module": "@jupyter-widgets/controls",
          "model_module_version": "1.5.0",
          "model_name": "HTMLModel",
          "state": {
            "_dom_classes": [],
            "_model_module": "@jupyter-widgets/controls",
            "_model_module_version": "1.5.0",
            "_model_name": "HTMLModel",
            "_view_count": null,
            "_view_module": "@jupyter-widgets/controls",
            "_view_module_version": "1.5.0",
            "_view_name": "HTMLView",
            "description": "",
            "description_tooltip": null,
            "layout": "IPY_MODEL_3d221ca56d12435abfc8f0468f143e7d",
            "placeholder": "​",
            "style": "IPY_MODEL_388614f2882a449fb87e9453b2a7f527",
            "value": "Loading: 100%"
          }
        },
        "fc56e53314f34d18a38afd8cb29fafb4": {
          "model_module": "@jupyter-widgets/controls",
          "model_module_version": "1.5.0",
          "model_name": "ProgressStyleModel",
          "state": {
            "_model_module": "@jupyter-widgets/controls",
            "_model_module_version": "1.5.0",
            "_model_name": "ProgressStyleModel",
            "_view_count": null,
            "_view_module": "@jupyter-widgets/base",
            "_view_module_version": "1.2.0",
            "_view_name": "StyleView",
            "bar_color": null,
            "description_width": ""
          }
        }
      }
    }
  },
  "nbformat": 4,
  "nbformat_minor": 0
}
