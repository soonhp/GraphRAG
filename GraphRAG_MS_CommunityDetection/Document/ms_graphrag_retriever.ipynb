{
 "cells": [
  {
   "cell_type": "code",
   "execution_count": null,
   "id": "6b85ef6d-5a40-444f-92e3-3f3fc2c0facf",
   "metadata": {},
   "outputs": [],
   "source": [
    "!pip install --quiet tqdm neo4j seaborn tiktoken langchain-openai langchain-community langchain-core"
   ]
  },
  {
   "cell_type": "markdown",
   "id": "109c49ae-75f5-4960-a5e5-990a41e2898a",
   "metadata": {},
   "source": [
    "# Integrating Microsoft GraphRAG into Neo4j\n",
    "## Store the MSFT GraphRAG output into Neo4j and implement local and global retrievers with LangChain or LlamaIndex\n",
    "\n",
    "[Microsoft's GraphRAG implementation](https://microsoft.github.io/graphrag/) has gained significant attention lately. In my [last blog post](https://medium.com/neo4j/implementing-from-local-to-global-graphrag-with-neo4j-and-langchain-constructing-the-graph-73924cc5bab4), I discussed how the graph is constructed and explored some of the innovative aspects highlighted in the research paper. At a high level, the input to the GraphRAG library are source documents containing various information. The documents are processed using an Large Language Model (LLM) to extract structured information about entities appearing in the documents along with their relationships. This extracted structured information is then used to construct a knowledge graph.\n",
    "\n",
    "![image](https://cdn-images-1.medium.com/max/800/0*3-dqkOcFxHEYMRKP.png)\n",
    "\n",
    "After the knowledge graph has been constructed, the GraphRAG library uses a combination of graph algorithms, specifically Leiden community detection algorithm, and LLM prompting to generate natural language summaries of communities of entities and relationships found in the knowledge graph.\n",
    "In this post, we'll take the output from the GraphRAG library, store it in Neo4j, and then set up retrievers directly from Neo4j using LangChain and LlamaIndex orchestration frameworks.\n",
    "The code and GraphRAG output are accessible on GitHub, allowing you to skip the GraphRAG extraction process.\n",
    "## Dataset\n",
    "The dataset featured in this blog post is \"A Christmas Carol\" by Charles Dickens, which is freely accessible via the Gutenberg Project.\n",
    "\n",
    "We selected this book as the source document because it is highlighted in the introductory documentation, allowing us to perform the extraction effortlessly.\n",
    "\n",
    "## Graph construction\n",
    "Even though you can skip the graph extraction part, we'll talk about a couple of configuration options I think are the most important. For example, graph extraction can be very token-intensive and costly. Therefore, testing the extraction with a relatively cheap but good-performing LLM like gpt-4o-mini makes sense. The cost reduction from gpt-4-turbo can be significant while retaining good accuracy, as described in this blog post.\n",
    "```\n",
    "GRAPHRAG_LLM_MODEL=gpt-4o-mini\n",
    "```\n",
    "\n",
    "The most important configuration is the type of entities we want to extract. By default, organizations, people, events, and geo are extracted.\n",
    "```\n",
    "GRAPHRAG_ENTITY_EXTRACTION_ENTITY_TYPES=organization,person,event,geo\n",
    "```\n",
    "These default entity types might work well for a book, but make sure to change them accordingly to the domain of the documents you are looking at processing for a given use case.\n",
    "Another important configuration is the max gleanings value. The authors identified, and we also validated separately, that an LLM doesn't extract all the available information in a single extraction pass.\n",
    "\n",
    "![image](https://cdn-images-1.medium.com/max/800/0*Dur0l2MdEydVntKK.png)\n",
    "\n",
    "The gleaning configuration allows the LLM to perform multiple extraction passes. In the above image, we can clearly see that we extract more information when performing multiple passes (gleanings). Multiple passes are token-intensive, so a cheaper model like gpt-4o-mini helps to keep the cost low.\n",
    "```\n",
    "GRAPHRAG_ENTITY_EXTRACTION_MAX_GLEANINGS=1\n",
    "```\n",
    "Additionally, the claims or covariate information is not extracted by default. You can enable it by setting the GRAPHRAG_CLAIM_EXTRACTION_ENABLED configuration. \n",
    "```\n",
    "GRAPHRAG_CLAIM_EXTRACTION_ENABLED=False\n",
    "GRAPHRAG_CLAIM_EXTRACTION_MAX_GLEANINGS=1\n",
    "```\n",
    "It seems that it's a recurring theme that not all structured information is extracted in a single pass. Hence, we have the gleaning configuration option here as well.\n",
    "What's also interesting, but I haven't had time to dig deeper is the prompt tuning section. Prompt tuning is optional, but highly encouraged as it can improve accuracy.\n",
    "\n",
    "After the configuration has been set, we can follow the instructions to run the graph extraction pipeline, which consists of the following steps.\n",
    "\n",
    "![image](https://cdn-images-1.medium.com/max/800/0*s-p5ysea5rpKN8Sf.png)\n",
    "\n",
    "The extraction pipeline executes all the blue steps in the above image. Review my [previous blog post](https://medium.com/neo4j/implementing-from-local-to-global-graphrag-with-neo4j-and-langchain-constructing-the-graph-73924cc5bab4) to learn more about graph construction and community summarization. The output of the graph extraction pipeline of the MSFT GraphRAG library is a set of parquet files, as shown in the [Operation Dulce example](https://github.com/microsoft/graphrag/tree/main/examples_notebooks/inputs/operation%20dulce).\n",
    "\n",
    "These parquet files can be easily imported into the Neo4j graph database for downstream analysis, visualization, and retrieval. We can use a free cloud Aura instance or set up a local Neo4j environment. My friend Michael Hunger did most of the work to import the parquet files into Neo4j. We'll skip the import explanation in this blog post, but it consists of importing and constructing a knowledge graph from five or six CSV files. If you want to learn more about CSV importing, you can check the Neo4j Graph Academy course.\n",
    "\n",
    "The import code is available as a [Jupyter notebook on GitHub](https://github.com/tomasonjo/blogs/blob/master/msft_graphrag/ms_graphrag_import.ipynb) along with the example GraphRAG output."
   ]
  },
  {
   "cell_type": "code",
   "execution_count": 1,
   "id": "c5a1cd8f-9443-4b5d-aa04-00d81c12d35e",
   "metadata": {},
   "outputs": [
    {
     "name": "stderr",
     "output_type": "stream",
     "text": [
      "/Users/tomazbratanic/anaconda3/lib/python3.11/site-packages/pandas/core/arrays/masked.py:60: UserWarning: Pandas requires version '1.3.6' or newer of 'bottleneck' (version '1.3.5' currently installed).\n",
      "  from pandas.core import (\n"
     ]
    }
   ],
   "source": [
    "import os\n",
    "import getpass\n",
    "from neo4j import GraphDatabase, Result\n",
    "import pandas as pd\n",
    "import seaborn as sns\n",
    "import matplotlib.pyplot as plt\n",
    "import tiktoken\n",
    "import numpy as np\n",
    "from langchain_openai import OpenAIEmbeddings, ChatOpenAI\n",
    "from langchain_community.vectorstores import Neo4jVector\n",
    "from langchain_community.graphs import Neo4jGraph\n",
    "from langchain_core.prompts import ChatPromptTemplate\n",
    "from langchain_core.output_parsers import StrOutputParser\n",
    "from llama_index.core.schema import TextNode\n",
    "from llama_index.core.vector_stores.utils import node_to_metadata_dict\n",
    "from llama_index.vector_stores.neo4jvector import Neo4jVectorStore\n",
    "from llama_index.core import VectorStoreIndex\n",
    "from tqdm import tqdm\n",
    "\n",
    "\n",
    "from typing import Dict, Any\n",
    "\n",
    "# Adjust pandas display settings\n",
    "pd.set_option(\n",
    "    \"display.max_colwidth\", None\n",
    ")  # Set to None to display the full column width\n",
    "pd.set_option(\"display.max_columns\", None)"
   ]
  },
  {
   "cell_type": "markdown",
   "id": "13f82a1d-1aef-4638-a750-ac055c36349c",
   "metadata": {},
   "source": [
    "## Graph analysis\n",
    "Before moving onto retriever implementation, we'll perform a simple graph analysis to familiarize ourselves with the extracted data. We start by defining the database connection and a function that executes a Cypher statement (graph database query language) and outputs a Pandas DataFrame."
   ]
  },
  {
   "cell_type": "code",
   "execution_count": 2,
   "id": "0197dea4-0739-4b75-94a5-45c21ed4942e",
   "metadata": {},
   "outputs": [],
   "source": [
    "NEO4J_URI = \"bolt://localhost\"\n",
    "NEO4J_USERNAME = \"neo4j\"\n",
    "NEO4J_PASSWORD = \"password\"\n",
    "\n",
    "driver = GraphDatabase.driver(NEO4J_URI, auth=(NEO4J_USERNAME, NEO4J_PASSWORD))\n",
    "\n",
    "def db_query(cypher: str, params: Dict[str, Any] = {}) -> pd.DataFrame:\n",
    "    \"\"\"Executes a Cypher statement and returns a DataFrame\"\"\"\n",
    "    return driver.execute_query(\n",
    "        cypher, parameters_=params, result_transformer_=Result.to_df\n",
    "    )"
   ]
  },
  {
   "cell_type": "code",
   "execution_count": 3,
   "id": "5a4d6914-4b50-41ed-a1ab-2f3c0b52b404",
   "metadata": {},
   "outputs": [
    {
     "name": "stdout",
     "output_type": "stream",
     "text": [
      "OpenAI API Key: ········\n"
     ]
    }
   ],
   "source": [
    "os.environ[\"OPENAI_API_KEY\"] = getpass.getpass(\"OpenAI API Key:\")"
   ]
  },
  {
   "cell_type": "markdown",
   "id": "9ae357ba-c988-4d62-85ab-d504ba62c3b6",
   "metadata": {},
   "source": [
    "When performing the graph extraction, we used a chunk size of 300. Since then, the authors have changed the default chunk size to 1200. We can validate the chunk sizes using the following Cypher statement."
   ]
  },
  {
   "cell_type": "code",
   "execution_count": 4,
   "id": "0038386e-53db-4415-8c60-2cfeef4ec9f1",
   "metadata": {},
   "outputs": [
    {
     "data": {
      "text/html": [
       "<div>\n",
       "<style scoped>\n",
       "    .dataframe tbody tr th:only-of-type {\n",
       "        vertical-align: middle;\n",
       "    }\n",
       "\n",
       "    .dataframe tbody tr th {\n",
       "        vertical-align: top;\n",
       "    }\n",
       "\n",
       "    .dataframe thead th {\n",
       "        text-align: right;\n",
       "    }\n",
       "</style>\n",
       "<table border=\"1\" class=\"dataframe\">\n",
       "  <thead>\n",
       "    <tr style=\"text-align: right;\">\n",
       "      <th></th>\n",
       "      <th>token_count</th>\n",
       "      <th>count</th>\n",
       "    </tr>\n",
       "  </thead>\n",
       "  <tbody>\n",
       "    <tr>\n",
       "      <th>0</th>\n",
       "      <td>300</td>\n",
       "      <td>230</td>\n",
       "    </tr>\n",
       "    <tr>\n",
       "      <th>1</th>\n",
       "      <td>155</td>\n",
       "      <td>1</td>\n",
       "    </tr>\n",
       "  </tbody>\n",
       "</table>\n",
       "</div>"
      ],
      "text/plain": [
       "   token_count  count\n",
       "0          300    230\n",
       "1          155      1"
      ]
     },
     "execution_count": 4,
     "metadata": {},
     "output_type": "execute_result"
    }
   ],
   "source": [
    "db_query(\"MATCH (n:__Chunk__) RETURN n.n_tokens as token_count, count(*) AS count\")"
   ]
  },
  {
   "cell_type": "markdown",
   "id": "266b1f3f-7ac0-4601-803f-fbbee32ce6eb",
   "metadata": {},
   "source": [
    "230 chunks have 300 tokens, while the last one has only 155 tokens. Let's now check an example entity and its description."
   ]
  },
  {
   "cell_type": "code",
   "execution_count": 5,
   "id": "1ad653a6-ae66-4740-9a29-2e10c5110b79",
   "metadata": {},
   "outputs": [
    {
     "data": {
      "text/html": [
       "<div>\n",
       "<style scoped>\n",
       "    .dataframe tbody tr th:only-of-type {\n",
       "        vertical-align: middle;\n",
       "    }\n",
       "\n",
       "    .dataframe tbody tr th {\n",
       "        vertical-align: top;\n",
       "    }\n",
       "\n",
       "    .dataframe thead th {\n",
       "        text-align: right;\n",
       "    }\n",
       "</style>\n",
       "<table border=\"1\" class=\"dataframe\">\n",
       "  <thead>\n",
       "    <tr style=\"text-align: right;\">\n",
       "      <th></th>\n",
       "      <th>name</th>\n",
       "      <th>description</th>\n",
       "    </tr>\n",
       "  </thead>\n",
       "  <tbody>\n",
       "    <tr>\n",
       "      <th>0</th>\n",
       "      <td>PROJECT GUTENBERG</td>\n",
       "      <td>Project Gutenberg is a pioneering organization dedicated to the free distribution of electronic works, with a focus on those not protected by U.S. copyright law. It was initiated by Professor Michael S. Hart and is supported by a network of volunteers and the Gutenberg Literary Archive Foundation. The organization's mission is to increase the number of public domain and licensed works freely distributed in machine-readable form, thereby promoting free access to literature and electronic works. Project Gutenberg owns a compilation copyright in its collection of electronic works, ensuring their accessibility while requiring compliance with specific copyright and distribution guidelines outlined in their license agreement.\\n\\nFor over forty years, Project Gutenberg has been creating and distributing eBooks, offering a vast array of works in various formats, including 'Plain Vanilla ASCII'. Its collection includes notable titles like 'A Christmas Carol', available for free under a license that allows copying, giving away, and re-using with almost no restrictions. The organization operates globally, emphasizing copyright status and adherence to its license, which includes a system of royalty payments and refunds under certain conditions. Project Gutenberg's main search facility is accessible through its website, www.gutenberg.org, facilitating easy access to its extensive library.\\n\\nProject Gutenberg is committed to keeping its collection freely available for future generations, supported by donations and the efforts of its volunteer network. It promotes the creation, modification, and redistribution of eBooks, especially focusing on works that allow for free copying and distribution in the United States under specific terms. The organization is described as being focused on promoting free access to electronic works, ensuring that literature remains accessible to the public while keeping its name associated with shared works in compliance with its agreement.</td>\n",
       "    </tr>\n",
       "  </tbody>\n",
       "</table>\n",
       "</div>"
      ],
      "text/plain": [
       "                name  \\\n",
       "0  PROJECT GUTENBERG   \n",
       "\n",
       "                                                                                                                                                                                                                                                                                                                                                                                                                                                                                                                                                                                                                                                                                                                                                                                                                                                                                                                                                                                                                                                                                                                                                                                                                                                                                                                                                                                                                                                                                                                                                                                                                                                                                                                                                                                                                                                                                                                                                                                                                                                            description  \n",
       "0  Project Gutenberg is a pioneering organization dedicated to the free distribution of electronic works, with a focus on those not protected by U.S. copyright law. It was initiated by Professor Michael S. Hart and is supported by a network of volunteers and the Gutenberg Literary Archive Foundation. The organization's mission is to increase the number of public domain and licensed works freely distributed in machine-readable form, thereby promoting free access to literature and electronic works. Project Gutenberg owns a compilation copyright in its collection of electronic works, ensuring their accessibility while requiring compliance with specific copyright and distribution guidelines outlined in their license agreement.\\n\\nFor over forty years, Project Gutenberg has been creating and distributing eBooks, offering a vast array of works in various formats, including 'Plain Vanilla ASCII'. Its collection includes notable titles like 'A Christmas Carol', available for free under a license that allows copying, giving away, and re-using with almost no restrictions. The organization operates globally, emphasizing copyright status and adherence to its license, which includes a system of royalty payments and refunds under certain conditions. Project Gutenberg's main search facility is accessible through its website, www.gutenberg.org, facilitating easy access to its extensive library.\\n\\nProject Gutenberg is committed to keeping its collection freely available for future generations, supported by donations and the efforts of its volunteer network. It promotes the creation, modification, and redistribution of eBooks, especially focusing on works that allow for free copying and distribution in the United States under specific terms. The organization is described as being focused on promoting free access to electronic works, ensuring that literature remains accessible to the public while keeping its name associated with shared works in compliance with its agreement.  "
      ]
     },
     "execution_count": 5,
     "metadata": {},
     "output_type": "execute_result"
    }
   ],
   "source": [
    "db_query(\n",
    "    \"MATCH (n:__Entity__) RETURN n.name AS name, n.description AS description LIMIT 1\"\n",
    ")"
   ]
  },
  {
   "cell_type": "markdown",
   "id": "c0a221c2-b433-47b1-8639-7b0fddf0fec1",
   "metadata": {},
   "source": [
    "It seems that the project Gutenberg is described in the book somewhere, probably at the beginning. We can observe how a description can capture more detailed and intricate information than just an entity name, which the MSFT GraphRAG paper introduced to retain more sophisticated and nuanced data from text.\n",
    "\n",
    "Let's check example relationships as well."
   ]
  },
  {
   "cell_type": "code",
   "execution_count": 6,
   "id": "f046b02e-7fa3-4071-9c32-cdf31b90b8d4",
   "metadata": {},
   "outputs": [
    {
     "data": {
      "text/html": [
       "<div>\n",
       "<style scoped>\n",
       "    .dataframe tbody tr th:only-of-type {\n",
       "        vertical-align: middle;\n",
       "    }\n",
       "\n",
       "    .dataframe tbody tr th {\n",
       "        vertical-align: top;\n",
       "    }\n",
       "\n",
       "    .dataframe thead th {\n",
       "        text-align: right;\n",
       "    }\n",
       "</style>\n",
       "<table border=\"1\" class=\"dataframe\">\n",
       "  <thead>\n",
       "    <tr style=\"text-align: right;\">\n",
       "      <th></th>\n",
       "      <th>description</th>\n",
       "    </tr>\n",
       "  </thead>\n",
       "  <tbody>\n",
       "    <tr>\n",
       "      <th>0</th>\n",
       "      <td>\"Project Gutenberg is responsible for releasing 'A Christmas Carol' as an eBook.\"</td>\n",
       "    </tr>\n",
       "    <tr>\n",
       "      <th>1</th>\n",
       "      <td>\"Suzanne Shell produced the eBook version of 'A Christmas Carol' for Project Gutenberg.\"</td>\n",
       "    </tr>\n",
       "    <tr>\n",
       "      <th>2</th>\n",
       "      <td>\"Janet Blenkinship produced the eBook version of 'A Christmas Carol' for Project Gutenberg.\"</td>\n",
       "    </tr>\n",
       "    <tr>\n",
       "      <th>3</th>\n",
       "      <td>Project Gutenberg operates within the United States, where it is significantly influenced by U.S. laws, particularly those concerning copyright and the redistribution of eBooks. Its activities, including the creation and distribution of electronic works, are conducted freely within the legal framework of the United States, emphasizing the organization's adherence to copyright law and the conditions under which eBooks can be shared. Project Gutenberg's collection mainly comprises works that are in the public domain in the United States, underscoring a crucial geographical and legal relationship between the organization's operations and U.S. copyright laws. This relationship dictates the accessibility of Project Gutenberg's works and ensures that their distribution is in compliance with U.S. copyright confirmation processes. Overall, Project Gutenberg's presence and operations in the United States highlight its commitment to making literary works accessible within the confines of copyright law, ensuring that donations and the sharing of works are handled in accordance with U.S. regulations.</td>\n",
       "    </tr>\n",
       "    <tr>\n",
       "      <th>4</th>\n",
       "      <td>\"Project Gutenberg establishes and enforces the General Terms of Use and Redistributing guidelines for its electronic works.\"</td>\n",
       "    </tr>\n",
       "  </tbody>\n",
       "</table>\n",
       "</div>"
      ],
      "text/plain": [
       "                                                                                                                                                                                                                                                                                                                                                                                                                                                                                                                                                                                                                                                                                                                                                                                                                                                                                                                                                                                                                                                                                                                                         description\n",
       "0                                                                                                                                                                                                                                                                                                                                                                                                                                                                                                                                                                                                                                                                                                                                                                                                                                                                                                                                                                                                                                                                  \"Project Gutenberg is responsible for releasing 'A Christmas Carol' as an eBook.\"\n",
       "1                                                                                                                                                                                                                                                                                                                                                                                                                                                                                                                                                                                                                                                                                                                                                                                                                                                                                                                                                                                                                                                           \"Suzanne Shell produced the eBook version of 'A Christmas Carol' for Project Gutenberg.\"\n",
       "2                                                                                                                                                                                                                                                                                                                                                                                                                                                                                                                                                                                                                                                                                                                                                                                                                                                                                                                                                                                                                                                       \"Janet Blenkinship produced the eBook version of 'A Christmas Carol' for Project Gutenberg.\"\n",
       "3  Project Gutenberg operates within the United States, where it is significantly influenced by U.S. laws, particularly those concerning copyright and the redistribution of eBooks. Its activities, including the creation and distribution of electronic works, are conducted freely within the legal framework of the United States, emphasizing the organization's adherence to copyright law and the conditions under which eBooks can be shared. Project Gutenberg's collection mainly comprises works that are in the public domain in the United States, underscoring a crucial geographical and legal relationship between the organization's operations and U.S. copyright laws. This relationship dictates the accessibility of Project Gutenberg's works and ensures that their distribution is in compliance with U.S. copyright confirmation processes. Overall, Project Gutenberg's presence and operations in the United States highlight its commitment to making literary works accessible within the confines of copyright law, ensuring that donations and the sharing of works are handled in accordance with U.S. regulations.\n",
       "4                                                                                                                                                                                                                                                                                                                                                                                                                                                                                                                                                                                                                                                                                                                                                                                                                                                                                                                                                                                                                      \"Project Gutenberg establishes and enforces the General Terms of Use and Redistributing guidelines for its electronic works.\""
      ]
     },
     "execution_count": 6,
     "metadata": {},
     "output_type": "execute_result"
    }
   ],
   "source": [
    "db_query(\"MATCH ()-[n:RELATED]->() RETURN n.description AS description LIMIT 5\")"
   ]
  },
  {
   "cell_type": "markdown",
   "id": "3222f543-4e83-4205-ba28-f93dedfc33a9",
   "metadata": {},
   "source": [
    "The MSFT GraphRAG goes beyond merely extracting simple relationship types between entities by capturing detailed relationship descriptions. This capability allows it to capture more nuanced information than straightforward relationship types.\n",
    "\n",
    "We can also examine a single community and its generated descriptions."
   ]
  },
  {
   "cell_type": "code",
   "execution_count": 7,
   "id": "a0b6046f-6c10-40d4-aca0-bb4c5e184c19",
   "metadata": {},
   "outputs": [
    {
     "data": {
      "text/html": [
       "<div>\n",
       "<style scoped>\n",
       "    .dataframe tbody tr th:only-of-type {\n",
       "        vertical-align: middle;\n",
       "    }\n",
       "\n",
       "    .dataframe tbody tr th {\n",
       "        vertical-align: top;\n",
       "    }\n",
       "\n",
       "    .dataframe thead th {\n",
       "        text-align: right;\n",
       "    }\n",
       "</style>\n",
       "<table border=\"1\" class=\"dataframe\">\n",
       "  <thead>\n",
       "    <tr style=\"text-align: right;\">\n",
       "      <th></th>\n",
       "      <th>title</th>\n",
       "      <th>summary</th>\n",
       "      <th>full_content</th>\n",
       "    </tr>\n",
       "  </thead>\n",
       "  <tbody>\n",
       "    <tr>\n",
       "      <th>0</th>\n",
       "      <td>The Cratchit Family: A Study of Resilience and Transformation</td>\n",
       "      <td>The Cratchit family, central to the narrative, showcases themes of love, hardship, and transformation, particularly in relation to their interactions with Ebenezer Scrooge. This report delves into the dynamics within the Cratchit family, their relationship with Scrooge, and the significant impact of Christmas Day on their lives and on Scrooge's transformation. The family's experiences highlight broader societal issues of poverty and the potential for personal change.</td>\n",
       "      <td># The Cratchit Family: A Study of Resilience and Transformation\\n\\nThe Cratchit family, central to the narrative, showcases themes of love, hardship, and transformation, particularly in relation to their interactions with Ebenezer Scrooge. This report delves into the dynamics within the Cratchit family, their relationship with Scrooge, and the significant impact of Christmas Day on their lives and on Scrooge's transformation. The family's experiences highlight broader societal issues of poverty and the potential for personal change.\\n\\n## The pivotal role of Bob Cratchit\\n\\nBob Cratchit, as a devoted family man and employee of Scrooge, represents the struggles of the lower class while maintaining a hopeful and loving demeanor. His relationship with Scrooge evolves from one of power imbalance to mutual respect, marked by Scrooge's transformation and his promise to assist the Cratchit family. Bob's interactions with his family, especially Tiny Tim, underscore his role as a caring father and his impact on Scrooge's change of heart [Data: Entities (11, 177); Relationships (25, 159, 20, 29, +more)].\\n\\n## Mrs. Cratchit's influence and resilience\\n\\nMrs. Cratchit is a strong, caring figure within the family, showcasing resilience in the face of hardship. Her disdain for Scrooge reflects her protective nature and desire for justice. Mrs. Cratchit's efforts to maintain festive spirits, despite financial constraints, highlight her role in fostering family unity and her indirect influence on Scrooge's transformation through her husband's experiences [Data: Entities (26); Relationships (81, 77, 73, +more)].\\n\\n## Tiny Tim as a symbol of hope\\n\\nTiny Tim, despite his physical frailties, embodies hope and innocence. His optimistic outlook and the concern for his well-being from both his family and Scrooge symbolize the potential for societal change. Tiny Tim's character prompts Scrooge's transformation, illustrating the impact of empathy and care on personal redemption. His condition and spirit reflect broader themes of social responsibility and the value of each individual within society [Data: Entities (174); Relationships (158, 289, +more)].\\n\\n## The transformative power of Christmas Day\\n\\nChristmas Day serves as a catalyst for change and reflection within the narrative. For the Cratchit family, it is a time of joy and familial bonding, despite their hardships. For Scrooge, it marks the beginning of his transformation, influenced by the Ghosts and his observations of the Cratchit family. The day's significance is highlighted through the contrast between Scrooge's initial miserliness and his eventual generosity, underscoring the themes of redemption and the impact of kindness [Data: Entities (172); Relationships (160, 286, +more)].\\n\\n## The broader societal implications of the Cratchit family's narrative\\n\\nThe Cratchit family's experiences and their interactions with Scrooge touch on broader societal issues such as poverty, inequality, and the capacity for personal growth. Their story serves as a microcosm for exploring themes of social justice, the importance of family, and the potential for change in individuals and society. Through their resilience and the transformative journey of Scrooge, the narrative offers insights into the power of empathy, community, and the spirit of Christmas in fostering societal change [Data: Entities (180, 149); Relationships (25, 158, 160, +more)].</td>\n",
       "    </tr>\n",
       "  </tbody>\n",
       "</table>\n",
       "</div>"
      ],
      "text/plain": [
       "                                                           title  \\\n",
       "0  The Cratchit Family: A Study of Resilience and Transformation   \n",
       "\n",
       "                                                                                                                                                                                                                                                                                                                                                                                                                                                                                   summary  \\\n",
       "0  The Cratchit family, central to the narrative, showcases themes of love, hardship, and transformation, particularly in relation to their interactions with Ebenezer Scrooge. This report delves into the dynamics within the Cratchit family, their relationship with Scrooge, and the significant impact of Christmas Day on their lives and on Scrooge's transformation. The family's experiences highlight broader societal issues of poverty and the potential for personal change.   \n",
       "\n",
       "                                                                                                                                                                                                                                                                                                                                                                                                                                                                                                                                                                                                                                                                                                                                                                                                                                                                                                                                                                                                                                                                                                                                                                                                                                                                                                                                                                                                                                                                                                                                                                                                                                                                                                                                                                                                                                                                                                                                                                                                                                                                                                                                                                                                                                                                                                                                                                                                                                                                                                                                                                                                                                                                                                                                                                                                                                                                                                                                                                                                                                                                                                                                                                                                                                                                                                                                                                                                                                                                                                                                                                   full_content  \n",
       "0  # The Cratchit Family: A Study of Resilience and Transformation\\n\\nThe Cratchit family, central to the narrative, showcases themes of love, hardship, and transformation, particularly in relation to their interactions with Ebenezer Scrooge. This report delves into the dynamics within the Cratchit family, their relationship with Scrooge, and the significant impact of Christmas Day on their lives and on Scrooge's transformation. The family's experiences highlight broader societal issues of poverty and the potential for personal change.\\n\\n## The pivotal role of Bob Cratchit\\n\\nBob Cratchit, as a devoted family man and employee of Scrooge, represents the struggles of the lower class while maintaining a hopeful and loving demeanor. His relationship with Scrooge evolves from one of power imbalance to mutual respect, marked by Scrooge's transformation and his promise to assist the Cratchit family. Bob's interactions with his family, especially Tiny Tim, underscore his role as a caring father and his impact on Scrooge's change of heart [Data: Entities (11, 177); Relationships (25, 159, 20, 29, +more)].\\n\\n## Mrs. Cratchit's influence and resilience\\n\\nMrs. Cratchit is a strong, caring figure within the family, showcasing resilience in the face of hardship. Her disdain for Scrooge reflects her protective nature and desire for justice. Mrs. Cratchit's efforts to maintain festive spirits, despite financial constraints, highlight her role in fostering family unity and her indirect influence on Scrooge's transformation through her husband's experiences [Data: Entities (26); Relationships (81, 77, 73, +more)].\\n\\n## Tiny Tim as a symbol of hope\\n\\nTiny Tim, despite his physical frailties, embodies hope and innocence. His optimistic outlook and the concern for his well-being from both his family and Scrooge symbolize the potential for societal change. Tiny Tim's character prompts Scrooge's transformation, illustrating the impact of empathy and care on personal redemption. His condition and spirit reflect broader themes of social responsibility and the value of each individual within society [Data: Entities (174); Relationships (158, 289, +more)].\\n\\n## The transformative power of Christmas Day\\n\\nChristmas Day serves as a catalyst for change and reflection within the narrative. For the Cratchit family, it is a time of joy and familial bonding, despite their hardships. For Scrooge, it marks the beginning of his transformation, influenced by the Ghosts and his observations of the Cratchit family. The day's significance is highlighted through the contrast between Scrooge's initial miserliness and his eventual generosity, underscoring the themes of redemption and the impact of kindness [Data: Entities (172); Relationships (160, 286, +more)].\\n\\n## The broader societal implications of the Cratchit family's narrative\\n\\nThe Cratchit family's experiences and their interactions with Scrooge touch on broader societal issues such as poverty, inequality, and the capacity for personal growth. Their story serves as a microcosm for exploring themes of social justice, the importance of family, and the potential for change in individuals and society. Through their resilience and the transformative journey of Scrooge, the narrative offers insights into the power of empathy, community, and the spirit of Christmas in fostering societal change [Data: Entities (180, 149); Relationships (25, 158, 160, +more)].  "
      ]
     },
     "execution_count": 7,
     "metadata": {},
     "output_type": "execute_result"
    }
   ],
   "source": [
    "db_query(\n",
    "    \"\"\"\n",
    "  MATCH (n:__Community__) \n",
    "  RETURN n.title AS title, n.summary AS summary, n.full_content AS full_content LIMIT 1\n",
    "\"\"\"\n",
    ")"
   ]
  },
  {
   "cell_type": "markdown",
   "id": "6bb8f680-89f7-4c5b-a34e-4c8be4ee2746",
   "metadata": {},
   "source": [
    "A community has a title, summary, and full content generated using an LLM. I haven't seen if the authors use the full context or just the summary during retrieval, but we can choose between the two. We can observe citations in the full_content, which point to entities and relationships from which the information came. It's funny that an LLM sometimes trims the citations if they are too long, like in the following example.\n",
    "\n",
    "```\n",
    "[Data: Entities (11, 177); Relationships (25, 159, 20, 29, +more)]\n",
    "```\n",
    "\n",
    "There is no way to expand the `+more` sign, so this is a funny way of dealing with long citations by an LLM.\n",
    "Let's now evaluate some distributions. We'll start by inspecting the distribution of the count of extracted entities from text chunks."
   ]
  },
  {
   "cell_type": "code",
   "execution_count": 8,
   "id": "bdce0534-c342-4894-af07-e72f00425828",
   "metadata": {},
   "outputs": [
    {
     "data": {
      "image/png": "[encoded data removed]",
      "text/plain": [
       "<Figure size 1000x600 with 1 Axes>"
      ]
     },
     "metadata": {},
     "output_type": "display_data"
    }
   ],
   "source": [
    "entity_df = db_query(\n",
    "    \"\"\"\n",
    "MATCH (d:__Chunk__)\n",
    "RETURN count {(d)-[:HAS_ENTITY]->()} AS entity_count\n",
    "\"\"\"\n",
    ")\n",
    "# Plot distribution\n",
    "plt.figure(figsize=(10, 6))\n",
    "sns.histplot(entity_df[\"entity_count\"], kde=True, bins=15, color=\"skyblue\")\n",
    "plt.axvline(\n",
    "    entity_df[\"entity_count\"].mean(), color=\"red\", linestyle=\"dashed\", linewidth=1\n",
    ")\n",
    "plt.axvline(\n",
    "    entity_df[\"entity_count\"].median(), color=\"green\", linestyle=\"dashed\", linewidth=1\n",
    ")\n",
    "plt.xlabel(\"Entity Count\", fontsize=12)\n",
    "plt.ylabel(\"Frequency\", fontsize=12)\n",
    "plt.title(\"Distribution of Entity Count\", fontsize=15)\n",
    "plt.legend(\n",
    "    {\n",
    "        \"Mean\": entity_df[\"entity_count\"].mean(),\n",
    "        \"Median\": entity_df[\"entity_count\"].median(),\n",
    "    }\n",
    ")\n",
    "plt.show()"
   ]
  },
  {
   "cell_type": "markdown",
   "id": "76d641a7-574e-4cd2-bfc1-27fa2eb8725b",
   "metadata": {},
   "source": [
    "Remember, text chunks have 300 tokens. Therefore, the number of extracted entities is relatively small, with an average of around three entities per text chunk. The extraction was done without any gleanings (a single extraction pass). It would be interesting to see the distribution if we increased the gleaning count.\n",
    "\n",
    "Next, we will evaluate the node degree distribution. A node degree is the number of relationships a node has."
   ]
  },
  {
   "cell_type": "code",
   "execution_count": 9,
   "id": "10eb4b97-632a-44d9-b452-6b9130a8c432",
   "metadata": {},
   "outputs": [
    {
     "data": {
      "image/png": "[encoded data removed]",
      "text/plain": [
       "<Figure size 1200x600 with 1 Axes>"
      ]
     },
     "metadata": {},
     "output_type": "display_data"
    }
   ],
   "source": [
    "degree_dist_df = db_query(\n",
    "    \"\"\"\n",
    "MATCH (e:__Entity__)\n",
    "RETURN count {(e)-[:RELATED]-()} AS node_degree\n",
    "\"\"\"\n",
    ")\n",
    "# Calculate mean and median\n",
    "mean_degree = np.mean(degree_dist_df[\"node_degree\"])\n",
    "percentiles = np.percentile(degree_dist_df[\"node_degree\"], [25, 50, 75, 90])\n",
    "# Create a histogram with a logarithmic scale\n",
    "plt.figure(figsize=(12, 6))\n",
    "sns.histplot(degree_dist_df[\"node_degree\"], bins=50, kde=False, color=\"blue\")\n",
    "# Use a logarithmic scale for the x-axis\n",
    "plt.yscale(\"log\")\n",
    "# Adding labels and title\n",
    "plt.xlabel(\"Node Degree\")\n",
    "plt.ylabel(\"Count (log scale)\")\n",
    "plt.title(\"Node Degree Distribution\")\n",
    "# Add mean, median, and percentile lines\n",
    "plt.axvline(\n",
    "    mean_degree,\n",
    "    color=\"red\",\n",
    "    linestyle=\"dashed\",\n",
    "    linewidth=1,\n",
    "    label=f\"Mean: {mean_degree:.2f}\",\n",
    ")\n",
    "plt.axvline(\n",
    "    percentiles[0],\n",
    "    color=\"purple\",\n",
    "    linestyle=\"dashed\",\n",
    "    linewidth=1,\n",
    "    label=f\"25th Percentile: {percentiles[0]:.2f}\",\n",
    ")\n",
    "plt.axvline(\n",
    "    percentiles[1],\n",
    "    color=\"orange\",\n",
    "    linestyle=\"dashed\",\n",
    "    linewidth=1,\n",
    "    label=f\"50th Percentile: {percentiles[1]:.2f}\",\n",
    ")\n",
    "plt.axvline(\n",
    "    percentiles[2],\n",
    "    color=\"yellow\",\n",
    "    linestyle=\"dashed\",\n",
    "    linewidth=1,\n",
    "    label=f\"75th Percentile: {percentiles[2]:.2f}\",\n",
    ")\n",
    "plt.axvline(\n",
    "    percentiles[3],\n",
    "    color=\"brown\",\n",
    "    linestyle=\"dashed\",\n",
    "    linewidth=1,\n",
    "    label=f\"90th Percentile: {percentiles[3]:.2f}\",\n",
    ")\n",
    "# Add legend\n",
    "plt.legend()\n",
    "# Show the plot\n",
    "plt.show()"
   ]
  },
  {
   "cell_type": "markdown",
   "id": "10f727be-63c5-4283-b2b7-5d934aca5fa9",
   "metadata": {},
   "source": [
    "Most real-world networks follow a power-law node degree distribution, with most nodes having relatively small degrees and some important nodes having a lot. While our graph is small, the node degree follows the power law. It would be interesting to identify which entity has 120 relationships (connected to 43% of entities)."
   ]
  },
  {
   "cell_type": "code",
   "execution_count": 10,
   "id": "a0c0fe31-88a7-4d1f-bd3d-255e5d379afe",
   "metadata": {},
   "outputs": [
    {
     "data": {
      "text/html": [
       "<div>\n",
       "<style scoped>\n",
       "    .dataframe tbody tr th:only-of-type {\n",
       "        vertical-align: middle;\n",
       "    }\n",
       "\n",
       "    .dataframe tbody tr th {\n",
       "        vertical-align: top;\n",
       "    }\n",
       "\n",
       "    .dataframe thead th {\n",
       "        text-align: right;\n",
       "    }\n",
       "</style>\n",
       "<table border=\"1\" class=\"dataframe\">\n",
       "  <thead>\n",
       "    <tr style=\"text-align: right;\">\n",
       "      <th></th>\n",
       "      <th>name</th>\n",
       "      <th>degree</th>\n",
       "    </tr>\n",
       "  </thead>\n",
       "  <tbody>\n",
       "    <tr>\n",
       "      <th>0</th>\n",
       "      <td>SCROOGE</td>\n",
       "      <td>120</td>\n",
       "    </tr>\n",
       "    <tr>\n",
       "      <th>1</th>\n",
       "      <td>MRS. CRATCHIT</td>\n",
       "      <td>16</td>\n",
       "    </tr>\n",
       "    <tr>\n",
       "      <th>2</th>\n",
       "      <td>BOB CRATCHIT</td>\n",
       "      <td>14</td>\n",
       "    </tr>\n",
       "    <tr>\n",
       "      <th>3</th>\n",
       "      <td>PROJECT GUTENBERG</td>\n",
       "      <td>13</td>\n",
       "    </tr>\n",
       "    <tr>\n",
       "      <th>4</th>\n",
       "      <td>EBENEZER SCROOGE</td>\n",
       "      <td>12</td>\n",
       "    </tr>\n",
       "  </tbody>\n",
       "</table>\n",
       "</div>"
      ],
      "text/plain": [
       "                name  degree\n",
       "0            SCROOGE     120\n",
       "1      MRS. CRATCHIT      16\n",
       "2       BOB CRATCHIT      14\n",
       "3  PROJECT GUTENBERG      13\n",
       "4   EBENEZER SCROOGE      12"
      ]
     },
     "execution_count": 10,
     "metadata": {},
     "output_type": "execute_result"
    }
   ],
   "source": [
    "db_query(\n",
    "    \"\"\"\n",
    "  MATCH (n:__Entity__) \n",
    "  RETURN n.name AS name, count{(n)-[:RELATED]-()} AS degree\n",
    "  ORDER BY degree DESC LIMIT 5\"\"\"\n",
    ")"
   ]
  },
  {
   "cell_type": "markdown",
   "id": "5404d06f-410c-4867-a9b3-13c5d0305d98",
   "metadata": {},
   "source": [
    "Without any hesitation, we can assume that `Scrooge` is the book's main character. I would also venture a guess that `Ebenezer Scrooge` and `Scrooge` are actually the same entity, but as the MSFT GraphRAG lacks an entity resolution step, they weren't merged.\n",
    "It also shows that analyzing and cleaning the data is a vital step to reducing noise information, as Project Gutenberg has 13 relationships, even though they are not part of the book story.\n",
    "\n",
    "Lastly, we'll inspect the distribution of community size per hierarchical level."
   ]
  },
  {
   "cell_type": "code",
   "execution_count": 11,
   "id": "3795c759-c98f-4fd1-a5ef-690b8a469559",
   "metadata": {},
   "outputs": [
    {
     "name": "stderr",
     "output_type": "stream",
     "text": [
      "/var/folders/87/hnv4nyfj1bl8h65l0mp7xrx40000gp/T/ipykernel_29432/2680507823.py:23: FutureWarning: \n",
      "\n",
      "Passing `palette` without assigning `hue` is deprecated and will be removed in v0.14.0. Assign the `x` variable to `hue` and set `legend=False` for the same effect.\n",
      "\n",
      "  sns.boxplot(x=\"level\", y=\"members\", data=community_data, palette=\"viridis\")\n"
     ]
    },
    {
     "data": {
      "image/png": "[encoded data removed]",
      "text/plain": [
       "<Figure size 1000x600 with 1 Axes>"
      ]
     },
     "metadata": {},
     "output_type": "display_data"
    }
   ],
   "source": [
    "community_data = db_query(\n",
    "    \"\"\"\n",
    "  MATCH (n:__Community__)\n",
    "  RETURN n.level AS level, count{(n)-[:IN_COMMUNITY]-()} AS members\n",
    "\"\"\"\n",
    ")\n",
    "\n",
    "stats = (\n",
    "    community_data.groupby(\"level\")\n",
    "    .agg(\n",
    "        min_members=(\"members\", \"min\"),\n",
    "        max_members=(\"members\", \"max\"),\n",
    "        median_members=(\"members\", \"median\"),\n",
    "        avg_members=(\"members\", \"mean\"),\n",
    "        num_communities=(\"members\", \"count\"),\n",
    "        total_members=(\"members\", \"sum\"),\n",
    "    )\n",
    "    .reset_index()\n",
    ")\n",
    "\n",
    "# Create box plot\n",
    "plt.figure(figsize=(10, 6))\n",
    "sns.boxplot(x=\"level\", y=\"members\", data=community_data, palette=\"viridis\")\n",
    "plt.xlabel(\"Level\")\n",
    "plt.ylabel(\"Members\")\n",
    "\n",
    "# Add statistical annotations\n",
    "for i in range(stats.shape[0]):\n",
    "    level = stats[\"level\"][i]\n",
    "    max_val = stats[\"max_members\"][i]\n",
    "    text = (\n",
    "        f\"num: {stats['num_communities'][i]}\\n\"\n",
    "        f\"all_members: {stats['total_members'][i]}\\n\"\n",
    "        f\"min: {stats['min_members'][i]}\\n\"\n",
    "        f\"max: {stats['max_members'][i]}\\n\"\n",
    "        f\"med: {stats['median_members'][i]}\\n\"\n",
    "        f\"avg: {stats['avg_members'][i]:.2f}\"\n",
    "    )\n",
    "    plt.text(level, 85, text, horizontalalignment=\"center\", fontsize=9)\n",
    "\n",
    "plt.show()"
   ]
  },
  {
   "cell_type": "markdown",
   "id": "8385cc7e-d36f-4b12-b90e-1d2d7f2b6096",
   "metadata": {},
   "source": [
    "The Leiden algorithm identified three levels of communities, where the communities on higher levels are larger on average. However, there are some technical details that I'm not aware of because if you check the all_members count, and you can see that each level has a different number of all nodes, even though they should be the same in theory. Also, if communities merge at higher levels, why do we have 19 communities on level 0 and 22 on level 1? The authors have done some optimizations and tricks here, which I haven't had a time to explore in detail yet.\n",
    "## Implementing retrievers\n",
    "In the last part of this blog post, we will discuss the local and global retrievers as specified in the MSFT GraphRAG. The retrievers will be implemented and integrated with LangChain and LlamaIndex.\n",
    "### Local retriever\n",
    "The local retriever starts by using vector search to identify relevant nodes, and then collects linked information and injects it into the LLM prompt.\n",
    "\n",
    "![image](https://cdn-images-1.medium.com/max/800/1*lInV6WWTDXYEVI1NS3KV9g.png)\n",
    "\n",
    "While this diagram might look complex, it can be easily implemented. We start by identifying relevant entities using a vector similarity search based on text embeddings of entity descriptions. Once the relevant entities are identified, we can traverse to related text chunks, relationships, community summaries, and so on. The pattern of using vector similarity search and then traversing throughout the graph can easily be implemented using a retrieval_query feature in both LangChain and LlamaIndex.\n",
    "\n",
    "First, we need to configure the vector index."
   ]
  },
  {
   "cell_type": "code",
   "execution_count": 12,
   "id": "1b1ec651-aad5-4642-b8b5-fc4712f42630",
   "metadata": {},
   "outputs": [
    {
     "data": {
      "text/html": [
       "<div>\n",
       "<style scoped>\n",
       "    .dataframe tbody tr th:only-of-type {\n",
       "        vertical-align: middle;\n",
       "    }\n",
       "\n",
       "    .dataframe tbody tr th {\n",
       "        vertical-align: top;\n",
       "    }\n",
       "\n",
       "    .dataframe thead th {\n",
       "        text-align: right;\n",
       "    }\n",
       "</style>\n",
       "<table border=\"1\" class=\"dataframe\">\n",
       "  <thead>\n",
       "    <tr style=\"text-align: right;\">\n",
       "      <th></th>\n",
       "    </tr>\n",
       "  </thead>\n",
       "  <tbody>\n",
       "  </tbody>\n",
       "</table>\n",
       "</div>"
      ],
      "text/plain": [
       "Empty DataFrame\n",
       "Columns: []\n",
       "Index: []"
      ]
     },
     "execution_count": 12,
     "metadata": {},
     "output_type": "execute_result"
    }
   ],
   "source": [
    "index_name = \"entity\"\n",
    "\n",
    "db_query(\n",
    "    \"\"\"\n",
    "CREATE VECTOR INDEX \"\"\"\n",
    "    + index_name\n",
    "    + \"\"\" IF NOT EXISTS FOR (e:__Entity__) ON e.description_embedding\n",
    "OPTIONS {indexConfig: {\n",
    " `vector.dimensions`: 1536,\n",
    " `vector.similarity_function`: 'cosine'\n",
    "}}\n",
    "\"\"\"\n",
    ")"
   ]
  },
  {
   "cell_type": "markdown",
   "id": "e7a90671-ed42-40c3-a920-ea2ed822c2ba",
   "metadata": {},
   "source": [
    "We'll also calculate and store the community weight, which is defined as the number of distinct text chunks the entities in the community appear."
   ]
  },
  {
   "cell_type": "code",
   "execution_count": 13,
   "id": "633005e0-3b14-4cbc-8990-606cb2717fc6",
   "metadata": {},
   "outputs": [
    {
     "data": {
      "text/html": [
       "<div>\n",
       "<style scoped>\n",
       "    .dataframe tbody tr th:only-of-type {\n",
       "        vertical-align: middle;\n",
       "    }\n",
       "\n",
       "    .dataframe tbody tr th {\n",
       "        vertical-align: top;\n",
       "    }\n",
       "\n",
       "    .dataframe thead th {\n",
       "        text-align: right;\n",
       "    }\n",
       "</style>\n",
       "<table border=\"1\" class=\"dataframe\">\n",
       "  <thead>\n",
       "    <tr style=\"text-align: right;\">\n",
       "      <th></th>\n",
       "    </tr>\n",
       "  </thead>\n",
       "  <tbody>\n",
       "  </tbody>\n",
       "</table>\n",
       "</div>"
      ],
      "text/plain": [
       "Empty DataFrame\n",
       "Columns: []\n",
       "Index: []"
      ]
     },
     "execution_count": 13,
     "metadata": {},
     "output_type": "execute_result"
    }
   ],
   "source": [
    "db_query(\n",
    "    \"\"\"\n",
    "MATCH (n:`__Community__`)<-[:IN_COMMUNITY]-()<-[:HAS_ENTITY]-(c)\n",
    "WITH n, count(distinct c) AS chunkCount\n",
    "SET n.weight = chunkCount\"\"\"\n",
    ")"
   ]
  },
  {
   "cell_type": "markdown",
   "id": "322a608e-0b73-42ba-845e-73a6b649757d",
   "metadata": {},
   "source": [
    "The number of candidates (text units, community reports, …) from each section is configurable. While the original implementation has slightly more involved filtering based on token counts, we'll simplify it here. I developed the following simplified top candidate filter values based on the default configuration values."
   ]
  },
  {
   "cell_type": "code",
   "execution_count": 14,
   "id": "b28d3841-a88f-407b-ba68-23a702c3248c",
   "metadata": {},
   "outputs": [],
   "source": [
    "topChunks = 3\n",
    "topCommunities = 3\n",
    "topOutsideRels = 10\n",
    "topInsideRels = 10\n",
    "topEntities = 10"
   ]
  },
  {
   "cell_type": "markdown",
   "id": "5fa3fde7-b2ad-4cb8-996c-93ebd8e41583",
   "metadata": {},
   "source": [
    "We will start with LangChain implementation. The only thing we need to define is the retrieval_query , which is more involved."
   ]
  },
  {
   "cell_type": "code",
   "execution_count": 15,
   "id": "c3df7c79-660e-4114-8427-7a436295e109",
   "metadata": {},
   "outputs": [],
   "source": [
    "lc_retrieval_query = \"\"\"\n",
    "WITH collect(node) as nodes\n",
    "// Entity - Text Unit Mapping\n",
    "WITH\n",
    "collect {\n",
    "    UNWIND nodes as n\n",
    "    MATCH (n)<-[:HAS_ENTITY]->(c:__Chunk__)\n",
    "    WITH c, count(distinct n) as freq\n",
    "    RETURN c.text AS chunkText\n",
    "    ORDER BY freq DESC\n",
    "    LIMIT $topChunks\n",
    "} AS text_mapping,\n",
    "// Entity - Report Mapping\n",
    "collect {\n",
    "    UNWIND nodes as n\n",
    "    MATCH (n)-[:IN_COMMUNITY]->(c:__Community__)\n",
    "    WITH c, c.rank as rank, c.weight AS weight\n",
    "    RETURN c.summary \n",
    "    ORDER BY rank, weight DESC\n",
    "    LIMIT $topCommunities\n",
    "} AS report_mapping,\n",
    "// Outside Relationships \n",
    "collect {\n",
    "    UNWIND nodes as n\n",
    "    MATCH (n)-[r:RELATED]-(m) \n",
    "    WHERE NOT m IN nodes\n",
    "    RETURN r.description AS descriptionText\n",
    "    ORDER BY r.rank, r.weight DESC \n",
    "    LIMIT $topOutsideRels\n",
    "} as outsideRels,\n",
    "// Inside Relationships \n",
    "collect {\n",
    "    UNWIND nodes as n\n",
    "    MATCH (n)-[r:RELATED]-(m) \n",
    "    WHERE m IN nodes\n",
    "    RETURN r.description AS descriptionText\n",
    "    ORDER BY r.rank, r.weight DESC \n",
    "    LIMIT $topInsideRels\n",
    "} as insideRels,\n",
    "// Entities description\n",
    "collect {\n",
    "    UNWIND nodes as n\n",
    "    RETURN n.description AS descriptionText\n",
    "} as entities\n",
    "// We don't have covariates or claims here\n",
    "RETURN {Chunks: text_mapping, Reports: report_mapping, \n",
    "       Relationships: outsideRels + insideRels, \n",
    "       Entities: entities} AS text, 1.0 AS score, {} AS metadata\n",
    "\"\"\"\n",
    "\n",
    "lc_vector = Neo4jVector.from_existing_index(\n",
    "    OpenAIEmbeddings(model=\"text-embedding-3-small\"),\n",
    "    url=NEO4J_URI,\n",
    "    username=NEO4J_USERNAME,\n",
    "    password=NEO4J_PASSWORD,\n",
    "    index_name=index_name,\n",
    "    retrieval_query=lc_retrieval_query,\n",
    ")"
   ]
  },
  {
   "cell_type": "markdown",
   "id": "4aae8ac7-b1dd-4778-9fdf-476b687ef4b6",
   "metadata": {},
   "source": [
    "This Cypher query performs multiple analytical operations on a set of nodes to extract and organize related text data:\n",
    "1. Entity-Text Unit Mapping: For each node, the query identifies linked text chunks (`__Chunk__`), aggregates them by the number of distinct nodes associated with each chunk, and orders them by frequency. The top chunks are returned as `text_mapping`.\n",
    "2. Entity-Report Mapping: For each node, the query finds the associated community (`__Community__`), and returns the summary of the top-ranked communities based on rank and weight.\n",
    "3. Outside Relationships: This section extracts descriptions of relationships (`RELATED`) where the related entity (`m`) is not part of the initial node set. The relationships are ranked and limited to the top external relationships.\n",
    "4. Inside Relationships: Similarly to outside relationships, but this time it considers only relationships where both entities are within the initial set of nodes.\n",
    "5. Entities Description: Simply collects descriptions of each node in the initial set.\n",
    "Finally, the query combines the collected data into a structured result comprising of chunks, reports, internal and external relationships, and entity descriptions, along with a default score and an empty metadata object. You have the option to remove some of the retrieval parts to test how they affect the results.\n",
    "\n",
    "And now you can run the retriever using the following code:"
   ]
  },
  {
   "cell_type": "code",
   "execution_count": 16,
   "id": "51ee7acf-00b5-4edc-9665-c17e8ccf4ee5",
   "metadata": {},
   "outputs": [],
   "source": [
    "docs = lc_vector.similarity_search(\n",
    "    \"What do you know about Cratchitt family?\",\n",
    "    k=topEntities,\n",
    "    params={\n",
    "        \"topChunks\": topChunks,\n",
    "        \"topCommunities\": topCommunities,\n",
    "        \"topOutsideRels\": topOutsideRels,\n",
    "        \"topInsideRels\": topInsideRels,\n",
    "    },\n",
    ")\n",
    "# print(docs[0].page_content)"
   ]
  },
  {
   "cell_type": "markdown",
   "id": "4740238b-d749-4653-ad7d-b3947463c123",
   "metadata": {},
   "source": [
    "The same retrieval pattern can be implemented with LlamaIndex. For LlamaIndex, we first need to add metadata to nodes so that the vector index will work. If the default metadata is not added to the relevant nodes, the vector index will return an error."
   ]
  },
  {
   "cell_type": "code",
   "execution_count": 17,
   "id": "eb29ce7e-2630-451d-a42d-1df6b8f3e015",
   "metadata": {},
   "outputs": [
    {
     "data": {
      "text/html": [
       "<div>\n",
       "<style scoped>\n",
       "    .dataframe tbody tr th:only-of-type {\n",
       "        vertical-align: middle;\n",
       "    }\n",
       "\n",
       "    .dataframe tbody tr th {\n",
       "        vertical-align: top;\n",
       "    }\n",
       "\n",
       "    .dataframe thead th {\n",
       "        text-align: right;\n",
       "    }\n",
       "</style>\n",
       "<table border=\"1\" class=\"dataframe\">\n",
       "  <thead>\n",
       "    <tr style=\"text-align: right;\">\n",
       "      <th></th>\n",
       "    </tr>\n",
       "  </thead>\n",
       "  <tbody>\n",
       "  </tbody>\n",
       "</table>\n",
       "</div>"
      ],
      "text/plain": [
       "Empty DataFrame\n",
       "Columns: []\n",
       "Index: []"
      ]
     },
     "execution_count": 17,
     "metadata": {},
     "output_type": "execute_result"
    }
   ],
   "source": [
    "content = node_to_metadata_dict(TextNode(), remove_text=True, flat_metadata=False)\n",
    "\n",
    "db_query(\n",
    "    \"\"\"\n",
    "  MATCH (e:__Entity__)\n",
    "  SET e += $content\"\"\",\n",
    "    {\"content\": content},\n",
    ")"
   ]
  },
  {
   "cell_type": "markdown",
   "id": "b0c698a9-5b6f-4367-950b-1f3f90cae0c3",
   "metadata": {},
   "source": [
    "Again, we can use the `retrieval_query` feature in LlamaIndex to define the retriever. Unlike with LangChain, we will use the f-string instead of query parameters to pass the top candidate filter parameters."
   ]
  },
  {
   "cell_type": "code",
   "execution_count": 18,
   "id": "4aa8faaf-4d6e-4692-9bff-ebd031b56580",
   "metadata": {},
   "outputs": [],
   "source": [
    "embed_dim = 1536\n",
    "\n",
    "retrieval_query = f\"\"\"\n",
    "WITH collect(node) as nodes\n",
    "// Entity - Text Unit Mapping\n",
    "WITH\n",
    "nodes,\n",
    "collect {{\n",
    "    UNWIND nodes as n\n",
    "    MATCH (n)<-[:HAS_ENTITY]->(c:__Chunk__)\n",
    "    WITH c, count(distinct n) as freq\n",
    "    RETURN c.text AS chunkText\n",
    "    ORDER BY freq DESC\n",
    "    LIMIT {topChunks}\n",
    "}} AS text_mapping,\n",
    "// Entity - Report Mapping\n",
    "collect {{\n",
    "    UNWIND nodes as n\n",
    "    MATCH (n)-[:IN_COMMUNITY]->(c:__Community__)\n",
    "    WITH c, c.rank as rank, c.weight AS weight\n",
    "    RETURN c.summary \n",
    "    ORDER BY rank, weight DESC\n",
    "    LIMIT {topCommunities}\n",
    "}} AS report_mapping,\n",
    "// Outside Relationships \n",
    "collect {{\n",
    "    UNWIND nodes as n\n",
    "    MATCH (n)-[r:RELATED]-(m) \n",
    "    WHERE NOT m IN nodes\n",
    "    RETURN r.description AS descriptionText\n",
    "    ORDER BY r.rank, r.weight DESC \n",
    "    LIMIT {topOutsideRels}\n",
    "}} as outsideRels,\n",
    "// Inside Relationships \n",
    "collect {{\n",
    "    UNWIND nodes as n\n",
    "    MATCH (n)-[r:RELATED]-(m) \n",
    "    WHERE m IN nodes\n",
    "    RETURN r.description AS descriptionText\n",
    "    ORDER BY r.rank, r.weight DESC \n",
    "    LIMIT {topInsideRels}\n",
    "}} as insideRels,\n",
    "// Entities description\n",
    "collect {{\n",
    "    UNWIND nodes as n\n",
    "    RETURN n.description AS descriptionText\n",
    "}} as entities\n",
    "// We don't have covariates or claims here\n",
    "RETURN \"Chunks:\" + apoc.text.join(text_mapping, '|') + \"\\nReports: \" + apoc.text.join(report_mapping,'|') +  \n",
    "       \"\\nRelationships: \" + apoc.text.join(outsideRels + insideRels, '|') + \n",
    "       \"\\nEntities: \" + apoc.text.join(entities, \"|\") AS text, 1.0 AS score, nodes[0].id AS id, \n",
    "       {{_node_type:nodes[0]._node_type, _node_content:nodes[0]._node_content}} AS metadata\n",
    "\"\"\""
   ]
  },
  {
   "cell_type": "markdown",
   "id": "b634a7df-a3e7-4ed7-8115-0524cb06f1c0",
   "metadata": {},
   "source": [
    "Additionally, the return is slightly different. We need to return the node type and content as metadata; otherwise, the retriever will break. Now we just instantiate the Neo4j vector store and use it as a query engine."
   ]
  },
  {
   "cell_type": "code",
   "execution_count": 19,
   "id": "d0c9a177-00ea-4fb1-9087-9d353dd845e2",
   "metadata": {},
   "outputs": [],
   "source": [
    "from llama_index.embeddings.openai import OpenAIEmbedding\n",
    "\n",
    "neo4j_vector = Neo4jVectorStore(\n",
    "    NEO4J_USERNAME,\n",
    "    NEO4J_PASSWORD,\n",
    "    NEO4J_URI,\n",
    "    embed_dim,\n",
    "    index_name=index_name,\n",
    "    retrieval_query=retrieval_query,\n",
    ")\n",
    "loaded_index = VectorStoreIndex.from_vector_store(neo4j_vector).as_query_engine(\n",
    "    similarity_top_k=topEntities, embed_model=OpenAIEmbedding(model=\"text-embedding-3-small\")\n",
    ")"
   ]
  },
  {
   "cell_type": "markdown",
   "id": "06cdf5d9-7348-42ec-8cf3-a52f75f1871b",
   "metadata": {},
   "source": [
    "We can now test the GraphRAG local retriever."
   ]
  },
  {
   "cell_type": "code",
   "execution_count": 20,
   "id": "c43b3f7e-dfad-4d5c-b889-8e913f86ce31",
   "metadata": {},
   "outputs": [
    {
     "name": "stdout",
     "output_type": "stream",
     "text": [
      "Scrooge is an employee who is impacted by the generosity and festive spirit of the Fezziwig family, particularly Mr. and Mrs. Fezziwig. He is involved in the memorable Domestic Ball hosted by the Fezziwigs, which significantly influences his life and contributes to the broader narrative of kindness and community spirit.\n"
     ]
    }
   ],
   "source": [
    "response = loaded_index.query(\"What do you know about Scrooge?\")\n",
    "print(response.response)\n",
    "# print(response.source_nodes[0].text)"
   ]
  },
  {
   "cell_type": "markdown",
   "id": "ae5c66a1-d8d0-406d-a3f2-da75ea24774a",
   "metadata": {},
   "source": [
    "One thing that immediately sparks to mind is that we can improve the local retrieval by using a hybrid approach (vector + keyword) to find relevant entities instead of vector search only.\n",
    "## Global retriever\n",
    "The global retriever architecture is slightly more straightforward. It seems to iterate over all the community summaries on a specified hierarchical level, producing intermediate summaries and then generating a final response based on the intermediate summaries.\n",
    "\n",
    "![image](https://cdn-images-1.medium.com/max/800/1*mcDNDMTmCqVAUv1SnzTtzA.png)\n",
    "\n",
    "We have to decide which define in advance which hierarchical level we want to iterate over, which is a not a simple decision as we have no idea which one would work better. The higher up you go the hierarchical level, the larger the communities get, but there are fewer of them. This is the only information we have without inspecting summaries manually.\n",
    "Other parameters allow us to ignore communities below a rank or weight threshold, which we won't use here. We'll implement the global retriever using LangChain as use the same map and reduce prompts as in the GraphRAG paper."
   ]
  },
  {
   "cell_type": "code",
   "execution_count": 21,
   "id": "aeba3a86-0465-491c-bdd8-9b1e5680b2f3",
   "metadata": {},
   "outputs": [],
   "source": [
    "llm = ChatOpenAI(model=\"gpt-4o-mini\")"
   ]
  },
  {
   "cell_type": "code",
   "execution_count": 22,
   "id": "01cfb6ba-c615-4297-8d5c-6508e6369e4d",
   "metadata": {},
   "outputs": [],
   "source": [
    "MAP_SYSTEM_PROMPT = \"\"\"\n",
    "---Role---\n",
    "\n",
    "You are a helpful assistant responding to questions about data in the tables provided.\n",
    "\n",
    "\n",
    "---Goal---\n",
    "\n",
    "Generate a response consisting of a list of key points that responds to the user's question, summarizing all relevant information in the input data tables.\n",
    "\n",
    "You should use the data provided in the data tables below as the primary context for generating the response.\n",
    "If you don't know the answer or if the input data tables do not contain sufficient information to provide an answer, just say so. Do not make anything up.\n",
    "\n",
    "Each key point in the response should have the following element:\n",
    "- Description: A comprehensive description of the point.\n",
    "- Importance Score: An integer score between 0-100 that indicates how important the point is in answering the user's question. An 'I don't know' type of response should have a score of 0.\n",
    "\n",
    "The response should be JSON formatted as follows:\n",
    "{{\n",
    "    \"points\": [\n",
    "        {{\"description\": \"Description of point 1 [Data: Reports (report ids)]\", \"score\": score_value}},\n",
    "        {{\"description\": \"Description of point 2 [Data: Reports (report ids)]\", \"score\": score_value}}\n",
    "    ]\n",
    "}}\n",
    "\n",
    "The response shall preserve the original meaning and use of modal verbs such as \"shall\", \"may\" or \"will\".\n",
    "\n",
    "Points supported by data should list the relevant reports as references as follows:\n",
    "\"This is an example sentence supported by data references [Data: Reports (report ids)]\"\n",
    "\n",
    "**Do not list more than 5 record ids in a single reference**. Instead, list the top 5 most relevant record ids and add \"+more\" to indicate that there are more.\n",
    "\n",
    "For example:\n",
    "\"Person X is the owner of Company Y and subject to many allegations of wrongdoing [Data: Reports (2, 7, 64, 46, 34, +more)]. He is also CEO of company X [Data: Reports (1, 3)]\"\n",
    "\n",
    "where 1, 2, 3, 7, 34, 46, and 64 represent the id (not the index) of the relevant data report in the provided tables.\n",
    "\n",
    "Do not include information where the supporting evidence for it is not provided.\n",
    "\n",
    "\n",
    "---Data tables---\n",
    "\n",
    "{context_data}\n",
    "\n",
    "---Goal---\n",
    "\n",
    "Generate a response consisting of a list of key points that responds to the user's question, summarizing all relevant information in the input data tables.\n",
    "\n",
    "You should use the data provided in the data tables below as the primary context for generating the response.\n",
    "If you don't know the answer or if the input data tables do not contain sufficient information to provide an answer, just say so. Do not make anything up.\n",
    "\n",
    "Each key point in the response should have the following element:\n",
    "- Description: A comprehensive description of the point.\n",
    "- Importance Score: An integer score between 0-100 that indicates how important the point is in answering the user's question. An 'I don't know' type of response should have a score of 0.\n",
    "\n",
    "The response shall preserve the original meaning and use of modal verbs such as \"shall\", \"may\" or \"will\".\n",
    "\n",
    "Points supported by data should list the relevant reports as references as follows:\n",
    "\"This is an example sentence supported by data references [Data: Reports (report ids)]\"\n",
    "\n",
    "**Do not list more than 5 record ids in a single reference**. Instead, list the top 5 most relevant record ids and add \"+more\" to indicate that there are more.\n",
    "\n",
    "For example:\n",
    "\"Person X is the owner of Company Y and subject to many allegations of wrongdoing [Data: Reports (2, 7, 64, 46, 34, +more)]. He is also CEO of company X [Data: Reports (1, 3)]\"\n",
    "\n",
    "where 1, 2, 3, 7, 34, 46, and 64 represent the id (not the index) of the relevant data report in the provided tables.\n",
    "\n",
    "Do not include information where the supporting evidence for it is not provided.\n",
    "\n",
    "The response should be JSON formatted as follows:\n",
    "{{\n",
    "    \"points\": [\n",
    "        {{\"description\": \"Description of point 1 [Data: Reports (report ids)]\", \"score\": score_value}},\n",
    "        {{\"description\": \"Description of point 2 [Data: Reports (report ids)]\", \"score\": score_value}}\n",
    "    ]\n",
    "}}\n",
    "\"\"\"\n",
    "\n",
    "map_prompt = ChatPromptTemplate.from_messages(\n",
    "    [\n",
    "        (\n",
    "            \"system\",\n",
    "            MAP_SYSTEM_PROMPT,\n",
    "        ),\n",
    "        (\n",
    "            \"human\",\n",
    "            \"{question}\",\n",
    "        ),\n",
    "    ]\n",
    ")\n",
    "\n",
    "map_chain = map_prompt | llm | StrOutputParser()"
   ]
  },
  {
   "cell_type": "code",
   "execution_count": 23,
   "id": "82232a30-f697-4eff-ae1e-fc1e6441c926",
   "metadata": {},
   "outputs": [],
   "source": [
    "REDUCE_SYSTEM_PROMPT = \"\"\"\n",
    "---Role---\n",
    "\n",
    "You are a helpful assistant responding to questions about a dataset by synthesizing perspectives from multiple analysts.\n",
    "\n",
    "\n",
    "---Goal---\n",
    "\n",
    "Generate a response of the target length and format that responds to the user's question, summarize all the reports from multiple analysts who focused on different parts of the dataset.\n",
    "\n",
    "Note that the analysts' reports provided below are ranked in the **descending order of importance**.\n",
    "\n",
    "If you don't know the answer or if the provided reports do not contain sufficient information to provide an answer, just say so. Do not make anything up.\n",
    "\n",
    "The final response should remove all irrelevant information from the analysts' reports and merge the cleaned information into a comprehensive answer that provides explanations of all the key points and implications appropriate for the response length and format.\n",
    "\n",
    "Add sections and commentary to the response as appropriate for the length and format. Style the response in markdown.\n",
    "\n",
    "The response shall preserve the original meaning and use of modal verbs such as \"shall\", \"may\" or \"will\".\n",
    "\n",
    "The response should also preserve all the data references previously included in the analysts' reports, but do not mention the roles of multiple analysts in the analysis process.\n",
    "\n",
    "**Do not list more than 5 record ids in a single reference**. Instead, list the top 5 most relevant record ids and add \"+more\" to indicate that there are more.\n",
    "\n",
    "For example:\n",
    "\n",
    "\"Person X is the owner of Company Y and subject to many allegations of wrongdoing [Data: Reports (2, 7, 34, 46, 64, +more)]. He is also CEO of company X [Data: Reports (1, 3)]\"\n",
    "\n",
    "where 1, 2, 3, 7, 34, 46, and 64 represent the id (not the index) of the relevant data record.\n",
    "\n",
    "Do not include information where the supporting evidence for it is not provided.\n",
    "\n",
    "\n",
    "---Target response length and format---\n",
    "\n",
    "{response_type}\n",
    "\n",
    "\n",
    "---Analyst Reports---\n",
    "\n",
    "{report_data}\n",
    "\n",
    "\n",
    "---Goal---\n",
    "\n",
    "Generate a response of the target length and format that responds to the user's question, summarize all the reports from multiple analysts who focused on different parts of the dataset.\n",
    "\n",
    "Note that the analysts' reports provided below are ranked in the **descending order of importance**.\n",
    "\n",
    "If you don't know the answer or if the provided reports do not contain sufficient information to provide an answer, just say so. Do not make anything up.\n",
    "\n",
    "The final response should remove all irrelevant information from the analysts' reports and merge the cleaned information into a comprehensive answer that provides explanations of all the key points and implications appropriate for the response length and format.\n",
    "\n",
    "The response shall preserve the original meaning and use of modal verbs such as \"shall\", \"may\" or \"will\".\n",
    "\n",
    "The response should also preserve all the data references previously included in the analysts' reports, but do not mention the roles of multiple analysts in the analysis process.\n",
    "\n",
    "**Do not list more than 5 record ids in a single reference**. Instead, list the top 5 most relevant record ids and add \"+more\" to indicate that there are more.\n",
    "\n",
    "For example:\n",
    "\n",
    "\"Person X is the owner of Company Y and subject to many allegations of wrongdoing [Data: Reports (2, 7, 34, 46, 64, +more)]. He is also CEO of company X [Data: Reports (1, 3)]\"\n",
    "\n",
    "where 1, 2, 3, 7, 34, 46, and 64 represent the id (not the index) of the relevant data record.\n",
    "\n",
    "Do not include information where the supporting evidence for it is not provided.\n",
    "\n",
    "\n",
    "---Target response length and format---\n",
    "\n",
    "{response_type}\n",
    "\n",
    "Add sections and commentary to the response as appropriate for the length and format. Style the response in markdown.\n",
    "\"\"\"\n",
    "\n",
    "reduce_prompt = ChatPromptTemplate.from_messages(\n",
    "    [\n",
    "        (\n",
    "            \"system\",\n",
    "            REDUCE_SYSTEM_PROMPT,\n",
    "        ),\n",
    "        (\n",
    "            \"human\",\n",
    "            \"{question}\",\n",
    "        ),\n",
    "    ]\n",
    ")\n",
    "reduce_chain = reduce_prompt | llm | StrOutputParser()"
   ]
  },
  {
   "cell_type": "code",
   "execution_count": 24,
   "id": "a540069d-eaf3-4618-ad9d-ae3d9075c513",
   "metadata": {},
   "outputs": [],
   "source": [
    "graph = Neo4jGraph(\n",
    "    url=NEO4J_URI,\n",
    "    username=NEO4J_USERNAME,\n",
    "    password=NEO4J_PASSWORD,\n",
    "    refresh_schema=False,\n",
    ")\n",
    "\n",
    "response_type: str = \"multiple paragraphs\"\n",
    "\n",
    "\n",
    "def global_retriever(query: str, level: int, response_type: str = response_type) -> str:\n",
    "    community_data = graph.query(\n",
    "        \"\"\"\n",
    "    MATCH (c:__Community__)\n",
    "    WHERE c.level = $level\n",
    "    RETURN c.full_content AS output\n",
    "    \"\"\",\n",
    "        params={\"level\": level},\n",
    "    )\n",
    "    intermediate_results = []\n",
    "    for community in tqdm(community_data, desc=\"Processing communities\"):\n",
    "        intermediate_response = map_chain.invoke(\n",
    "            {\"question\": query, \"context_data\": community[\"output\"]}\n",
    "        )\n",
    "        intermediate_results.append(intermediate_response)\n",
    "    final_response = reduce_chain.invoke(\n",
    "        {\n",
    "            \"report_data\": intermediate_results,\n",
    "            \"question\": query,\n",
    "            \"response_type\": response_type,\n",
    "        }\n",
    "    )\n",
    "    return final_response"
   ]
  },
  {
   "cell_type": "markdown",
   "id": "70d24c01-9121-41c3-9eaa-9f1984e4468e",
   "metadata": {},
   "source": [
    "Let's now test it."
   ]
  },
  {
   "cell_type": "code",
   "execution_count": 25,
   "id": "70451a68-274f-442f-8a2e-3b53cbafcd27",
   "metadata": {
    "scrolled": true
   },
   "outputs": [
    {
     "name": "stderr",
     "output_type": "stream",
     "text": [
      "Processing communities: 100%|██████████| 6/6 [00:35<00:00,  5.90s/it]\n"
     ]
    },
    {
     "name": "stdout",
     "output_type": "stream",
     "text": [
      "### Overview of the Story\n",
      "\n",
      "The narrative primarily revolves around Ebenezer Scrooge, a miser with a deep aversion to Christmas and a cynical worldview. His transformation is sparked by the visitation of Jacob Marley's ghost, who serves as a catalyst for change by warning Scrooge of the dire consequences of his actions. This encounter leads to the appearance of three spirits—representing the past, present, and future—who guide Scrooge through moments of self-reflection, ultimately encouraging him to embrace the spirit of Christmas and human kindness [Data: Reports (32, 17, 99, 86, +more)].\n",
      "\n",
      "### Key Characters and Themes\n",
      "\n",
      "**Jacob Marley and the Spirits:**  \n",
      "Marley's ghost plays a vital role in instigating Scrooge's introspection, highlighting the weight of his past actions and the need for redemption. The three spirits that follow reveal to Scrooge the importance of compassion and community, emphasizing the potential for personal growth through empathy [Data: Reports (86, 17, 99, +more)].\n",
      "\n",
      "**The Cratchit Family:**  \n",
      "The Cratchit family significantly influences Scrooge's transformation, particularly through the character of Tiny Tim, who symbolizes hope and vulnerability amidst hardship. Scrooge's visions regarding their struggles lead him to develop empathy and ultimately decide to improve their circumstances, showcasing his commitment to positive change [Data: Reports (25, 158, 159, +more)].\n",
      "\n",
      "### Societal Implications\n",
      "\n",
      "Scrooge's transformation carries broader societal implications. His newfound generosity challenges the social norms of his time, promoting themes of inclusivity, kindness, and social responsibility. His evolving relationships with his nephew and the townspeople reflect a shift toward a more compassionate society, suggesting that individual transformation can inspire community-wide change [Data: Reports (99, 37, 104, 194, +more)].\n",
      "\n",
      "### Conclusion\n",
      "\n",
      "The enduring legacy of Scrooge's transformation serves as a symbol of hope and the possibility of change. The story emphasizes the power of empathy, introspection, and the spirit of giving, making it a timeless narrative that resonates with themes of redemption and the importance of familial love during the holiday season [Data: Reports (32, 102, 126, 148, 158, 159, +more)].\n"
     ]
    }
   ],
   "source": [
    "print(global_retriever(\"What is the story about?\", 2))"
   ]
  },
  {
   "cell_type": "markdown",
   "id": "024ab439-1744-4ad1-9e60-1616a31e0ba4",
   "metadata": {},
   "source": [
    "## Summary\n",
    "In this blog post we demonstrated how to integrate Microsoft's GraphRAG into Neo4j and implement retrievers using LangChain and LlamaIndex. This should allows you to integrate GraphRAG with other retrievers or agents seamlessly. The local retriever combines vector similarity search with graph traversal, while the global retriever iterates over community summaries to generate comprehensive responses. This implementation showcases the power of combining structured knowledge graphs with language models for enhanced information retrieval and question answering. It's important to note that there is room for customization and experimentation with such a knowledge graph, which we will look into in the next blog post."
   ]
  },
  {
   "cell_type": "code",
   "execution_count": null,
   "id": "fc5f4cb9-ea8c-49b4-852c-4bf017b7e1d0",
   "metadata": {},
   "outputs": [],
   "source": []
  },
  {
   "cell_type": "code",
   "execution_count": null,
   "id": "38dd3e90-282e-43c0-8c9d-bfcb08e49302",
   "metadata": {},
   "outputs": [],
   "source": []
  }
 ],
 "metadata": {
  "kernelspec": {
   "display_name": "Python 3 (ipykernel)",
   "language": "python",
   "name": "python3"
  },
  "language_info": {
   "codemirror_mode": {
    "name": "ipython",
    "version": 3
   },
   "file_extension": ".py",
   "mimetype": "text/x-python",
   "name": "python",
   "nbconvert_exporter": "python",
   "pygments_lexer": "ipython3",
   "version": "3.11.5"
  }
 },
 "nbformat": 4,
 "nbformat_minor": 5
}
